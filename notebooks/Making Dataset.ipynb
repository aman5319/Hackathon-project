{
 "cells": [
  {
   "cell_type": "code",
   "execution_count": 66,
   "metadata": {
    "ExecuteTime": {
     "end_time": "2020-04-11T17:30:45.571326Z",
     "start_time": "2020-04-11T17:30:45.563651Z"
    }
   },
   "outputs": [],
   "source": [
    "import pandas as pd\n",
    "import datetime\n",
    "import numpy as np\n",
    "import seaborn as sns\n",
    "import matplotlib.pyplot as plt\n",
    "from functools import reduce\n",
    "from collections import Counter\n"
   ]
  },
  {
   "cell_type": "code",
   "execution_count": 67,
   "metadata": {
    "ExecuteTime": {
     "end_time": "2020-04-11T17:30:45.916564Z",
     "start_time": "2020-04-11T17:30:45.872565Z"
    }
   },
   "outputs": [],
   "source": [
    "df = pd.read_csv(\"../data/raw/train_8wry4cB.csv\")"
   ]
  },
  {
   "cell_type": "code",
   "execution_count": 68,
   "metadata": {
    "ExecuteTime": {
     "end_time": "2020-04-11T17:30:46.195220Z",
     "start_time": "2020-04-11T17:30:46.190447Z"
    }
   },
   "outputs": [],
   "source": [
    "def standard_datetime(column,format: str =\"%d/%m/%y %H:%M\"):\n",
    "    return pd.to_datetime(column , format=format)"
   ]
  },
  {
   "cell_type": "code",
   "execution_count": 69,
   "metadata": {
    "ExecuteTime": {
     "end_time": "2020-04-11T17:30:46.562403Z",
     "start_time": "2020-04-11T17:30:46.546888Z"
    }
   },
   "outputs": [],
   "source": [
    "def standardize(df,drop_session_id=False):\n",
    "    df.startTime = standard_datetime(df.startTime)\n",
    "    df.endTime = standard_datetime(df.endTime)\n",
    "    df.rename(columns={\"ProductList\":\"product_list\",\"startTime\":\"start_time\",\"endTime\":\"end_time\"},inplace=True)\n",
    "    if not drop_session_id:\n",
    "        df.drop(columns=[\"session_id\"],inplace=True)\n",
    "\n",
    "    for index,value in enumerate([\"cat\" , \"sub-cat\",\"sub-sub-cat\",\"product\"]):\n",
    "        df[value] = df.product_list.apply(lambda x : [i.split(\"/\")[index] for i in x.split(\";\")])\n",
    "    return df"
   ]
  },
  {
   "cell_type": "code",
   "execution_count": 70,
   "metadata": {
    "ExecuteTime": {
     "end_time": "2020-04-11T17:30:47.713037Z",
     "start_time": "2020-04-11T17:30:47.478147Z"
    }
   },
   "outputs": [
    {
     "data": {
      "text/html": [
       "<div>\n",
       "<style scoped>\n",
       "    .dataframe tbody tr th:only-of-type {\n",
       "        vertical-align: middle;\n",
       "    }\n",
       "\n",
       "    .dataframe tbody tr th {\n",
       "        vertical-align: top;\n",
       "    }\n",
       "\n",
       "    .dataframe thead th {\n",
       "        text-align: right;\n",
       "    }\n",
       "</style>\n",
       "<table border=\"1\" class=\"dataframe\">\n",
       "  <thead>\n",
       "    <tr style=\"text-align: right;\">\n",
       "      <th></th>\n",
       "      <th>start_time</th>\n",
       "      <th>end_time</th>\n",
       "      <th>product_list</th>\n",
       "      <th>gender</th>\n",
       "      <th>cat</th>\n",
       "      <th>sub-cat</th>\n",
       "      <th>sub-sub-cat</th>\n",
       "      <th>product</th>\n",
       "    </tr>\n",
       "  </thead>\n",
       "  <tbody>\n",
       "    <tr>\n",
       "      <th>0</th>\n",
       "      <td>2014-12-15 18:11:00</td>\n",
       "      <td>2014-12-15 18:12:00</td>\n",
       "      <td>A00002/B00003/C00006/D28435/;A00002/B00003/C00...</td>\n",
       "      <td>female</td>\n",
       "      <td>[A00002, A00002, A00002, A00002]</td>\n",
       "      <td>[B00003, B00003, B00003, B00003]</td>\n",
       "      <td>[C00006, C00006, C00006, C00006]</td>\n",
       "      <td>[D28435, D02554, D28436, D28437]</td>\n",
       "    </tr>\n",
       "    <tr>\n",
       "      <th>1</th>\n",
       "      <td>2014-12-16 14:35:00</td>\n",
       "      <td>2014-12-16 14:41:00</td>\n",
       "      <td>A00001/B00009/C00031/D29404/;A00001/B00009/C00...</td>\n",
       "      <td>male</td>\n",
       "      <td>[A00001, A00001, A00001, A00001, A00001, A0000...</td>\n",
       "      <td>[B00009, B00009, B00009, B00009, B00009, B0000...</td>\n",
       "      <td>[C00031, C00031, C00031, C00031, C00031, C0003...</td>\n",
       "      <td>[D29404, D02617, D29407, D29410, D29411, D2544...</td>\n",
       "    </tr>\n",
       "    <tr>\n",
       "      <th>2</th>\n",
       "      <td>2014-12-01 15:58:00</td>\n",
       "      <td>2014-12-01 15:58:00</td>\n",
       "      <td>A00002/B00001/C00020/D16944/</td>\n",
       "      <td>female</td>\n",
       "      <td>[A00002]</td>\n",
       "      <td>[B00001]</td>\n",
       "      <td>[C00020]</td>\n",
       "      <td>[D16944]</td>\n",
       "    </tr>\n",
       "    <tr>\n",
       "      <th>3</th>\n",
       "      <td>2014-11-23 02:57:00</td>\n",
       "      <td>2014-11-23 03:00:00</td>\n",
       "      <td>A00002/B00004/C00018/D10284/;A00002/B00004/C00...</td>\n",
       "      <td>female</td>\n",
       "      <td>[A00002, A00002, A00002]</td>\n",
       "      <td>[B00004, B00004, B00004]</td>\n",
       "      <td>[C00018, C00018, C00018]</td>\n",
       "      <td>[D10284, D10285, D10286]</td>\n",
       "    </tr>\n",
       "    <tr>\n",
       "      <th>4</th>\n",
       "      <td>2014-12-17 16:44:00</td>\n",
       "      <td>2014-12-17 16:46:00</td>\n",
       "      <td>A00001/B00001/C00012/D30805/;A00001/B00001/C00...</td>\n",
       "      <td>male</td>\n",
       "      <td>[A00001, A00001]</td>\n",
       "      <td>[B00001, B00001]</td>\n",
       "      <td>[C00012, C00012]</td>\n",
       "      <td>[D30805, D30806]</td>\n",
       "    </tr>\n",
       "  </tbody>\n",
       "</table>\n",
       "</div>"
      ],
      "text/plain": [
       "           start_time            end_time  \\\n",
       "0 2014-12-15 18:11:00 2014-12-15 18:12:00   \n",
       "1 2014-12-16 14:35:00 2014-12-16 14:41:00   \n",
       "2 2014-12-01 15:58:00 2014-12-01 15:58:00   \n",
       "3 2014-11-23 02:57:00 2014-11-23 03:00:00   \n",
       "4 2014-12-17 16:44:00 2014-12-17 16:46:00   \n",
       "\n",
       "                                        product_list  gender  \\\n",
       "0  A00002/B00003/C00006/D28435/;A00002/B00003/C00...  female   \n",
       "1  A00001/B00009/C00031/D29404/;A00001/B00009/C00...    male   \n",
       "2                       A00002/B00001/C00020/D16944/  female   \n",
       "3  A00002/B00004/C00018/D10284/;A00002/B00004/C00...  female   \n",
       "4  A00001/B00001/C00012/D30805/;A00001/B00001/C00...    male   \n",
       "\n",
       "                                                 cat  \\\n",
       "0                   [A00002, A00002, A00002, A00002]   \n",
       "1  [A00001, A00001, A00001, A00001, A00001, A0000...   \n",
       "2                                           [A00002]   \n",
       "3                           [A00002, A00002, A00002]   \n",
       "4                                   [A00001, A00001]   \n",
       "\n",
       "                                             sub-cat  \\\n",
       "0                   [B00003, B00003, B00003, B00003]   \n",
       "1  [B00009, B00009, B00009, B00009, B00009, B0000...   \n",
       "2                                           [B00001]   \n",
       "3                           [B00004, B00004, B00004]   \n",
       "4                                   [B00001, B00001]   \n",
       "\n",
       "                                         sub-sub-cat  \\\n",
       "0                   [C00006, C00006, C00006, C00006]   \n",
       "1  [C00031, C00031, C00031, C00031, C00031, C0003...   \n",
       "2                                           [C00020]   \n",
       "3                           [C00018, C00018, C00018]   \n",
       "4                                   [C00012, C00012]   \n",
       "\n",
       "                                             product  \n",
       "0                   [D28435, D02554, D28436, D28437]  \n",
       "1  [D29404, D02617, D29407, D29410, D29411, D2544...  \n",
       "2                                           [D16944]  \n",
       "3                           [D10284, D10285, D10286]  \n",
       "4                                   [D30805, D30806]  "
      ]
     },
     "execution_count": 70,
     "metadata": {},
     "output_type": "execute_result"
    }
   ],
   "source": [
    "standardize(df)\n",
    "df.head()"
   ]
  },
  {
   "cell_type": "markdown",
   "metadata": {
    "ExecuteTime": {
     "end_time": "2020-04-11T09:51:51.707624Z",
     "start_time": "2020-04-11T09:51:51.546235Z"
    }
   },
   "source": [
    "# Making Datetime feature"
   ]
  },
  {
   "cell_type": "code",
   "execution_count": 71,
   "metadata": {
    "ExecuteTime": {
     "end_time": "2020-04-11T17:30:49.958941Z",
     "start_time": "2020-04-11T17:30:49.953721Z"
    }
   },
   "outputs": [],
   "source": [
    "def set_day(df):\n",
    "    weeks_day = ['Monday', 'Friday', 'Saturday', 'Tuesday', 'Sunday', 'Wednesday', 'Thursday']\n",
    "    a = df.start_time.dt.day_name()\n",
    "    for i in weeks_day:\n",
    "        df[i] = (a == i)\n",
    "    return df"
   ]
  },
  {
   "cell_type": "code",
   "execution_count": 72,
   "metadata": {
    "ExecuteTime": {
     "end_time": "2020-04-11T17:30:50.329340Z",
     "start_time": "2020-04-11T17:30:50.324752Z"
    }
   },
   "outputs": [],
   "source": [
    "def set_month_start(df):\n",
    "    df[\"month_start\"] = df.start_time.dt.is_month_start\n",
    "    return df"
   ]
  },
  {
   "cell_type": "code",
   "execution_count": 73,
   "metadata": {
    "ExecuteTime": {
     "end_time": "2020-04-11T17:30:50.681417Z",
     "start_time": "2020-04-11T17:30:50.675165Z"
    }
   },
   "outputs": [],
   "source": [
    "def set_weeks(df):\n",
    "    weeks = [51, 50, 49, 47, 48, 46, 52]\n",
    "    a = df.start_time.dt.weekofyear\n",
    "    for i in weeks:\n",
    "        df[f\"week_{i}\"] = (a==i)\n",
    "    return df"
   ]
  },
  {
   "cell_type": "code",
   "execution_count": 74,
   "metadata": {
    "ExecuteTime": {
     "end_time": "2020-04-11T17:30:51.047178Z",
     "start_time": "2020-04-11T17:30:51.032299Z"
    }
   },
   "outputs": [],
   "source": [
    "def set_interval_time(df , interval=\"3H\"):\n",
    "    df[\"st\"] = pd.to_datetime(df.start_time.dt.strftime(\"%H:%M\"),format=\"%H:%M\")\n",
    "    bins = df.groupby(pd.Grouper(key = \"st\",freq=interval)).count().index\n",
    "    bins = [(i,j-pd.Timedelta(seconds=1)) for i,j in zip(bins[:-1],bins[1:])] + [(bins[-1] , bins[0]- pd.Timedelta(seconds=1))]\n",
    "    for i , j in bins:\n",
    "        df[f\"time_{i.time().hour}\"] = df.st.between(i,j)\n",
    "    return df"
   ]
  },
  {
   "cell_type": "code",
   "execution_count": 75,
   "metadata": {
    "ExecuteTime": {
     "end_time": "2020-04-11T17:30:51.442659Z",
     "start_time": "2020-04-11T17:30:51.433395Z"
    }
   },
   "outputs": [],
   "source": [
    "def set_duration(df):\n",
    "    a =(df[\"end_time\"] - df[\"start_time\"]).dt.seconds/60\n",
    "    a[a > a.quantile(0.97)] = a.quantile(0.97) \n",
    "    df[\"duration\"] = a\n",
    "    return df"
   ]
  },
  {
   "cell_type": "code",
   "execution_count": 76,
   "metadata": {
    "ExecuteTime": {
     "end_time": "2020-04-11T17:30:52.117859Z",
     "start_time": "2020-04-11T17:30:51.866967Z"
    }
   },
   "outputs": [
    {
     "data": {
      "text/html": [
       "<div>\n",
       "<style scoped>\n",
       "    .dataframe tbody tr th:only-of-type {\n",
       "        vertical-align: middle;\n",
       "    }\n",
       "\n",
       "    .dataframe tbody tr th {\n",
       "        vertical-align: top;\n",
       "    }\n",
       "\n",
       "    .dataframe thead th {\n",
       "        text-align: right;\n",
       "    }\n",
       "</style>\n",
       "<table border=\"1\" class=\"dataframe\">\n",
       "  <thead>\n",
       "    <tr style=\"text-align: right;\">\n",
       "      <th></th>\n",
       "      <th>start_time</th>\n",
       "      <th>end_time</th>\n",
       "      <th>product_list</th>\n",
       "      <th>gender</th>\n",
       "      <th>cat</th>\n",
       "      <th>sub-cat</th>\n",
       "      <th>sub-sub-cat</th>\n",
       "      <th>product</th>\n",
       "      <th>Monday</th>\n",
       "      <th>Friday</th>\n",
       "      <th>...</th>\n",
       "      <th>st</th>\n",
       "      <th>time_0</th>\n",
       "      <th>time_3</th>\n",
       "      <th>time_6</th>\n",
       "      <th>time_9</th>\n",
       "      <th>time_12</th>\n",
       "      <th>time_15</th>\n",
       "      <th>time_18</th>\n",
       "      <th>time_21</th>\n",
       "      <th>duration</th>\n",
       "    </tr>\n",
       "  </thead>\n",
       "  <tbody>\n",
       "    <tr>\n",
       "      <th>0</th>\n",
       "      <td>2014-12-15 18:11:00</td>\n",
       "      <td>2014-12-15 18:12:00</td>\n",
       "      <td>A00002/B00003/C00006/D28435/;A00002/B00003/C00...</td>\n",
       "      <td>female</td>\n",
       "      <td>[A00002, A00002, A00002, A00002]</td>\n",
       "      <td>[B00003, B00003, B00003, B00003]</td>\n",
       "      <td>[C00006, C00006, C00006, C00006]</td>\n",
       "      <td>[D28435, D02554, D28436, D28437]</td>\n",
       "      <td>True</td>\n",
       "      <td>False</td>\n",
       "      <td>...</td>\n",
       "      <td>1900-01-01 18:11:00</td>\n",
       "      <td>False</td>\n",
       "      <td>False</td>\n",
       "      <td>False</td>\n",
       "      <td>False</td>\n",
       "      <td>False</td>\n",
       "      <td>False</td>\n",
       "      <td>True</td>\n",
       "      <td>False</td>\n",
       "      <td>1.0</td>\n",
       "    </tr>\n",
       "    <tr>\n",
       "      <th>1</th>\n",
       "      <td>2014-12-16 14:35:00</td>\n",
       "      <td>2014-12-16 14:41:00</td>\n",
       "      <td>A00001/B00009/C00031/D29404/;A00001/B00009/C00...</td>\n",
       "      <td>male</td>\n",
       "      <td>[A00001, A00001, A00001, A00001, A00001, A0000...</td>\n",
       "      <td>[B00009, B00009, B00009, B00009, B00009, B0000...</td>\n",
       "      <td>[C00031, C00031, C00031, C00031, C00031, C0003...</td>\n",
       "      <td>[D29404, D02617, D29407, D29410, D29411, D2544...</td>\n",
       "      <td>False</td>\n",
       "      <td>False</td>\n",
       "      <td>...</td>\n",
       "      <td>1900-01-01 14:35:00</td>\n",
       "      <td>False</td>\n",
       "      <td>False</td>\n",
       "      <td>False</td>\n",
       "      <td>False</td>\n",
       "      <td>True</td>\n",
       "      <td>False</td>\n",
       "      <td>False</td>\n",
       "      <td>False</td>\n",
       "      <td>6.0</td>\n",
       "    </tr>\n",
       "    <tr>\n",
       "      <th>2</th>\n",
       "      <td>2014-12-01 15:58:00</td>\n",
       "      <td>2014-12-01 15:58:00</td>\n",
       "      <td>A00002/B00001/C00020/D16944/</td>\n",
       "      <td>female</td>\n",
       "      <td>[A00002]</td>\n",
       "      <td>[B00001]</td>\n",
       "      <td>[C00020]</td>\n",
       "      <td>[D16944]</td>\n",
       "      <td>True</td>\n",
       "      <td>False</td>\n",
       "      <td>...</td>\n",
       "      <td>1900-01-01 15:58:00</td>\n",
       "      <td>False</td>\n",
       "      <td>False</td>\n",
       "      <td>False</td>\n",
       "      <td>False</td>\n",
       "      <td>False</td>\n",
       "      <td>True</td>\n",
       "      <td>False</td>\n",
       "      <td>False</td>\n",
       "      <td>0.0</td>\n",
       "    </tr>\n",
       "    <tr>\n",
       "      <th>3</th>\n",
       "      <td>2014-11-23 02:57:00</td>\n",
       "      <td>2014-11-23 03:00:00</td>\n",
       "      <td>A00002/B00004/C00018/D10284/;A00002/B00004/C00...</td>\n",
       "      <td>female</td>\n",
       "      <td>[A00002, A00002, A00002]</td>\n",
       "      <td>[B00004, B00004, B00004]</td>\n",
       "      <td>[C00018, C00018, C00018]</td>\n",
       "      <td>[D10284, D10285, D10286]</td>\n",
       "      <td>False</td>\n",
       "      <td>False</td>\n",
       "      <td>...</td>\n",
       "      <td>1900-01-01 02:57:00</td>\n",
       "      <td>True</td>\n",
       "      <td>False</td>\n",
       "      <td>False</td>\n",
       "      <td>False</td>\n",
       "      <td>False</td>\n",
       "      <td>False</td>\n",
       "      <td>False</td>\n",
       "      <td>False</td>\n",
       "      <td>3.0</td>\n",
       "    </tr>\n",
       "    <tr>\n",
       "      <th>4</th>\n",
       "      <td>2014-12-17 16:44:00</td>\n",
       "      <td>2014-12-17 16:46:00</td>\n",
       "      <td>A00001/B00001/C00012/D30805/;A00001/B00001/C00...</td>\n",
       "      <td>male</td>\n",
       "      <td>[A00001, A00001]</td>\n",
       "      <td>[B00001, B00001]</td>\n",
       "      <td>[C00012, C00012]</td>\n",
       "      <td>[D30805, D30806]</td>\n",
       "      <td>False</td>\n",
       "      <td>False</td>\n",
       "      <td>...</td>\n",
       "      <td>1900-01-01 16:44:00</td>\n",
       "      <td>False</td>\n",
       "      <td>False</td>\n",
       "      <td>False</td>\n",
       "      <td>False</td>\n",
       "      <td>False</td>\n",
       "      <td>True</td>\n",
       "      <td>False</td>\n",
       "      <td>False</td>\n",
       "      <td>2.0</td>\n",
       "    </tr>\n",
       "  </tbody>\n",
       "</table>\n",
       "<p>5 rows × 33 columns</p>\n",
       "</div>"
      ],
      "text/plain": [
       "           start_time            end_time  \\\n",
       "0 2014-12-15 18:11:00 2014-12-15 18:12:00   \n",
       "1 2014-12-16 14:35:00 2014-12-16 14:41:00   \n",
       "2 2014-12-01 15:58:00 2014-12-01 15:58:00   \n",
       "3 2014-11-23 02:57:00 2014-11-23 03:00:00   \n",
       "4 2014-12-17 16:44:00 2014-12-17 16:46:00   \n",
       "\n",
       "                                        product_list  gender  \\\n",
       "0  A00002/B00003/C00006/D28435/;A00002/B00003/C00...  female   \n",
       "1  A00001/B00009/C00031/D29404/;A00001/B00009/C00...    male   \n",
       "2                       A00002/B00001/C00020/D16944/  female   \n",
       "3  A00002/B00004/C00018/D10284/;A00002/B00004/C00...  female   \n",
       "4  A00001/B00001/C00012/D30805/;A00001/B00001/C00...    male   \n",
       "\n",
       "                                                 cat  \\\n",
       "0                   [A00002, A00002, A00002, A00002]   \n",
       "1  [A00001, A00001, A00001, A00001, A00001, A0000...   \n",
       "2                                           [A00002]   \n",
       "3                           [A00002, A00002, A00002]   \n",
       "4                                   [A00001, A00001]   \n",
       "\n",
       "                                             sub-cat  \\\n",
       "0                   [B00003, B00003, B00003, B00003]   \n",
       "1  [B00009, B00009, B00009, B00009, B00009, B0000...   \n",
       "2                                           [B00001]   \n",
       "3                           [B00004, B00004, B00004]   \n",
       "4                                   [B00001, B00001]   \n",
       "\n",
       "                                         sub-sub-cat  \\\n",
       "0                   [C00006, C00006, C00006, C00006]   \n",
       "1  [C00031, C00031, C00031, C00031, C00031, C0003...   \n",
       "2                                           [C00020]   \n",
       "3                           [C00018, C00018, C00018]   \n",
       "4                                   [C00012, C00012]   \n",
       "\n",
       "                                             product  Monday  Friday  ...  \\\n",
       "0                   [D28435, D02554, D28436, D28437]    True   False  ...   \n",
       "1  [D29404, D02617, D29407, D29410, D29411, D2544...   False   False  ...   \n",
       "2                                           [D16944]    True   False  ...   \n",
       "3                           [D10284, D10285, D10286]   False   False  ...   \n",
       "4                                   [D30805, D30806]   False   False  ...   \n",
       "\n",
       "                   st  time_0  time_3  time_6  time_9  time_12  time_15  \\\n",
       "0 1900-01-01 18:11:00   False   False   False   False    False    False   \n",
       "1 1900-01-01 14:35:00   False   False   False   False     True    False   \n",
       "2 1900-01-01 15:58:00   False   False   False   False    False     True   \n",
       "3 1900-01-01 02:57:00    True   False   False   False    False    False   \n",
       "4 1900-01-01 16:44:00   False   False   False   False    False     True   \n",
       "\n",
       "   time_18  time_21  duration  \n",
       "0     True    False       1.0  \n",
       "1    False    False       6.0  \n",
       "2    False    False       0.0  \n",
       "3    False    False       3.0  \n",
       "4    False    False       2.0  \n",
       "\n",
       "[5 rows x 33 columns]"
      ]
     },
     "execution_count": 76,
     "metadata": {},
     "output_type": "execute_result"
    }
   ],
   "source": [
    "set_day(df)\n",
    "set_month_start(df)\n",
    "set_weeks(df)\n",
    "set_interval_time(df)\n",
    "set_duration(df)\n",
    "df.head()"
   ]
  },
  {
   "cell_type": "code",
   "execution_count": 77,
   "metadata": {
    "ExecuteTime": {
     "end_time": "2020-04-11T17:30:52.727113Z",
     "start_time": "2020-04-11T17:30:52.721531Z"
    }
   },
   "outputs": [
    {
     "data": {
      "text/plain": [
       "Index(['start_time', 'end_time', 'product_list', 'gender', 'cat', 'sub-cat',\n",
       "       'sub-sub-cat', 'product', 'Monday', 'Friday', 'Saturday', 'Tuesday',\n",
       "       'Sunday', 'Wednesday', 'Thursday', 'month_start', 'week_51', 'week_50',\n",
       "       'week_49', 'week_47', 'week_48', 'week_46', 'week_52', 'st', 'time_0',\n",
       "       'time_3', 'time_6', 'time_9', 'time_12', 'time_15', 'time_18',\n",
       "       'time_21', 'duration'],\n",
       "      dtype='object')"
      ]
     },
     "execution_count": 77,
     "metadata": {},
     "output_type": "execute_result"
    }
   ],
   "source": [
    "df.columns"
   ]
  },
  {
   "cell_type": "markdown",
   "metadata": {},
   "source": [
    "# Making Product List Feature\n"
   ]
  },
  {
   "cell_type": "code",
   "execution_count": 78,
   "metadata": {
    "ExecuteTime": {
     "end_time": "2020-04-11T17:30:53.933489Z",
     "start_time": "2020-04-11T17:30:53.926237Z"
    }
   },
   "outputs": [],
   "source": [
    "def set_product_count(df):\n",
    "    df[\"product_count\"] = df[\"product\"].apply(len)\n",
    "    return df"
   ]
  },
  {
   "cell_type": "code",
   "execution_count": 79,
   "metadata": {
    "ExecuteTime": {
     "end_time": "2020-04-11T17:30:54.404794Z",
     "start_time": "2020-04-11T17:30:54.391919Z"
    }
   },
   "outputs": [],
   "source": [
    "def create_useful_cat_sub_cat(train_df):\n",
    "    # calculating male and female cat - sub-cat count \n",
    "    c_m = Counter()\n",
    "    c_f = Counter()\n",
    "    \n",
    "    for index,rows in train_df.iterrows():\n",
    "        a = [f\"{i}-{j}\"for i , j in zip(rows[\"cat\"],rows[\"sub-cat\"])]\n",
    "        if rows[\"gender\"] == \"female\":\n",
    "            c_f.update(a)\n",
    "        else:\n",
    "            c_m.update(a)\n",
    "    \n",
    "    # cumsum for 97 percentile in female\n",
    "    f = pd.DataFrame(c_f.items(),columns=[\"cat\",\"value\"]).sort_values(by=\"value\",ascending=False).reset_index(drop=True)\n",
    "    f[\"cu\"] = (f.value.cumsum()/f.value.sum())\n",
    "    f = f[f[\"cu\"]<=0.975]\n",
    "    # cumsum for 97 percentile in male\n",
    "    m = pd.DataFrame(c_m.items(),columns=[\"cat\",\"value\"]).sort_values(by=\"value\",ascending=False).reset_index(drop=True)\n",
    "    m[\"cu\"] = (f.value.cumsum()/f.value.sum())\n",
    "    m = m[m[\"cu\"]<=0.975]\n",
    "    # merge to get \"cat - sub-cat to be used for both of them\"\n",
    "    f = f.merge(m , how=\"outer\",left_on=\"cat\",right_on=\"cat\", suffixes=('_female', '_male'))[\"cat\"].values.tolist()\n",
    "    \n",
    "    return f"
   ]
  },
  {
   "cell_type": "code",
   "execution_count": 80,
   "metadata": {
    "ExecuteTime": {
     "end_time": "2020-04-11T17:30:54.960973Z",
     "start_time": "2020-04-11T17:30:54.948463Z"
    }
   },
   "outputs": [],
   "source": [
    "def cat_sub_cat(df ,cat_sub_cat_list=None):\n",
    "    if cat_sub_cat_list is None:\n",
    "        cat_sub_cat_list =  create_useful_cat_sub_cat(df) ## for testing purpose we have to save the cat_sub_cat_list in pickle format\n",
    "    m = df.apply(lambda x: [f\"{i}-{j}\" for i ,j in zip(x[\"cat\"],x[\"sub-cat\"])] ,axis=1)\n",
    "    m = m.apply(lambda x:  dict(Counter(x)))\n",
    "    for i in cat_sub_cat_list:df[i] = m.apply(lambda x: x.get(i,0))\n",
    "    return df"
   ]
  },
  {
   "cell_type": "code",
   "execution_count": 81,
   "metadata": {
    "ExecuteTime": {
     "end_time": "2020-04-11T17:30:55.994443Z",
     "start_time": "2020-04-11T17:30:55.987645Z"
    }
   },
   "outputs": [],
   "source": [
    "def set_duration_product_ratio(df):\n",
    "    df[\"duration_product_ratio\"] = df[\"duration\"]/df[\"product_count\"]"
   ]
  },
  {
   "cell_type": "code",
   "execution_count": 82,
   "metadata": {
    "ExecuteTime": {
     "end_time": "2020-04-11T17:30:57.062304Z",
     "start_time": "2020-04-11T17:30:57.052381Z"
    }
   },
   "outputs": [],
   "source": [
    "def cat_flag(df):\n",
    "    cat_list = reduce(lambda x,y :set(x).union(set(y)) , df.cat)\n",
    "    for i in cat_list:\n",
    "        df[i] = df.cat.apply(lambda x: i in x)\n",
    "    return df"
   ]
  },
  {
   "cell_type": "code",
   "execution_count": 83,
   "metadata": {
    "ExecuteTime": {
     "end_time": "2020-04-11T17:31:01.924286Z",
     "start_time": "2020-04-11T17:30:57.866926Z"
    }
   },
   "outputs": [
    {
     "data": {
      "text/plain": [
       "Index(['start_time', 'end_time', 'product_list', 'gender', 'cat', 'sub-cat',\n",
       "       'sub-sub-cat', 'product', 'Monday', 'Friday', 'Saturday', 'Tuesday',\n",
       "       'Sunday', 'Wednesday', 'Thursday', 'month_start', 'week_51', 'week_50',\n",
       "       'week_49', 'week_47', 'week_48', 'week_46', 'week_52', 'st', 'time_0',\n",
       "       'time_3', 'time_6', 'time_9', 'time_12', 'time_15', 'time_18',\n",
       "       'time_21', 'duration', 'product_count', 'A00002-B00002',\n",
       "       'A00002-B00003', 'A00002-B00001', 'A00003-B00012', 'A00002-B00007',\n",
       "       'A00002-B00004', 'A00003-B00022', 'A00002-B00005', 'A00002-B00016',\n",
       "       'A00002-B00017', 'A00002-B00006', 'A00003-B00021', 'A00003-B00020',\n",
       "       'A00001-B00001', 'A00003-B00004', 'A00001-B00009', 'A00003-B00028',\n",
       "       'A00005-B00019', 'A00002-B00011', 'A00001-B00015', 'A00001-B00004',\n",
       "       'A00003-B00026', 'A00005-B00032', 'A00004-B00014', 'A00011-B00050',\n",
       "       'A00001-B00031', 'A00003-B00036', 'A00002-B00010', 'A00006-B00057',\n",
       "       'A00003-B00039', 'A00005-B00044', 'A00005-B00018', 'A00001-B00037',\n",
       "       'A00001-B00027', 'A00004-B00013', 'duration_product_ratio', 'A00007',\n",
       "       'A00005', 'A00006', 'A00009', 'A00010', 'A00001', 'A00008', 'A00004',\n",
       "       'A00011', 'A00002', 'A00003'],\n",
       "      dtype='object')"
      ]
     },
     "execution_count": 83,
     "metadata": {},
     "output_type": "execute_result"
    }
   ],
   "source": [
    "set_product_count(df)\n",
    "cat_sub_cat(df)\n",
    "set_duration_product_ratio(df)\n",
    "cat_flag(df)\n",
    "df.columns"
   ]
  },
  {
   "cell_type": "markdown",
   "metadata": {},
   "source": [
    "# Splitting Train and Valid."
   ]
  },
  {
   "cell_type": "code",
   "execution_count": 19,
   "metadata": {
    "ExecuteTime": {
     "end_time": "2020-04-11T16:14:48.526096Z",
     "start_time": "2020-04-11T16:14:48.500141Z"
    }
   },
   "outputs": [],
   "source": [
    "# drop these columns\n",
    "df  = df.drop(columns=['start_time', 'end_time', 'product_list','st','cat', 'sub-cat','sub-sub-cat', 'product'])"
   ]
  },
  {
   "cell_type": "code",
   "execution_count": 20,
   "metadata": {
    "ExecuteTime": {
     "end_time": "2020-04-11T16:14:48.637011Z",
     "start_time": "2020-04-11T16:14:48.529222Z"
    }
   },
   "outputs": [],
   "source": [
    "X = df.drop(columns=[\"gender\"])\n",
    "y = np.where(df.gender == \"male\" , 1 ,0)"
   ]
  },
  {
   "cell_type": "code",
   "execution_count": 21,
   "metadata": {
    "ExecuteTime": {
     "end_time": "2020-04-11T16:14:48.857410Z",
     "start_time": "2020-04-11T16:14:48.639511Z"
    }
   },
   "outputs": [],
   "source": [
    "from sklearn.model_selection import train_test_split"
   ]
  },
  {
   "cell_type": "code",
   "execution_count": 22,
   "metadata": {
    "ExecuteTime": {
     "end_time": "2020-04-11T16:14:48.911582Z",
     "start_time": "2020-04-11T16:14:48.860424Z"
    }
   },
   "outputs": [],
   "source": [
    "X_train, X_test, y_train, y_test = train_test_split(X, y, test_size=0.30, random_state=42, stratify=y)"
   ]
  },
  {
   "cell_type": "code",
   "execution_count": 25,
   "metadata": {
    "ExecuteTime": {
     "end_time": "2020-04-11T16:15:12.816417Z",
     "start_time": "2020-04-11T16:15:12.808332Z"
    }
   },
   "outputs": [],
   "source": [
    "from tpot import TPOTClassifier\n",
    "tpot = TPOTClassifier(generations=5, population_size=50 ,verbosity=3, random_state=42,n_jobs=-2)"
   ]
  },
  {
   "cell_type": "code",
   "execution_count": 26,
   "metadata": {
    "ExecuteTime": {
     "end_time": "2020-04-11T17:15:42.523068Z",
     "start_time": "2020-04-11T16:15:13.518056Z"
    }
   },
   "outputs": [
    {
     "data": {
      "application/vnd.jupyter.widget-view+json": {
       "model_id": "",
       "version_major": 2,
       "version_minor": 0
      },
      "text/plain": [
       "HBox(children=(IntProgress(value=0, description='Optimization Progress', max=300, style=ProgressStyle(descript…"
      ]
     },
     "metadata": {},
     "output_type": "display_data"
    },
    {
     "name": "stdout",
     "output_type": "stream",
     "text": [
      "Generation 1 - Current best internal CV score: 0.8681632653061225\n",
      "Generation 2 - Current best internal CV score: 0.8682993197278911\n",
      "Generation 3 - Current best internal CV score: 0.8689795918367347\n",
      "Generation 4 - Current best internal CV score: 0.8693877551020408\n",
      "Generation 5 - Current best internal CV score: 0.8696598639455783\n",
      "\n",
      "Best pipeline: RandomForestClassifier(SGDClassifier(input_matrix, alpha=0.0, eta0=1.0, fit_intercept=True, l1_ratio=0.25, learning_rate=constant, loss=squared_hinge, penalty=elasticnet, power_t=10.0), bootstrap=False, criterion=entropy, max_features=0.25, min_samples_leaf=14, min_samples_split=12, n_estimators=100)\n"
     ]
    },
    {
     "data": {
      "text/plain": [
       "TPOTClassifier(config_dict=None, crossover_rate=0.1, cv=5,\n",
       "               disable_update_check=False, early_stop=None, generations=5,\n",
       "               max_eval_time_mins=5, max_time_mins=None, memory=None,\n",
       "               mutation_rate=0.9, n_jobs=-2, offspring_size=None,\n",
       "               periodic_checkpoint_folder=None, population_size=50,\n",
       "               random_state=42, scoring=None, subsample=1.0, template=None,\n",
       "               use_dask=False, verbosity=2, warm_start=False)"
      ]
     },
     "execution_count": 26,
     "metadata": {},
     "output_type": "execute_result"
    }
   ],
   "source": [
    "tpot.fit( X_train, y_train)"
   ]
  },
  {
   "cell_type": "code",
   "execution_count": 27,
   "metadata": {
    "ExecuteTime": {
     "end_time": "2020-04-11T17:15:42.698053Z",
     "start_time": "2020-04-11T17:15:42.527155Z"
    }
   },
   "outputs": [
    {
     "name": "stdout",
     "output_type": "stream",
     "text": [
      "0.8796825396825397\n"
     ]
    }
   ],
   "source": [
    "print(tpot.score(X_test, y_test))\n",
    "tpot.export('tpot_jantahack_pipeline.py')"
   ]
  },
  {
   "cell_type": "code",
   "execution_count": 114,
   "metadata": {
    "ExecuteTime": {
     "end_time": "2020-04-11T17:36:09.943826Z",
     "start_time": "2020-04-11T17:36:09.795643Z"
    }
   },
   "outputs": [
    {
     "data": {
      "text/html": [
       "<div>\n",
       "<style scoped>\n",
       "    .dataframe tbody tr th:only-of-type {\n",
       "        vertical-align: middle;\n",
       "    }\n",
       "\n",
       "    .dataframe tbody tr th {\n",
       "        vertical-align: top;\n",
       "    }\n",
       "\n",
       "    .dataframe thead th {\n",
       "        text-align: right;\n",
       "    }\n",
       "</style>\n",
       "<table border=\"1\" class=\"dataframe\">\n",
       "  <thead>\n",
       "    <tr style=\"text-align: right;\">\n",
       "      <th></th>\n",
       "      <th>start_time</th>\n",
       "      <th>end_time</th>\n",
       "      <th>product_list</th>\n",
       "      <th>cat</th>\n",
       "      <th>sub-cat</th>\n",
       "      <th>sub-sub-cat</th>\n",
       "      <th>product</th>\n",
       "    </tr>\n",
       "  </thead>\n",
       "  <tbody>\n",
       "    <tr>\n",
       "      <th>0</th>\n",
       "      <td>2014-12-08 13:36:00</td>\n",
       "      <td>2014-12-08 13:36:00</td>\n",
       "      <td>A00002/B00003/C00006/D19956/</td>\n",
       "      <td>[A00002]</td>\n",
       "      <td>[B00003]</td>\n",
       "      <td>[C00006]</td>\n",
       "      <td>[D19956]</td>\n",
       "    </tr>\n",
       "    <tr>\n",
       "      <th>1</th>\n",
       "      <td>2014-12-19 13:52:00</td>\n",
       "      <td>2014-12-19 13:52:00</td>\n",
       "      <td>A00002/B00005/C00067/D02026/</td>\n",
       "      <td>[A00002]</td>\n",
       "      <td>[B00005]</td>\n",
       "      <td>[C00067]</td>\n",
       "      <td>[D02026]</td>\n",
       "    </tr>\n",
       "    <tr>\n",
       "      <th>2</th>\n",
       "      <td>2014-12-01 10:44:00</td>\n",
       "      <td>2014-12-01 10:44:00</td>\n",
       "      <td>A00002/B00002/C00004/D12538/</td>\n",
       "      <td>[A00002]</td>\n",
       "      <td>[B00002]</td>\n",
       "      <td>[C00004]</td>\n",
       "      <td>[D12538]</td>\n",
       "    </tr>\n",
       "    <tr>\n",
       "      <th>3</th>\n",
       "      <td>2014-12-08 20:19:00</td>\n",
       "      <td>2014-12-08 20:22:00</td>\n",
       "      <td>A00002/B00003/C00079/D22781/;A00002/B00003/C00...</td>\n",
       "      <td>[A00002, A00002, A00002, A00002]</td>\n",
       "      <td>[B00003, B00003, B00003, B00003]</td>\n",
       "      <td>[C00079, C00079, C00079, C00079]</td>\n",
       "      <td>[D22781, D22782, D19325, D22786]</td>\n",
       "    </tr>\n",
       "    <tr>\n",
       "      <th>4</th>\n",
       "      <td>2014-12-15 19:33:00</td>\n",
       "      <td>2014-12-15 19:33:00</td>\n",
       "      <td>A00002/B00001/C00010/D23419/</td>\n",
       "      <td>[A00002]</td>\n",
       "      <td>[B00001]</td>\n",
       "      <td>[C00010]</td>\n",
       "      <td>[D23419]</td>\n",
       "    </tr>\n",
       "  </tbody>\n",
       "</table>\n",
       "</div>"
      ],
      "text/plain": [
       "           start_time            end_time  \\\n",
       "0 2014-12-08 13:36:00 2014-12-08 13:36:00   \n",
       "1 2014-12-19 13:52:00 2014-12-19 13:52:00   \n",
       "2 2014-12-01 10:44:00 2014-12-01 10:44:00   \n",
       "3 2014-12-08 20:19:00 2014-12-08 20:22:00   \n",
       "4 2014-12-15 19:33:00 2014-12-15 19:33:00   \n",
       "\n",
       "                                        product_list  \\\n",
       "0                       A00002/B00003/C00006/D19956/   \n",
       "1                       A00002/B00005/C00067/D02026/   \n",
       "2                       A00002/B00002/C00004/D12538/   \n",
       "3  A00002/B00003/C00079/D22781/;A00002/B00003/C00...   \n",
       "4                       A00002/B00001/C00010/D23419/   \n",
       "\n",
       "                                cat                           sub-cat  \\\n",
       "0                          [A00002]                          [B00003]   \n",
       "1                          [A00002]                          [B00005]   \n",
       "2                          [A00002]                          [B00002]   \n",
       "3  [A00002, A00002, A00002, A00002]  [B00003, B00003, B00003, B00003]   \n",
       "4                          [A00002]                          [B00001]   \n",
       "\n",
       "                        sub-sub-cat                           product  \n",
       "0                          [C00006]                          [D19956]  \n",
       "1                          [C00067]                          [D02026]  \n",
       "2                          [C00004]                          [D12538]  \n",
       "3  [C00079, C00079, C00079, C00079]  [D22781, D22782, D19325, D22786]  \n",
       "4                          [C00010]                          [D23419]  "
      ]
     },
     "execution_count": 114,
     "metadata": {},
     "output_type": "execute_result"
    }
   ],
   "source": [
    "test_df = pd.read_csv(\"../data/raw/test_Yix80N0.csv\")\n",
    "standardize(test_df,drop_session_id=False)\n",
    "test_df.head()"
   ]
  },
  {
   "cell_type": "code",
   "execution_count": null,
   "metadata": {
    "ExecuteTime": {
     "end_time": "2020-04-11T17:35:15.149408Z",
     "start_time": "2020-04-11T17:35:15.011432Z"
    }
   },
   "outputs": [],
   "source": []
  },
  {
   "cell_type": "code",
   "execution_count": 115,
   "metadata": {
    "ExecuteTime": {
     "end_time": "2020-04-11T17:36:14.773859Z",
     "start_time": "2020-04-11T17:36:11.262619Z"
    }
   },
   "outputs": [
    {
     "data": {
      "text/html": [
       "<div>\n",
       "<style scoped>\n",
       "    .dataframe tbody tr th:only-of-type {\n",
       "        vertical-align: middle;\n",
       "    }\n",
       "\n",
       "    .dataframe tbody tr th {\n",
       "        vertical-align: top;\n",
       "    }\n",
       "\n",
       "    .dataframe thead th {\n",
       "        text-align: right;\n",
       "    }\n",
       "</style>\n",
       "<table border=\"1\" class=\"dataframe\">\n",
       "  <thead>\n",
       "    <tr style=\"text-align: right;\">\n",
       "      <th></th>\n",
       "      <th>start_time</th>\n",
       "      <th>end_time</th>\n",
       "      <th>product_list</th>\n",
       "      <th>cat</th>\n",
       "      <th>sub-cat</th>\n",
       "      <th>sub-sub-cat</th>\n",
       "      <th>product</th>\n",
       "      <th>Monday</th>\n",
       "      <th>Friday</th>\n",
       "      <th>Saturday</th>\n",
       "      <th>...</th>\n",
       "      <th>A00005</th>\n",
       "      <th>A00006</th>\n",
       "      <th>A00009</th>\n",
       "      <th>A00010</th>\n",
       "      <th>A00001</th>\n",
       "      <th>A00008</th>\n",
       "      <th>A00004</th>\n",
       "      <th>A00011</th>\n",
       "      <th>A00002</th>\n",
       "      <th>A00003</th>\n",
       "    </tr>\n",
       "  </thead>\n",
       "  <tbody>\n",
       "    <tr>\n",
       "      <th>0</th>\n",
       "      <td>2014-12-08 13:36:00</td>\n",
       "      <td>2014-12-08 13:36:00</td>\n",
       "      <td>A00002/B00003/C00006/D19956/</td>\n",
       "      <td>[A00002]</td>\n",
       "      <td>[B00003]</td>\n",
       "      <td>[C00006]</td>\n",
       "      <td>[D19956]</td>\n",
       "      <td>True</td>\n",
       "      <td>False</td>\n",
       "      <td>False</td>\n",
       "      <td>...</td>\n",
       "      <td>False</td>\n",
       "      <td>False</td>\n",
       "      <td>False</td>\n",
       "      <td>False</td>\n",
       "      <td>False</td>\n",
       "      <td>False</td>\n",
       "      <td>False</td>\n",
       "      <td>False</td>\n",
       "      <td>True</td>\n",
       "      <td>False</td>\n",
       "    </tr>\n",
       "    <tr>\n",
       "      <th>1</th>\n",
       "      <td>2014-12-19 13:52:00</td>\n",
       "      <td>2014-12-19 13:52:00</td>\n",
       "      <td>A00002/B00005/C00067/D02026/</td>\n",
       "      <td>[A00002]</td>\n",
       "      <td>[B00005]</td>\n",
       "      <td>[C00067]</td>\n",
       "      <td>[D02026]</td>\n",
       "      <td>False</td>\n",
       "      <td>True</td>\n",
       "      <td>False</td>\n",
       "      <td>...</td>\n",
       "      <td>False</td>\n",
       "      <td>False</td>\n",
       "      <td>False</td>\n",
       "      <td>False</td>\n",
       "      <td>False</td>\n",
       "      <td>False</td>\n",
       "      <td>False</td>\n",
       "      <td>False</td>\n",
       "      <td>True</td>\n",
       "      <td>False</td>\n",
       "    </tr>\n",
       "    <tr>\n",
       "      <th>2</th>\n",
       "      <td>2014-12-01 10:44:00</td>\n",
       "      <td>2014-12-01 10:44:00</td>\n",
       "      <td>A00002/B00002/C00004/D12538/</td>\n",
       "      <td>[A00002]</td>\n",
       "      <td>[B00002]</td>\n",
       "      <td>[C00004]</td>\n",
       "      <td>[D12538]</td>\n",
       "      <td>True</td>\n",
       "      <td>False</td>\n",
       "      <td>False</td>\n",
       "      <td>...</td>\n",
       "      <td>False</td>\n",
       "      <td>False</td>\n",
       "      <td>False</td>\n",
       "      <td>False</td>\n",
       "      <td>False</td>\n",
       "      <td>False</td>\n",
       "      <td>False</td>\n",
       "      <td>False</td>\n",
       "      <td>True</td>\n",
       "      <td>False</td>\n",
       "    </tr>\n",
       "    <tr>\n",
       "      <th>3</th>\n",
       "      <td>2014-12-08 20:19:00</td>\n",
       "      <td>2014-12-08 20:22:00</td>\n",
       "      <td>A00002/B00003/C00079/D22781/;A00002/B00003/C00...</td>\n",
       "      <td>[A00002, A00002, A00002, A00002]</td>\n",
       "      <td>[B00003, B00003, B00003, B00003]</td>\n",
       "      <td>[C00079, C00079, C00079, C00079]</td>\n",
       "      <td>[D22781, D22782, D19325, D22786]</td>\n",
       "      <td>True</td>\n",
       "      <td>False</td>\n",
       "      <td>False</td>\n",
       "      <td>...</td>\n",
       "      <td>False</td>\n",
       "      <td>False</td>\n",
       "      <td>False</td>\n",
       "      <td>False</td>\n",
       "      <td>False</td>\n",
       "      <td>False</td>\n",
       "      <td>False</td>\n",
       "      <td>False</td>\n",
       "      <td>True</td>\n",
       "      <td>False</td>\n",
       "    </tr>\n",
       "    <tr>\n",
       "      <th>4</th>\n",
       "      <td>2014-12-15 19:33:00</td>\n",
       "      <td>2014-12-15 19:33:00</td>\n",
       "      <td>A00002/B00001/C00010/D23419/</td>\n",
       "      <td>[A00002]</td>\n",
       "      <td>[B00001]</td>\n",
       "      <td>[C00010]</td>\n",
       "      <td>[D23419]</td>\n",
       "      <td>True</td>\n",
       "      <td>False</td>\n",
       "      <td>False</td>\n",
       "      <td>...</td>\n",
       "      <td>False</td>\n",
       "      <td>False</td>\n",
       "      <td>False</td>\n",
       "      <td>False</td>\n",
       "      <td>False</td>\n",
       "      <td>False</td>\n",
       "      <td>False</td>\n",
       "      <td>False</td>\n",
       "      <td>True</td>\n",
       "      <td>False</td>\n",
       "    </tr>\n",
       "  </tbody>\n",
       "</table>\n",
       "<p>5 rows × 80 columns</p>\n",
       "</div>"
      ],
      "text/plain": [
       "           start_time            end_time  \\\n",
       "0 2014-12-08 13:36:00 2014-12-08 13:36:00   \n",
       "1 2014-12-19 13:52:00 2014-12-19 13:52:00   \n",
       "2 2014-12-01 10:44:00 2014-12-01 10:44:00   \n",
       "3 2014-12-08 20:19:00 2014-12-08 20:22:00   \n",
       "4 2014-12-15 19:33:00 2014-12-15 19:33:00   \n",
       "\n",
       "                                        product_list  \\\n",
       "0                       A00002/B00003/C00006/D19956/   \n",
       "1                       A00002/B00005/C00067/D02026/   \n",
       "2                       A00002/B00002/C00004/D12538/   \n",
       "3  A00002/B00003/C00079/D22781/;A00002/B00003/C00...   \n",
       "4                       A00002/B00001/C00010/D23419/   \n",
       "\n",
       "                                cat                           sub-cat  \\\n",
       "0                          [A00002]                          [B00003]   \n",
       "1                          [A00002]                          [B00005]   \n",
       "2                          [A00002]                          [B00002]   \n",
       "3  [A00002, A00002, A00002, A00002]  [B00003, B00003, B00003, B00003]   \n",
       "4                          [A00002]                          [B00001]   \n",
       "\n",
       "                        sub-sub-cat                           product  Monday  \\\n",
       "0                          [C00006]                          [D19956]    True   \n",
       "1                          [C00067]                          [D02026]   False   \n",
       "2                          [C00004]                          [D12538]    True   \n",
       "3  [C00079, C00079, C00079, C00079]  [D22781, D22782, D19325, D22786]    True   \n",
       "4                          [C00010]                          [D23419]    True   \n",
       "\n",
       "   Friday  Saturday  ...  A00005  A00006  A00009  A00010  A00001  A00008  \\\n",
       "0   False     False  ...   False   False   False   False   False   False   \n",
       "1    True     False  ...   False   False   False   False   False   False   \n",
       "2   False     False  ...   False   False   False   False   False   False   \n",
       "3   False     False  ...   False   False   False   False   False   False   \n",
       "4   False     False  ...   False   False   False   False   False   False   \n",
       "\n",
       "   A00004  A00011  A00002  A00003  \n",
       "0   False   False    True   False  \n",
       "1   False   False    True   False  \n",
       "2   False   False    True   False  \n",
       "3   False   False    True   False  \n",
       "4   False   False    True   False  \n",
       "\n",
       "[5 rows x 80 columns]"
      ]
     },
     "execution_count": 115,
     "metadata": {},
     "output_type": "execute_result"
    }
   ],
   "source": [
    "set_day(test_df)\n",
    "set_month_start(test_df)\n",
    "set_weeks(test_df)\n",
    "set_interval_time(test_df)\n",
    "set_duration(test_df)\n",
    "\n",
    "set_product_count(test_df)\n",
    "cat_sub_cat(test_df ,cat_sub_cat_list=create_useful_cat_sub_cat(df) )\n",
    "set_duration_product_ratio(test_df)\n",
    "cat_flag(test_df)\n",
    "\n",
    "\n",
    "test_df.head()"
   ]
  },
  {
   "cell_type": "code",
   "execution_count": 116,
   "metadata": {
    "ExecuteTime": {
     "end_time": "2020-04-11T17:36:14.792567Z",
     "start_time": "2020-04-11T17:36:14.778404Z"
    }
   },
   "outputs": [],
   "source": [
    "test_df  = test_df.drop(columns=['start_time', 'end_time', 'product_list','st','cat', 'sub-cat','sub-sub-cat', 'product'])"
   ]
  },
  {
   "cell_type": "code",
   "execution_count": 119,
   "metadata": {
    "ExecuteTime": {
     "end_time": "2020-04-11T17:36:20.256092Z",
     "start_time": "2020-04-11T17:36:20.247005Z"
    }
   },
   "outputs": [
    {
     "data": {
      "text/plain": [
       "Index(['Monday', 'Friday', 'Saturday', 'Tuesday', 'Sunday', 'Wednesday',\n",
       "       'Thursday', 'month_start', 'week_51', 'week_50', 'week_49', 'week_47',\n",
       "       'week_48', 'week_46', 'week_52', 'time_0', 'time_3', 'time_6', 'time_9',\n",
       "       'time_12', 'time_15', 'time_18', 'time_21', 'duration', 'product_count',\n",
       "       'A00002-B00002', 'A00002-B00003', 'A00002-B00001', 'A00003-B00012',\n",
       "       'A00002-B00007', 'A00002-B00004', 'A00003-B00022', 'A00002-B00005',\n",
       "       'A00002-B00016', 'A00002-B00017', 'A00002-B00006', 'A00003-B00021',\n",
       "       'A00003-B00020', 'A00001-B00001', 'A00003-B00004', 'A00001-B00009',\n",
       "       'A00003-B00028', 'A00005-B00019', 'A00002-B00011', 'A00001-B00015',\n",
       "       'A00001-B00004', 'A00003-B00026', 'A00005-B00032', 'A00004-B00014',\n",
       "       'A00011-B00050', 'A00001-B00031', 'A00003-B00036', 'A00002-B00010',\n",
       "       'A00006-B00057', 'A00003-B00039', 'A00005-B00044', 'A00005-B00018',\n",
       "       'A00001-B00037', 'A00001-B00027', 'A00004-B00013',\n",
       "       'duration_product_ratio', 'A00007', 'A00005', 'A00006', 'A00009',\n",
       "       'A00010', 'A00001', 'A00008', 'A00004', 'A00011', 'A00002', 'A00003'],\n",
       "      dtype='object')"
      ]
     },
     "execution_count": 119,
     "metadata": {},
     "output_type": "execute_result"
    }
   ],
   "source": [
    "test_df.columns"
   ]
  },
  {
   "cell_type": "code",
   "execution_count": 132,
   "metadata": {
    "ExecuteTime": {
     "end_time": "2020-04-11T17:43:00.629799Z",
     "start_time": "2020-04-11T17:43:00.603367Z"
    }
   },
   "outputs": [],
   "source": [
    "sub = pd.read_csv(\"../data/raw/test_Yix80N0.csv\")"
   ]
  },
  {
   "cell_type": "code",
   "execution_count": 133,
   "metadata": {
    "ExecuteTime": {
     "end_time": "2020-04-11T17:43:01.386191Z",
     "start_time": "2020-04-11T17:43:01.178639Z"
    }
   },
   "outputs": [],
   "source": [
    "sub[\"gender\"]=tpot.predict(test_df)"
   ]
  },
  {
   "cell_type": "code",
   "execution_count": 134,
   "metadata": {
    "ExecuteTime": {
     "end_time": "2020-04-11T17:43:02.867025Z",
     "start_time": "2020-04-11T17:43:02.861153Z"
    }
   },
   "outputs": [],
   "source": [
    "sub.drop(columns =[\"startTime\",\"endTime\",\"ProductList\"],inplace=True)"
   ]
  },
  {
   "cell_type": "code",
   "execution_count": 135,
   "metadata": {
    "ExecuteTime": {
     "end_time": "2020-04-11T17:43:03.853400Z",
     "start_time": "2020-04-11T17:43:03.847466Z"
    }
   },
   "outputs": [],
   "source": [
    "sub.gender = sub.gender.map({0:\"female\",1:\"male\"})"
   ]
  },
  {
   "cell_type": "code",
   "execution_count": 136,
   "metadata": {
    "ExecuteTime": {
     "end_time": "2020-04-11T17:43:04.702680Z",
     "start_time": "2020-04-11T17:43:04.674551Z"
    }
   },
   "outputs": [],
   "source": [
    "sub.to_csv(\"first_submission.csv\",index=False)"
   ]
  },
  {
   "cell_type": "code",
   "execution_count": 137,
   "metadata": {
    "ExecuteTime": {
     "end_time": "2020-04-11T17:43:09.038477Z",
     "start_time": "2020-04-11T17:43:09.007946Z"
    }
   },
   "outputs": [
    {
     "data": {
      "text/html": [
       "<div>\n",
       "<style scoped>\n",
       "    .dataframe tbody tr th:only-of-type {\n",
       "        vertical-align: middle;\n",
       "    }\n",
       "\n",
       "    .dataframe tbody tr th {\n",
       "        vertical-align: top;\n",
       "    }\n",
       "\n",
       "    .dataframe thead th {\n",
       "        text-align: right;\n",
       "    }\n",
       "</style>\n",
       "<table border=\"1\" class=\"dataframe\">\n",
       "  <thead>\n",
       "    <tr style=\"text-align: right;\">\n",
       "      <th></th>\n",
       "      <th>session_id</th>\n",
       "      <th>gender</th>\n",
       "    </tr>\n",
       "  </thead>\n",
       "  <tbody>\n",
       "    <tr>\n",
       "      <th>0</th>\n",
       "      <td>u12112</td>\n",
       "      <td>female</td>\n",
       "    </tr>\n",
       "    <tr>\n",
       "      <th>1</th>\n",
       "      <td>u19725</td>\n",
       "      <td>female</td>\n",
       "    </tr>\n",
       "    <tr>\n",
       "      <th>2</th>\n",
       "      <td>u11795</td>\n",
       "      <td>female</td>\n",
       "    </tr>\n",
       "    <tr>\n",
       "      <th>3</th>\n",
       "      <td>u22639</td>\n",
       "      <td>female</td>\n",
       "    </tr>\n",
       "    <tr>\n",
       "      <th>4</th>\n",
       "      <td>u18034</td>\n",
       "      <td>female</td>\n",
       "    </tr>\n",
       "    <tr>\n",
       "      <th>5</th>\n",
       "      <td>u11327</td>\n",
       "      <td>male</td>\n",
       "    </tr>\n",
       "    <tr>\n",
       "      <th>6</th>\n",
       "      <td>u12768</td>\n",
       "      <td>male</td>\n",
       "    </tr>\n",
       "    <tr>\n",
       "      <th>7</th>\n",
       "      <td>u17011</td>\n",
       "      <td>male</td>\n",
       "    </tr>\n",
       "    <tr>\n",
       "      <th>8</th>\n",
       "      <td>u13527</td>\n",
       "      <td>female</td>\n",
       "    </tr>\n",
       "    <tr>\n",
       "      <th>9</th>\n",
       "      <td>u24492</td>\n",
       "      <td>male</td>\n",
       "    </tr>\n",
       "    <tr>\n",
       "      <th>10</th>\n",
       "      <td>u10027</td>\n",
       "      <td>female</td>\n",
       "    </tr>\n",
       "    <tr>\n",
       "      <th>11</th>\n",
       "      <td>u15734</td>\n",
       "      <td>female</td>\n",
       "    </tr>\n",
       "    <tr>\n",
       "      <th>12</th>\n",
       "      <td>u11242</td>\n",
       "      <td>male</td>\n",
       "    </tr>\n",
       "    <tr>\n",
       "      <th>13</th>\n",
       "      <td>u18013</td>\n",
       "      <td>female</td>\n",
       "    </tr>\n",
       "    <tr>\n",
       "      <th>14</th>\n",
       "      <td>u15322</td>\n",
       "      <td>female</td>\n",
       "    </tr>\n",
       "    <tr>\n",
       "      <th>15</th>\n",
       "      <td>u14059</td>\n",
       "      <td>female</td>\n",
       "    </tr>\n",
       "    <tr>\n",
       "      <th>16</th>\n",
       "      <td>u22231</td>\n",
       "      <td>female</td>\n",
       "    </tr>\n",
       "    <tr>\n",
       "      <th>17</th>\n",
       "      <td>u20251</td>\n",
       "      <td>female</td>\n",
       "    </tr>\n",
       "    <tr>\n",
       "      <th>18</th>\n",
       "      <td>u13118</td>\n",
       "      <td>female</td>\n",
       "    </tr>\n",
       "    <tr>\n",
       "      <th>19</th>\n",
       "      <td>u19704</td>\n",
       "      <td>female</td>\n",
       "    </tr>\n",
       "    <tr>\n",
       "      <th>20</th>\n",
       "      <td>u16615</td>\n",
       "      <td>female</td>\n",
       "    </tr>\n",
       "    <tr>\n",
       "      <th>21</th>\n",
       "      <td>u11846</td>\n",
       "      <td>female</td>\n",
       "    </tr>\n",
       "    <tr>\n",
       "      <th>22</th>\n",
       "      <td>u12002</td>\n",
       "      <td>female</td>\n",
       "    </tr>\n",
       "    <tr>\n",
       "      <th>23</th>\n",
       "      <td>u19607</td>\n",
       "      <td>female</td>\n",
       "    </tr>\n",
       "    <tr>\n",
       "      <th>24</th>\n",
       "      <td>u23535</td>\n",
       "      <td>female</td>\n",
       "    </tr>\n",
       "    <tr>\n",
       "      <th>25</th>\n",
       "      <td>u23301</td>\n",
       "      <td>female</td>\n",
       "    </tr>\n",
       "    <tr>\n",
       "      <th>26</th>\n",
       "      <td>u23259</td>\n",
       "      <td>female</td>\n",
       "    </tr>\n",
       "    <tr>\n",
       "      <th>27</th>\n",
       "      <td>u17314</td>\n",
       "      <td>female</td>\n",
       "    </tr>\n",
       "    <tr>\n",
       "      <th>28</th>\n",
       "      <td>u21292</td>\n",
       "      <td>female</td>\n",
       "    </tr>\n",
       "    <tr>\n",
       "      <th>29</th>\n",
       "      <td>u16410</td>\n",
       "      <td>male</td>\n",
       "    </tr>\n",
       "    <tr>\n",
       "      <th>...</th>\n",
       "      <td>...</td>\n",
       "      <td>...</td>\n",
       "    </tr>\n",
       "    <tr>\n",
       "      <th>4470</th>\n",
       "      <td>u10735</td>\n",
       "      <td>female</td>\n",
       "    </tr>\n",
       "    <tr>\n",
       "      <th>4471</th>\n",
       "      <td>u22204</td>\n",
       "      <td>female</td>\n",
       "    </tr>\n",
       "    <tr>\n",
       "      <th>4472</th>\n",
       "      <td>u20048</td>\n",
       "      <td>male</td>\n",
       "    </tr>\n",
       "    <tr>\n",
       "      <th>4473</th>\n",
       "      <td>u16494</td>\n",
       "      <td>female</td>\n",
       "    </tr>\n",
       "    <tr>\n",
       "      <th>4474</th>\n",
       "      <td>u23342</td>\n",
       "      <td>female</td>\n",
       "    </tr>\n",
       "    <tr>\n",
       "      <th>4475</th>\n",
       "      <td>u16767</td>\n",
       "      <td>female</td>\n",
       "    </tr>\n",
       "    <tr>\n",
       "      <th>4476</th>\n",
       "      <td>u15707</td>\n",
       "      <td>female</td>\n",
       "    </tr>\n",
       "    <tr>\n",
       "      <th>4477</th>\n",
       "      <td>u22477</td>\n",
       "      <td>female</td>\n",
       "    </tr>\n",
       "    <tr>\n",
       "      <th>4478</th>\n",
       "      <td>u11196</td>\n",
       "      <td>female</td>\n",
       "    </tr>\n",
       "    <tr>\n",
       "      <th>4479</th>\n",
       "      <td>u18690</td>\n",
       "      <td>female</td>\n",
       "    </tr>\n",
       "    <tr>\n",
       "      <th>4480</th>\n",
       "      <td>u12307</td>\n",
       "      <td>female</td>\n",
       "    </tr>\n",
       "    <tr>\n",
       "      <th>4481</th>\n",
       "      <td>u18239</td>\n",
       "      <td>female</td>\n",
       "    </tr>\n",
       "    <tr>\n",
       "      <th>4482</th>\n",
       "      <td>u24265</td>\n",
       "      <td>female</td>\n",
       "    </tr>\n",
       "    <tr>\n",
       "      <th>4483</th>\n",
       "      <td>u24536</td>\n",
       "      <td>female</td>\n",
       "    </tr>\n",
       "    <tr>\n",
       "      <th>4484</th>\n",
       "      <td>u12598</td>\n",
       "      <td>female</td>\n",
       "    </tr>\n",
       "    <tr>\n",
       "      <th>4485</th>\n",
       "      <td>u20680</td>\n",
       "      <td>female</td>\n",
       "    </tr>\n",
       "    <tr>\n",
       "      <th>4486</th>\n",
       "      <td>u14461</td>\n",
       "      <td>female</td>\n",
       "    </tr>\n",
       "    <tr>\n",
       "      <th>4487</th>\n",
       "      <td>u22798</td>\n",
       "      <td>male</td>\n",
       "    </tr>\n",
       "    <tr>\n",
       "      <th>4488</th>\n",
       "      <td>u19085</td>\n",
       "      <td>female</td>\n",
       "    </tr>\n",
       "    <tr>\n",
       "      <th>4489</th>\n",
       "      <td>u14517</td>\n",
       "      <td>female</td>\n",
       "    </tr>\n",
       "    <tr>\n",
       "      <th>4490</th>\n",
       "      <td>u23655</td>\n",
       "      <td>female</td>\n",
       "    </tr>\n",
       "    <tr>\n",
       "      <th>4491</th>\n",
       "      <td>u19300</td>\n",
       "      <td>female</td>\n",
       "    </tr>\n",
       "    <tr>\n",
       "      <th>4492</th>\n",
       "      <td>u12687</td>\n",
       "      <td>female</td>\n",
       "    </tr>\n",
       "    <tr>\n",
       "      <th>4493</th>\n",
       "      <td>u23440</td>\n",
       "      <td>female</td>\n",
       "    </tr>\n",
       "    <tr>\n",
       "      <th>4494</th>\n",
       "      <td>u13632</td>\n",
       "      <td>female</td>\n",
       "    </tr>\n",
       "    <tr>\n",
       "      <th>4495</th>\n",
       "      <td>u23966</td>\n",
       "      <td>male</td>\n",
       "    </tr>\n",
       "    <tr>\n",
       "      <th>4496</th>\n",
       "      <td>u20527</td>\n",
       "      <td>female</td>\n",
       "    </tr>\n",
       "    <tr>\n",
       "      <th>4497</th>\n",
       "      <td>u13253</td>\n",
       "      <td>female</td>\n",
       "    </tr>\n",
       "    <tr>\n",
       "      <th>4498</th>\n",
       "      <td>u17094</td>\n",
       "      <td>male</td>\n",
       "    </tr>\n",
       "    <tr>\n",
       "      <th>4499</th>\n",
       "      <td>u24310</td>\n",
       "      <td>female</td>\n",
       "    </tr>\n",
       "  </tbody>\n",
       "</table>\n",
       "<p>4500 rows × 2 columns</p>\n",
       "</div>"
      ],
      "text/plain": [
       "     session_id  gender\n",
       "0        u12112  female\n",
       "1        u19725  female\n",
       "2        u11795  female\n",
       "3        u22639  female\n",
       "4        u18034  female\n",
       "...         ...     ...\n",
       "4495     u23966    male\n",
       "4496     u20527  female\n",
       "4497     u13253  female\n",
       "4498     u17094    male\n",
       "4499     u24310  female\n",
       "\n",
       "[4500 rows x 2 columns]"
      ]
     },
     "execution_count": 137,
     "metadata": {},
     "output_type": "execute_result"
    }
   ],
   "source": [
    "sub"
   ]
  },
  {
   "cell_type": "code",
   "execution_count": null,
   "metadata": {},
   "outputs": [],
   "source": []
  }
 ],
 "metadata": {
  "kernelspec": {
   "display_name": "Python 3",
   "language": "python",
   "name": "python3"
  },
  "language_info": {
   "codemirror_mode": {
    "name": "ipython",
    "version": 3
   },
   "file_extension": ".py",
   "mimetype": "text/x-python",
   "name": "python",
   "nbconvert_exporter": "python",
   "pygments_lexer": "ipython3",
   "version": "3.6.9"
  },
  "toc": {
   "base_numbering": 1,
   "nav_menu": {},
   "number_sections": true,
   "sideBar": true,
   "skip_h1_title": false,
   "title_cell": "Table of Contents",
   "title_sidebar": "Contents",
   "toc_cell": false,
   "toc_position": {},
   "toc_section_display": true,
   "toc_window_display": false
  }
 },
 "nbformat": 4,
 "nbformat_minor": 2
}

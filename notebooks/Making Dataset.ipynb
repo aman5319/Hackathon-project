{
 "cells": [
  {
   "cell_type": "code",
   "execution_count": 1,
   "metadata": {
    "ExecuteTime": {
     "end_time": "2020-04-11T12:31:23.064713Z",
     "start_time": "2020-04-11T12:31:21.390501Z"
    }
   },
   "outputs": [],
   "source": [
    "import pandas as pd\n",
    "import datetime\n",
    "import numpy as np\n",
    "import seaborn as sns\n",
    "import matplotlib.pyplot as plt\n",
    "from functools import reduce\n",
    "from collections import Counter\n"
   ]
  },
  {
   "cell_type": "code",
   "execution_count": 2,
   "metadata": {
    "ExecuteTime": {
     "end_time": "2020-04-11T12:31:23.109327Z",
     "start_time": "2020-04-11T12:31:23.068500Z"
    }
   },
   "outputs": [],
   "source": [
    "df = pd.read_csv(\"../data/raw/train_8wry4cB.csv\")"
   ]
  },
  {
   "cell_type": "code",
   "execution_count": 3,
   "metadata": {
    "ExecuteTime": {
     "end_time": "2020-04-11T12:31:23.182505Z",
     "start_time": "2020-04-11T12:31:23.113379Z"
    }
   },
   "outputs": [],
   "source": [
    "def standard_datetime(column,format: str =\"%d/%m/%y %H:%M\"):\n",
    "    return pd.to_datetime(column , format=format)"
   ]
  },
  {
   "cell_type": "code",
   "execution_count": 4,
   "metadata": {
    "ExecuteTime": {
     "end_time": "2020-04-11T12:31:23.390405Z",
     "start_time": "2020-04-11T12:31:23.185557Z"
    }
   },
   "outputs": [],
   "source": [
    "df.startTime = standard_datetime(df.startTime)\n",
    "df.endTime = standard_datetime(df.endTime)\n",
    "df.rename(columns={\"ProductList\":\"product_list\",\"startTime\":\"start_time\",\"endTime\":\"end_time\"},inplace=True)\n",
    "df.drop(columns=[\"session_id\"],inplace=True)"
   ]
  },
  {
   "cell_type": "markdown",
   "metadata": {
    "ExecuteTime": {
     "end_time": "2020-04-11T09:51:51.707624Z",
     "start_time": "2020-04-11T09:51:51.546235Z"
    }
   },
   "source": [
    "# Making Datetime feature"
   ]
  },
  {
   "cell_type": "code",
   "execution_count": 5,
   "metadata": {
    "ExecuteTime": {
     "end_time": "2020-04-11T12:31:23.452045Z",
     "start_time": "2020-04-11T12:31:23.393165Z"
    }
   },
   "outputs": [],
   "source": [
    "def set_day(df):\n",
    "    weeks_day = ['Monday', 'Friday', 'Saturday', 'Tuesday', 'Sunday', 'Wednesday', 'Thursday']\n",
    "    a = df.start_time.dt.day_name()\n",
    "    for i in weeks_day:\n",
    "        df[i] = (a == i)\n",
    "    return df"
   ]
  },
  {
   "cell_type": "code",
   "execution_count": 6,
   "metadata": {
    "ExecuteTime": {
     "end_time": "2020-04-11T12:31:23.572068Z",
     "start_time": "2020-04-11T12:31:23.456242Z"
    }
   },
   "outputs": [],
   "source": [
    "def set_month_start(df):\n",
    "    df[\"month_start\"] = df.start_time.dt.is_month_start\n",
    "    return df"
   ]
  },
  {
   "cell_type": "code",
   "execution_count": 7,
   "metadata": {
    "ExecuteTime": {
     "end_time": "2020-04-11T12:31:23.671642Z",
     "start_time": "2020-04-11T12:31:23.576121Z"
    }
   },
   "outputs": [],
   "source": [
    "def set_weeks(df):\n",
    "    weeks = [51, 50, 49, 47, 48, 46, 52]\n",
    "    a = df.start_time.dt.weekofyear\n",
    "    for i in weeks:\n",
    "        df[f\"week_{i}\"] = (a==i)\n",
    "    return df"
   ]
  },
  {
   "cell_type": "code",
   "execution_count": 8,
   "metadata": {
    "ExecuteTime": {
     "end_time": "2020-04-11T12:31:23.783177Z",
     "start_time": "2020-04-11T12:31:23.676851Z"
    }
   },
   "outputs": [],
   "source": [
    "def set_interval_time(df , interval=\"3H\"):\n",
    "    df[\"st\"] = pd.to_datetime(df.start_time.dt.strftime(\"%H:%M\"),format=\"%H:%M\")\n",
    "    bins = df.groupby(pd.Grouper(key = \"st\",freq=interval)).count().index\n",
    "    bins = [(i,j-pd.Timedelta(seconds=1)) for i,j in zip(bins[:-1],bins[1:])] + [(bins[-1] , bins[0]- pd.Timedelta(seconds=1))]\n",
    "    for i , j in bins:\n",
    "        df[f\"time_{i.time().hour}\"] = df.st.between(i,j)\n",
    "    return df"
   ]
  },
  {
   "cell_type": "code",
   "execution_count": 9,
   "metadata": {
    "ExecuteTime": {
     "end_time": "2020-04-11T12:31:23.879989Z",
     "start_time": "2020-04-11T12:31:23.787358Z"
    }
   },
   "outputs": [],
   "source": [
    "def set_duration(df):\n",
    "    a =(df[\"end_time\"] - df[\"start_time\"]).dt.seconds/60\n",
    "    a[a > a.quantile(0.97)] = a.quantile(0.97) \n",
    "    df[\"duration\"] = a\n",
    "    return df"
   ]
  },
  {
   "cell_type": "code",
   "execution_count": 10,
   "metadata": {
    "ExecuteTime": {
     "end_time": "2020-04-11T12:31:24.207362Z",
     "start_time": "2020-04-11T12:31:23.882705Z"
    }
   },
   "outputs": [
    {
     "data": {
      "text/html": [
       "<div>\n",
       "<style scoped>\n",
       "    .dataframe tbody tr th:only-of-type {\n",
       "        vertical-align: middle;\n",
       "    }\n",
       "\n",
       "    .dataframe tbody tr th {\n",
       "        vertical-align: top;\n",
       "    }\n",
       "\n",
       "    .dataframe thead th {\n",
       "        text-align: right;\n",
       "    }\n",
       "</style>\n",
       "<table border=\"1\" class=\"dataframe\">\n",
       "  <thead>\n",
       "    <tr style=\"text-align: right;\">\n",
       "      <th></th>\n",
       "      <th>start_time</th>\n",
       "      <th>end_time</th>\n",
       "      <th>product_list</th>\n",
       "      <th>gender</th>\n",
       "      <th>Monday</th>\n",
       "      <th>Friday</th>\n",
       "      <th>Saturday</th>\n",
       "      <th>Tuesday</th>\n",
       "      <th>Sunday</th>\n",
       "      <th>Wednesday</th>\n",
       "      <th>...</th>\n",
       "      <th>st</th>\n",
       "      <th>time_0</th>\n",
       "      <th>time_3</th>\n",
       "      <th>time_6</th>\n",
       "      <th>time_9</th>\n",
       "      <th>time_12</th>\n",
       "      <th>time_15</th>\n",
       "      <th>time_18</th>\n",
       "      <th>time_21</th>\n",
       "      <th>duration</th>\n",
       "    </tr>\n",
       "  </thead>\n",
       "  <tbody>\n",
       "    <tr>\n",
       "      <th>0</th>\n",
       "      <td>2014-12-15 18:11:00</td>\n",
       "      <td>2014-12-15 18:12:00</td>\n",
       "      <td>A00002/B00003/C00006/D28435/;A00002/B00003/C00...</td>\n",
       "      <td>female</td>\n",
       "      <td>True</td>\n",
       "      <td>False</td>\n",
       "      <td>False</td>\n",
       "      <td>False</td>\n",
       "      <td>False</td>\n",
       "      <td>False</td>\n",
       "      <td>...</td>\n",
       "      <td>1900-01-01 18:11:00</td>\n",
       "      <td>False</td>\n",
       "      <td>False</td>\n",
       "      <td>False</td>\n",
       "      <td>False</td>\n",
       "      <td>False</td>\n",
       "      <td>False</td>\n",
       "      <td>True</td>\n",
       "      <td>False</td>\n",
       "      <td>1.0</td>\n",
       "    </tr>\n",
       "    <tr>\n",
       "      <th>1</th>\n",
       "      <td>2014-12-16 14:35:00</td>\n",
       "      <td>2014-12-16 14:41:00</td>\n",
       "      <td>A00001/B00009/C00031/D29404/;A00001/B00009/C00...</td>\n",
       "      <td>male</td>\n",
       "      <td>False</td>\n",
       "      <td>False</td>\n",
       "      <td>False</td>\n",
       "      <td>True</td>\n",
       "      <td>False</td>\n",
       "      <td>False</td>\n",
       "      <td>...</td>\n",
       "      <td>1900-01-01 14:35:00</td>\n",
       "      <td>False</td>\n",
       "      <td>False</td>\n",
       "      <td>False</td>\n",
       "      <td>False</td>\n",
       "      <td>True</td>\n",
       "      <td>False</td>\n",
       "      <td>False</td>\n",
       "      <td>False</td>\n",
       "      <td>6.0</td>\n",
       "    </tr>\n",
       "    <tr>\n",
       "      <th>2</th>\n",
       "      <td>2014-12-01 15:58:00</td>\n",
       "      <td>2014-12-01 15:58:00</td>\n",
       "      <td>A00002/B00001/C00020/D16944/</td>\n",
       "      <td>female</td>\n",
       "      <td>True</td>\n",
       "      <td>False</td>\n",
       "      <td>False</td>\n",
       "      <td>False</td>\n",
       "      <td>False</td>\n",
       "      <td>False</td>\n",
       "      <td>...</td>\n",
       "      <td>1900-01-01 15:58:00</td>\n",
       "      <td>False</td>\n",
       "      <td>False</td>\n",
       "      <td>False</td>\n",
       "      <td>False</td>\n",
       "      <td>False</td>\n",
       "      <td>True</td>\n",
       "      <td>False</td>\n",
       "      <td>False</td>\n",
       "      <td>0.0</td>\n",
       "    </tr>\n",
       "    <tr>\n",
       "      <th>3</th>\n",
       "      <td>2014-11-23 02:57:00</td>\n",
       "      <td>2014-11-23 03:00:00</td>\n",
       "      <td>A00002/B00004/C00018/D10284/;A00002/B00004/C00...</td>\n",
       "      <td>female</td>\n",
       "      <td>False</td>\n",
       "      <td>False</td>\n",
       "      <td>False</td>\n",
       "      <td>False</td>\n",
       "      <td>True</td>\n",
       "      <td>False</td>\n",
       "      <td>...</td>\n",
       "      <td>1900-01-01 02:57:00</td>\n",
       "      <td>True</td>\n",
       "      <td>False</td>\n",
       "      <td>False</td>\n",
       "      <td>False</td>\n",
       "      <td>False</td>\n",
       "      <td>False</td>\n",
       "      <td>False</td>\n",
       "      <td>False</td>\n",
       "      <td>3.0</td>\n",
       "    </tr>\n",
       "    <tr>\n",
       "      <th>4</th>\n",
       "      <td>2014-12-17 16:44:00</td>\n",
       "      <td>2014-12-17 16:46:00</td>\n",
       "      <td>A00001/B00001/C00012/D30805/;A00001/B00001/C00...</td>\n",
       "      <td>male</td>\n",
       "      <td>False</td>\n",
       "      <td>False</td>\n",
       "      <td>False</td>\n",
       "      <td>False</td>\n",
       "      <td>False</td>\n",
       "      <td>True</td>\n",
       "      <td>...</td>\n",
       "      <td>1900-01-01 16:44:00</td>\n",
       "      <td>False</td>\n",
       "      <td>False</td>\n",
       "      <td>False</td>\n",
       "      <td>False</td>\n",
       "      <td>False</td>\n",
       "      <td>True</td>\n",
       "      <td>False</td>\n",
       "      <td>False</td>\n",
       "      <td>2.0</td>\n",
       "    </tr>\n",
       "  </tbody>\n",
       "</table>\n",
       "<p>5 rows × 29 columns</p>\n",
       "</div>"
      ],
      "text/plain": [
       "           start_time            end_time  \\\n",
       "0 2014-12-15 18:11:00 2014-12-15 18:12:00   \n",
       "1 2014-12-16 14:35:00 2014-12-16 14:41:00   \n",
       "2 2014-12-01 15:58:00 2014-12-01 15:58:00   \n",
       "3 2014-11-23 02:57:00 2014-11-23 03:00:00   \n",
       "4 2014-12-17 16:44:00 2014-12-17 16:46:00   \n",
       "\n",
       "                                        product_list  gender  Monday  Friday  \\\n",
       "0  A00002/B00003/C00006/D28435/;A00002/B00003/C00...  female    True   False   \n",
       "1  A00001/B00009/C00031/D29404/;A00001/B00009/C00...    male   False   False   \n",
       "2                       A00002/B00001/C00020/D16944/  female    True   False   \n",
       "3  A00002/B00004/C00018/D10284/;A00002/B00004/C00...  female   False   False   \n",
       "4  A00001/B00001/C00012/D30805/;A00001/B00001/C00...    male   False   False   \n",
       "\n",
       "   Saturday  Tuesday  Sunday  Wednesday  ...                  st  time_0  \\\n",
       "0     False    False   False      False  ... 1900-01-01 18:11:00   False   \n",
       "1     False     True   False      False  ... 1900-01-01 14:35:00   False   \n",
       "2     False    False   False      False  ... 1900-01-01 15:58:00   False   \n",
       "3     False    False    True      False  ... 1900-01-01 02:57:00    True   \n",
       "4     False    False   False       True  ... 1900-01-01 16:44:00   False   \n",
       "\n",
       "   time_3  time_6  time_9  time_12  time_15  time_18  time_21 duration  \n",
       "0   False   False   False    False    False     True    False      1.0  \n",
       "1   False   False   False     True    False    False    False      6.0  \n",
       "2   False   False   False    False     True    False    False      0.0  \n",
       "3   False   False   False    False    False    False    False      3.0  \n",
       "4   False   False   False    False     True    False    False      2.0  \n",
       "\n",
       "[5 rows x 29 columns]"
      ]
     },
     "execution_count": 10,
     "metadata": {},
     "output_type": "execute_result"
    }
   ],
   "source": [
    "set_day(df)\n",
    "set_month_start(df)\n",
    "set_weeks(df)\n",
    "set_interval_time(df)\n",
    "set_duration(df)\n",
    "df.head()"
   ]
  },
  {
   "cell_type": "code",
   "execution_count": 11,
   "metadata": {
    "ExecuteTime": {
     "end_time": "2020-04-11T12:31:24.222329Z",
     "start_time": "2020-04-11T12:31:24.211652Z"
    }
   },
   "outputs": [
    {
     "data": {
      "text/plain": [
       "Index(['start_time', 'end_time', 'product_list', 'gender', 'Monday', 'Friday',\n",
       "       'Saturday', 'Tuesday', 'Sunday', 'Wednesday', 'Thursday', 'month_start',\n",
       "       'week_51', 'week_50', 'week_49', 'week_47', 'week_48', 'week_46',\n",
       "       'week_52', 'st', 'time_0', 'time_3', 'time_6', 'time_9', 'time_12',\n",
       "       'time_15', 'time_18', 'time_21', 'duration'],\n",
       "      dtype='object')"
      ]
     },
     "execution_count": 11,
     "metadata": {},
     "output_type": "execute_result"
    }
   ],
   "source": [
    "df.columns"
   ]
  },
  {
   "cell_type": "markdown",
   "metadata": {},
   "source": [
    "# Making Product List Feature\n"
   ]
  },
  {
   "cell_type": "code",
   "execution_count": 12,
   "metadata": {
    "ExecuteTime": {
     "end_time": "2020-04-11T12:31:24.455306Z",
     "start_time": "2020-04-11T12:31:24.227705Z"
    }
   },
   "outputs": [],
   "source": [
    "for index,value in enumerate([\"cat\" , \"sub-cat\",\"sub-sub-cat\",\"product\"]):\n",
    "    df[value] = df.product_list.apply(lambda x : [i.split(\"/\")[index] for i in x.split(\";\")])\n"
   ]
  },
  {
   "cell_type": "code",
   "execution_count": 13,
   "metadata": {
    "ExecuteTime": {
     "end_time": "2020-04-11T12:31:24.487113Z",
     "start_time": "2020-04-11T12:31:24.458797Z"
    }
   },
   "outputs": [],
   "source": [
    "def set_product_count(df):\n",
    "    df[\"product_count\"] = df[\"product\"].apply(len)\n",
    "    return df"
   ]
  },
  {
   "cell_type": "code",
   "execution_count": 14,
   "metadata": {
    "ExecuteTime": {
     "end_time": "2020-04-11T12:31:24.580909Z",
     "start_time": "2020-04-11T12:31:24.489847Z"
    }
   },
   "outputs": [],
   "source": [
    "def cat_sub_cat(df):\n",
    "    # calculating male and female cat - sub-cat count \n",
    "    c_m = Counter()\n",
    "    c_f = Counter()\n",
    "    \n",
    "    for index,rows in df.iterrows():\n",
    "        a = [f\"{i}-{j}\"for i , j in zip(rows[\"cat\"],rows[\"sub-cat\"])]\n",
    "        if rows[\"gender\"] == \"female\":\n",
    "            c_f.update(a)\n",
    "        else:\n",
    "            c_m.update(a)\n",
    "    \n",
    "    # cumsum for 97 percentile in female\n",
    "    f = pd.DataFrame(c_f.items(),columns=[\"cat\",\"value\"]).sort_values(by=\"value\",ascending=False).reset_index(drop=True)\n",
    "    f[\"cu\"] = (f.value.cumsum()/f.value.sum())\n",
    "    f = f[f[\"cu\"]<=0.975]\n",
    "    \n",
    "    # cumsum for 97 percentile in man\n",
    "    m = pd.DataFrame(c_m.items(),columns=[\"cat\",\"value\"]).sort_values(by=\"value\",ascending=False).reset_index(drop=True)\n",
    "    m[\"cu\"] = (f.value.cumsum()/f.value.sum())\n",
    "    m = m[m[\"cu\"]<=0.975]\n",
    "    \n",
    "    # merge to get \"cat - sub-cat to be used for both of them\"\n",
    "    f = f.merge(m , how=\"outer\",left_on=\"cat\",right_on=\"cat\", suffixes=('_female', '_male'))[\"cat\"].values.tolist()\n",
    "   \n",
    "    m = df.apply(lambda x: [f\"{i}-{j}\" for i ,j in zip(x[\"cat\"],x[\"sub-cat\"])]     ,axis=1)\n",
    "    m = m.apply(lambda x:  dict(Counter(x)))\n",
    "    for i in f:df[i] = m.apply(lambda x: x.get(i,0))\n",
    "    return df"
   ]
  },
  {
   "cell_type": "code",
   "execution_count": 15,
   "metadata": {
    "ExecuteTime": {
     "end_time": "2020-04-11T12:31:24.699098Z",
     "start_time": "2020-04-11T12:31:24.583530Z"
    }
   },
   "outputs": [],
   "source": [
    "def set_duration_product_ratio(df):\n",
    "    df[\"duration_product_ratio\"] = df[\"duration\"]/df[\"product_count\"]"
   ]
  },
  {
   "cell_type": "code",
   "execution_count": 16,
   "metadata": {
    "ExecuteTime": {
     "end_time": "2020-04-11T12:31:24.809911Z",
     "start_time": "2020-04-11T12:31:24.701561Z"
    }
   },
   "outputs": [],
   "source": [
    "def cat_flag(df):\n",
    "    cat_list = reduce(lambda x,y :set(x).union(set(y)) , df.cat)\n",
    "    for i in cat_list:\n",
    "        df[i] = df.cat.apply(lambda x: i in x)\n",
    "    return df"
   ]
  },
  {
   "cell_type": "code",
   "execution_count": 17,
   "metadata": {
    "ExecuteTime": {
     "end_time": "2020-04-11T12:31:28.743107Z",
     "start_time": "2020-04-11T12:31:24.812874Z"
    }
   },
   "outputs": [
    {
     "data": {
      "text/plain": [
       "Index(['start_time', 'end_time', 'product_list', 'gender', 'Monday', 'Friday',\n",
       "       'Saturday', 'Tuesday', 'Sunday', 'Wednesday', 'Thursday', 'month_start',\n",
       "       'week_51', 'week_50', 'week_49', 'week_47', 'week_48', 'week_46',\n",
       "       'week_52', 'st', 'time_0', 'time_3', 'time_6', 'time_9', 'time_12',\n",
       "       'time_15', 'time_18', 'time_21', 'duration', 'cat', 'sub-cat',\n",
       "       'sub-sub-cat', 'product', 'product_count', 'A00002-B00002',\n",
       "       'A00002-B00003', 'A00002-B00001', 'A00003-B00012', 'A00002-B00007',\n",
       "       'A00002-B00004', 'A00003-B00022', 'A00002-B00005', 'A00002-B00016',\n",
       "       'A00002-B00017', 'A00002-B00006', 'A00003-B00021', 'A00003-B00020',\n",
       "       'A00001-B00001', 'A00003-B00004', 'A00001-B00009', 'A00003-B00028',\n",
       "       'A00005-B00019', 'A00002-B00011', 'A00001-B00015', 'A00001-B00004',\n",
       "       'A00003-B00026', 'A00005-B00032', 'A00004-B00014', 'A00011-B00050',\n",
       "       'A00001-B00031', 'A00003-B00036', 'A00002-B00010', 'A00006-B00057',\n",
       "       'A00003-B00039', 'A00005-B00044', 'A00005-B00018', 'A00001-B00037',\n",
       "       'A00001-B00027', 'A00004-B00013', 'duration_product_ratio', 'A00001',\n",
       "       'A00002', 'A00004', 'A00011', 'A00010', 'A00005', 'A00009', 'A00003',\n",
       "       'A00006', 'A00008', 'A00007'],\n",
       "      dtype='object')"
      ]
     },
     "execution_count": 17,
     "metadata": {},
     "output_type": "execute_result"
    }
   ],
   "source": [
    "set_product_count(df)\n",
    "cat_sub_cat(df)\n",
    "set_duration_product_ratio(df)\n",
    "cat_flag(df)\n",
    "df.columns"
   ]
  },
  {
   "cell_type": "markdown",
   "metadata": {},
   "source": [
    "# Splitting Train and Valid."
   ]
  },
  {
   "cell_type": "code",
   "execution_count": 18,
   "metadata": {
    "ExecuteTime": {
     "end_time": "2020-04-11T12:31:28.772169Z",
     "start_time": "2020-04-11T12:31:28.749752Z"
    }
   },
   "outputs": [],
   "source": [
    "# drop these columns\n",
    "df  = df.drop(columns=['start_time', 'end_time', 'product_list','st','cat', 'sub-cat','sub-sub-cat', 'product'])"
   ]
  },
  {
   "cell_type": "code",
   "execution_count": 20,
   "metadata": {
    "ExecuteTime": {
     "end_time": "2020-04-11T12:32:06.264664Z",
     "start_time": "2020-04-11T12:32:06.254357Z"
    }
   },
   "outputs": [],
   "source": [
    "X = df.drop(columns=[\"gender\"])\n",
    "y = np.where(df.gender == \"male\" , 1 ,0)"
   ]
  },
  {
   "cell_type": "code",
   "execution_count": 21,
   "metadata": {
    "ExecuteTime": {
     "end_time": "2020-04-11T12:32:07.047523Z",
     "start_time": "2020-04-11T12:32:06.831214Z"
    }
   },
   "outputs": [],
   "source": [
    "from sklearn.ensemble import RandomForestClassifier\n",
    "from sklearn.model_selection import cross_validate, StratifiedShuffleSplit\n",
    "from sklearn.metrics import f1_score, accuracy_score, classification_report"
   ]
  },
  {
   "cell_type": "code",
   "execution_count": 22,
   "metadata": {
    "ExecuteTime": {
     "end_time": "2020-04-11T12:32:15.787863Z",
     "start_time": "2020-04-11T12:32:07.218621Z"
    }
   },
   "outputs": [],
   "source": [
    "cv = cross_validate(RandomForestClassifier(n_estimators=100),X=X,y = y,cv=StratifiedShuffleSplit(5),scoring = 'f1')"
   ]
  },
  {
   "cell_type": "code",
   "execution_count": 23,
   "metadata": {
    "ExecuteTime": {
     "end_time": "2020-04-11T12:32:15.803352Z",
     "start_time": "2020-04-11T12:32:15.791152Z"
    }
   },
   "outputs": [
    {
     "data": {
      "text/plain": [
       "{'fit_time': array([1.76082683, 1.60989428, 1.64399171, 1.63231921, 1.62326407]),\n",
       " 'score_time': array([0.05052519, 0.04953885, 0.05090594, 0.05056357, 0.05120873]),\n",
       " 'test_score': array([0.68148148, 0.64339152, 0.63746959, 0.65217391, 0.7       ])}"
      ]
     },
     "execution_count": 23,
     "metadata": {},
     "output_type": "execute_result"
    }
   ],
   "source": [
    "cv"
   ]
  },
  {
   "cell_type": "code",
   "execution_count": 24,
   "metadata": {
    "ExecuteTime": {
     "end_time": "2020-04-11T12:32:15.908318Z",
     "start_time": "2020-04-11T12:32:15.808437Z"
    }
   },
   "outputs": [],
   "source": [
    "from sklearn.feature_selection import SelectFromModel"
   ]
  },
  {
   "cell_type": "code",
   "execution_count": 25,
   "metadata": {
    "ExecuteTime": {
     "end_time": "2020-04-11T12:32:16.033441Z",
     "start_time": "2020-04-11T12:32:15.914218Z"
    }
   },
   "outputs": [],
   "source": [
    "rf = RandomForestClassifier(n_estimators=100)"
   ]
  },
  {
   "cell_type": "code",
   "execution_count": 26,
   "metadata": {
    "ExecuteTime": {
     "end_time": "2020-04-11T12:32:17.956385Z",
     "start_time": "2020-04-11T12:32:16.036948Z"
    }
   },
   "outputs": [],
   "source": [
    "rf_filter = SelectFromModel(rf,threshold=0.005).fit(X,y)"
   ]
  },
  {
   "cell_type": "code",
   "execution_count": 27,
   "metadata": {
    "ExecuteTime": {
     "end_time": "2020-04-11T12:32:17.997885Z",
     "start_time": "2020-04-11T12:32:17.962238Z"
    }
   },
   "outputs": [],
   "source": [
    "to_keep = X.columns[rf_filter.get_support()]"
   ]
  },
  {
   "cell_type": "code",
   "execution_count": 28,
   "metadata": {
    "ExecuteTime": {
     "end_time": "2020-04-11T12:32:25.048353Z",
     "start_time": "2020-04-11T12:32:18.001009Z"
    }
   },
   "outputs": [],
   "source": [
    "cv = cross_validate(rf,X=X[to_keep],y=y,cv=StratifiedShuffleSplit(5),scoring = 'f1')"
   ]
  },
  {
   "cell_type": "code",
   "execution_count": 29,
   "metadata": {
    "ExecuteTime": {
     "end_time": "2020-04-11T12:32:25.061742Z",
     "start_time": "2020-04-11T12:32:25.052200Z"
    }
   },
   "outputs": [
    {
     "data": {
      "text/plain": [
       "{'fit_time': array([1.39989352, 1.30393505, 1.3298409 , 1.354949  , 1.29941869]),\n",
       " 'score_time': array([0.0477221 , 0.04776978, 0.05806875, 0.04748559, 0.04782844]),\n",
       " 'test_score': array([0.64096386, 0.61835749, 0.63438257, 0.6127451 , 0.62716049])}"
      ]
     },
     "execution_count": 29,
     "metadata": {},
     "output_type": "execute_result"
    }
   ],
   "source": [
    "cv"
   ]
  }
 ],
 "metadata": {
  "kernelspec": {
   "display_name": "Python 3",
   "language": "python",
   "name": "python3"
  },
  "language_info": {
   "codemirror_mode": {
    "name": "ipython",
    "version": 3
   },
   "file_extension": ".py",
   "mimetype": "text/x-python",
   "name": "python",
   "nbconvert_exporter": "python",
   "pygments_lexer": "ipython3",
   "version": "3.6.9"
  },
  "toc": {
   "base_numbering": 1,
   "nav_menu": {},
   "number_sections": true,
   "sideBar": true,
   "skip_h1_title": false,
   "title_cell": "Table of Contents",
   "title_sidebar": "Contents",
   "toc_cell": false,
   "toc_position": {},
   "toc_section_display": true,
   "toc_window_display": false
  }
 },
 "nbformat": 4,
 "nbformat_minor": 2
}

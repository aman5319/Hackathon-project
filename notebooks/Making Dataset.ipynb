{
 "cells": [
  {
   "cell_type": "code",
   "execution_count": 84,
   "metadata": {
    "ExecuteTime": {
     "end_time": "2020-04-11T21:53:10.703213Z",
     "start_time": "2020-04-11T21:53:10.696078Z"
    }
   },
   "outputs": [],
   "source": [
    "import pandas as pd\n",
    "import datetime\n",
    "import numpy as np\n",
    "import seaborn as sns\n",
    "import matplotlib.pyplot as plt\n",
    "from functools import reduce\n",
    "from collections import Counter\n"
   ]
  },
  {
   "cell_type": "code",
   "execution_count": 85,
   "metadata": {
    "ExecuteTime": {
     "end_time": "2020-04-11T21:53:11.164659Z",
     "start_time": "2020-04-11T21:53:11.109263Z"
    }
   },
   "outputs": [],
   "source": [
    "df = pd.read_csv(\"../data/raw/train_8wry4cB.csv\")"
   ]
  },
  {
   "cell_type": "code",
   "execution_count": 86,
   "metadata": {
    "ExecuteTime": {
     "end_time": "2020-04-11T21:53:11.444109Z",
     "start_time": "2020-04-11T21:53:11.439210Z"
    }
   },
   "outputs": [],
   "source": [
    "def standard_datetime(column,format: str =\"%d/%m/%y %H:%M\"):\n",
    "    return pd.to_datetime(column , format=format)"
   ]
  },
  {
   "cell_type": "code",
   "execution_count": 87,
   "metadata": {
    "ExecuteTime": {
     "end_time": "2020-04-11T21:53:11.759036Z",
     "start_time": "2020-04-11T21:53:11.745209Z"
    }
   },
   "outputs": [],
   "source": [
    "def standardize(df,drop_session_id=False):\n",
    "    df.startTime = standard_datetime(df.startTime)\n",
    "    df.endTime = standard_datetime(df.endTime)\n",
    "    df.rename(columns={\"ProductList\":\"product_list\",\"startTime\":\"start_time\",\"endTime\":\"end_time\"},inplace=True)\n",
    "    if not drop_session_id:\n",
    "        df.drop(columns=[\"session_id\"],inplace=True)\n",
    "\n",
    "    for index,value in enumerate([\"cat\" , \"sub-cat\",\"sub-sub-cat\",\"product\"]):\n",
    "        df[value] = df.product_list.apply(lambda x : [i.split(\"/\")[index] for i in x.split(\";\")])\n",
    "    return df"
   ]
  },
  {
   "cell_type": "code",
   "execution_count": 88,
   "metadata": {
    "ExecuteTime": {
     "end_time": "2020-04-11T21:53:12.320949Z",
     "start_time": "2020-04-11T21:53:12.042887Z"
    }
   },
   "outputs": [
    {
     "data": {
      "text/html": [
       "<div>\n",
       "<style scoped>\n",
       "    .dataframe tbody tr th:only-of-type {\n",
       "        vertical-align: middle;\n",
       "    }\n",
       "\n",
       "    .dataframe tbody tr th {\n",
       "        vertical-align: top;\n",
       "    }\n",
       "\n",
       "    .dataframe thead th {\n",
       "        text-align: right;\n",
       "    }\n",
       "</style>\n",
       "<table border=\"1\" class=\"dataframe\">\n",
       "  <thead>\n",
       "    <tr style=\"text-align: right;\">\n",
       "      <th></th>\n",
       "      <th>start_time</th>\n",
       "      <th>end_time</th>\n",
       "      <th>product_list</th>\n",
       "      <th>gender</th>\n",
       "      <th>cat</th>\n",
       "      <th>sub-cat</th>\n",
       "      <th>sub-sub-cat</th>\n",
       "      <th>product</th>\n",
       "    </tr>\n",
       "  </thead>\n",
       "  <tbody>\n",
       "    <tr>\n",
       "      <th>0</th>\n",
       "      <td>2014-12-15 18:11:00</td>\n",
       "      <td>2014-12-15 18:12:00</td>\n",
       "      <td>A00002/B00003/C00006/D28435/;A00002/B00003/C00...</td>\n",
       "      <td>female</td>\n",
       "      <td>[A00002, A00002, A00002, A00002]</td>\n",
       "      <td>[B00003, B00003, B00003, B00003]</td>\n",
       "      <td>[C00006, C00006, C00006, C00006]</td>\n",
       "      <td>[D28435, D02554, D28436, D28437]</td>\n",
       "    </tr>\n",
       "    <tr>\n",
       "      <th>1</th>\n",
       "      <td>2014-12-16 14:35:00</td>\n",
       "      <td>2014-12-16 14:41:00</td>\n",
       "      <td>A00001/B00009/C00031/D29404/;A00001/B00009/C00...</td>\n",
       "      <td>male</td>\n",
       "      <td>[A00001, A00001, A00001, A00001, A00001, A0000...</td>\n",
       "      <td>[B00009, B00009, B00009, B00009, B00009, B0000...</td>\n",
       "      <td>[C00031, C00031, C00031, C00031, C00031, C0003...</td>\n",
       "      <td>[D29404, D02617, D29407, D29410, D29411, D2544...</td>\n",
       "    </tr>\n",
       "    <tr>\n",
       "      <th>2</th>\n",
       "      <td>2014-12-01 15:58:00</td>\n",
       "      <td>2014-12-01 15:58:00</td>\n",
       "      <td>A00002/B00001/C00020/D16944/</td>\n",
       "      <td>female</td>\n",
       "      <td>[A00002]</td>\n",
       "      <td>[B00001]</td>\n",
       "      <td>[C00020]</td>\n",
       "      <td>[D16944]</td>\n",
       "    </tr>\n",
       "    <tr>\n",
       "      <th>3</th>\n",
       "      <td>2014-11-23 02:57:00</td>\n",
       "      <td>2014-11-23 03:00:00</td>\n",
       "      <td>A00002/B00004/C00018/D10284/;A00002/B00004/C00...</td>\n",
       "      <td>female</td>\n",
       "      <td>[A00002, A00002, A00002]</td>\n",
       "      <td>[B00004, B00004, B00004]</td>\n",
       "      <td>[C00018, C00018, C00018]</td>\n",
       "      <td>[D10284, D10285, D10286]</td>\n",
       "    </tr>\n",
       "    <tr>\n",
       "      <th>4</th>\n",
       "      <td>2014-12-17 16:44:00</td>\n",
       "      <td>2014-12-17 16:46:00</td>\n",
       "      <td>A00001/B00001/C00012/D30805/;A00001/B00001/C00...</td>\n",
       "      <td>male</td>\n",
       "      <td>[A00001, A00001]</td>\n",
       "      <td>[B00001, B00001]</td>\n",
       "      <td>[C00012, C00012]</td>\n",
       "      <td>[D30805, D30806]</td>\n",
       "    </tr>\n",
       "  </tbody>\n",
       "</table>\n",
       "</div>"
      ],
      "text/plain": [
       "           start_time            end_time  \\\n",
       "0 2014-12-15 18:11:00 2014-12-15 18:12:00   \n",
       "1 2014-12-16 14:35:00 2014-12-16 14:41:00   \n",
       "2 2014-12-01 15:58:00 2014-12-01 15:58:00   \n",
       "3 2014-11-23 02:57:00 2014-11-23 03:00:00   \n",
       "4 2014-12-17 16:44:00 2014-12-17 16:46:00   \n",
       "\n",
       "                                        product_list  gender  \\\n",
       "0  A00002/B00003/C00006/D28435/;A00002/B00003/C00...  female   \n",
       "1  A00001/B00009/C00031/D29404/;A00001/B00009/C00...    male   \n",
       "2                       A00002/B00001/C00020/D16944/  female   \n",
       "3  A00002/B00004/C00018/D10284/;A00002/B00004/C00...  female   \n",
       "4  A00001/B00001/C00012/D30805/;A00001/B00001/C00...    male   \n",
       "\n",
       "                                                 cat  \\\n",
       "0                   [A00002, A00002, A00002, A00002]   \n",
       "1  [A00001, A00001, A00001, A00001, A00001, A0000...   \n",
       "2                                           [A00002]   \n",
       "3                           [A00002, A00002, A00002]   \n",
       "4                                   [A00001, A00001]   \n",
       "\n",
       "                                             sub-cat  \\\n",
       "0                   [B00003, B00003, B00003, B00003]   \n",
       "1  [B00009, B00009, B00009, B00009, B00009, B0000...   \n",
       "2                                           [B00001]   \n",
       "3                           [B00004, B00004, B00004]   \n",
       "4                                   [B00001, B00001]   \n",
       "\n",
       "                                         sub-sub-cat  \\\n",
       "0                   [C00006, C00006, C00006, C00006]   \n",
       "1  [C00031, C00031, C00031, C00031, C00031, C0003...   \n",
       "2                                           [C00020]   \n",
       "3                           [C00018, C00018, C00018]   \n",
       "4                                   [C00012, C00012]   \n",
       "\n",
       "                                             product  \n",
       "0                   [D28435, D02554, D28436, D28437]  \n",
       "1  [D29404, D02617, D29407, D29410, D29411, D2544...  \n",
       "2                                           [D16944]  \n",
       "3                           [D10284, D10285, D10286]  \n",
       "4                                   [D30805, D30806]  "
      ]
     },
     "execution_count": 88,
     "metadata": {},
     "output_type": "execute_result"
    }
   ],
   "source": [
    "standardize(df)\n",
    "df.head()"
   ]
  },
  {
   "cell_type": "markdown",
   "metadata": {
    "ExecuteTime": {
     "end_time": "2020-04-11T09:51:51.707624Z",
     "start_time": "2020-04-11T09:51:51.546235Z"
    }
   },
   "source": [
    "# Making Datetime feature"
   ]
  },
  {
   "cell_type": "code",
   "execution_count": 89,
   "metadata": {
    "ExecuteTime": {
     "end_time": "2020-04-11T21:53:12.719876Z",
     "start_time": "2020-04-11T21:53:12.708928Z"
    }
   },
   "outputs": [],
   "source": [
    "def set_day(df):\n",
    "    weeks_day = ['Monday', 'Friday', 'Saturday', 'Tuesday', 'Sunday', 'Wednesday', 'Thursday']\n",
    "    a = df.start_time.dt.day_name()\n",
    "    for i in weeks_day:\n",
    "        df[i] = (a == i)\n",
    "    return df"
   ]
  },
  {
   "cell_type": "code",
   "execution_count": 90,
   "metadata": {
    "ExecuteTime": {
     "end_time": "2020-04-11T21:53:13.066677Z",
     "start_time": "2020-04-11T21:53:13.058988Z"
    }
   },
   "outputs": [],
   "source": [
    "def set_month_start(df):\n",
    "    df[\"month_start\"] = df.start_time.dt.is_month_start\n",
    "    return df"
   ]
  },
  {
   "cell_type": "code",
   "execution_count": 91,
   "metadata": {
    "ExecuteTime": {
     "end_time": "2020-04-11T21:53:13.400444Z",
     "start_time": "2020-04-11T21:53:13.395408Z"
    }
   },
   "outputs": [],
   "source": [
    "def set_weeks(df):\n",
    "    weeks = [51, 50, 49, 47, 48, 46, 52]\n",
    "    a = df.start_time.dt.weekofyear\n",
    "    for i in weeks:\n",
    "        df[f\"week_{i}\"] = (a==i)\n",
    "    return df"
   ]
  },
  {
   "cell_type": "code",
   "execution_count": 92,
   "metadata": {
    "ExecuteTime": {
     "end_time": "2020-04-11T21:53:13.741040Z",
     "start_time": "2020-04-11T21:53:13.726780Z"
    }
   },
   "outputs": [],
   "source": [
    "def set_interval_time(df , interval=\"3H\"):\n",
    "    df[\"st\"] = pd.to_datetime(df.start_time.dt.strftime(\"%H:%M\"),format=\"%H:%M\")\n",
    "    bins = df.groupby(pd.Grouper(key = \"st\",freq=interval)).count().index\n",
    "    bins = [(i,j-pd.Timedelta(seconds=1)) for i,j in zip(bins[:-1],bins[1:])] + [(bins[-1] , bins[0]- pd.Timedelta(seconds=1))]\n",
    "    for i , j in bins:\n",
    "        df[f\"time_{i.time().hour}\"] = df.st.between(i,j)\n",
    "    return df"
   ]
  },
  {
   "cell_type": "code",
   "execution_count": 93,
   "metadata": {
    "ExecuteTime": {
     "end_time": "2020-04-11T21:53:14.087282Z",
     "start_time": "2020-04-11T21:53:14.081666Z"
    }
   },
   "outputs": [],
   "source": [
    "def set_duration(df):\n",
    "    a =(df[\"end_time\"] - df[\"start_time\"]).dt.seconds/60\n",
    "    a[a > a.quantile(0.97)] = a.quantile(0.97) \n",
    "    df[\"duration\"] = a\n",
    "    return df"
   ]
  },
  {
   "cell_type": "code",
   "execution_count": 94,
   "metadata": {
    "ExecuteTime": {
     "end_time": "2020-04-11T21:53:14.744820Z",
     "start_time": "2020-04-11T21:53:14.481836Z"
    }
   },
   "outputs": [
    {
     "data": {
      "text/html": [
       "<div>\n",
       "<style scoped>\n",
       "    .dataframe tbody tr th:only-of-type {\n",
       "        vertical-align: middle;\n",
       "    }\n",
       "\n",
       "    .dataframe tbody tr th {\n",
       "        vertical-align: top;\n",
       "    }\n",
       "\n",
       "    .dataframe thead th {\n",
       "        text-align: right;\n",
       "    }\n",
       "</style>\n",
       "<table border=\"1\" class=\"dataframe\">\n",
       "  <thead>\n",
       "    <tr style=\"text-align: right;\">\n",
       "      <th></th>\n",
       "      <th>start_time</th>\n",
       "      <th>end_time</th>\n",
       "      <th>product_list</th>\n",
       "      <th>gender</th>\n",
       "      <th>cat</th>\n",
       "      <th>sub-cat</th>\n",
       "      <th>sub-sub-cat</th>\n",
       "      <th>product</th>\n",
       "      <th>Monday</th>\n",
       "      <th>Friday</th>\n",
       "      <th>...</th>\n",
       "      <th>st</th>\n",
       "      <th>time_0</th>\n",
       "      <th>time_3</th>\n",
       "      <th>time_6</th>\n",
       "      <th>time_9</th>\n",
       "      <th>time_12</th>\n",
       "      <th>time_15</th>\n",
       "      <th>time_18</th>\n",
       "      <th>time_21</th>\n",
       "      <th>duration</th>\n",
       "    </tr>\n",
       "  </thead>\n",
       "  <tbody>\n",
       "    <tr>\n",
       "      <th>0</th>\n",
       "      <td>2014-12-15 18:11:00</td>\n",
       "      <td>2014-12-15 18:12:00</td>\n",
       "      <td>A00002/B00003/C00006/D28435/;A00002/B00003/C00...</td>\n",
       "      <td>female</td>\n",
       "      <td>[A00002, A00002, A00002, A00002]</td>\n",
       "      <td>[B00003, B00003, B00003, B00003]</td>\n",
       "      <td>[C00006, C00006, C00006, C00006]</td>\n",
       "      <td>[D28435, D02554, D28436, D28437]</td>\n",
       "      <td>True</td>\n",
       "      <td>False</td>\n",
       "      <td>...</td>\n",
       "      <td>1900-01-01 18:11:00</td>\n",
       "      <td>False</td>\n",
       "      <td>False</td>\n",
       "      <td>False</td>\n",
       "      <td>False</td>\n",
       "      <td>False</td>\n",
       "      <td>False</td>\n",
       "      <td>True</td>\n",
       "      <td>False</td>\n",
       "      <td>1.0</td>\n",
       "    </tr>\n",
       "    <tr>\n",
       "      <th>1</th>\n",
       "      <td>2014-12-16 14:35:00</td>\n",
       "      <td>2014-12-16 14:41:00</td>\n",
       "      <td>A00001/B00009/C00031/D29404/;A00001/B00009/C00...</td>\n",
       "      <td>male</td>\n",
       "      <td>[A00001, A00001, A00001, A00001, A00001, A0000...</td>\n",
       "      <td>[B00009, B00009, B00009, B00009, B00009, B0000...</td>\n",
       "      <td>[C00031, C00031, C00031, C00031, C00031, C0003...</td>\n",
       "      <td>[D29404, D02617, D29407, D29410, D29411, D2544...</td>\n",
       "      <td>False</td>\n",
       "      <td>False</td>\n",
       "      <td>...</td>\n",
       "      <td>1900-01-01 14:35:00</td>\n",
       "      <td>False</td>\n",
       "      <td>False</td>\n",
       "      <td>False</td>\n",
       "      <td>False</td>\n",
       "      <td>True</td>\n",
       "      <td>False</td>\n",
       "      <td>False</td>\n",
       "      <td>False</td>\n",
       "      <td>6.0</td>\n",
       "    </tr>\n",
       "    <tr>\n",
       "      <th>2</th>\n",
       "      <td>2014-12-01 15:58:00</td>\n",
       "      <td>2014-12-01 15:58:00</td>\n",
       "      <td>A00002/B00001/C00020/D16944/</td>\n",
       "      <td>female</td>\n",
       "      <td>[A00002]</td>\n",
       "      <td>[B00001]</td>\n",
       "      <td>[C00020]</td>\n",
       "      <td>[D16944]</td>\n",
       "      <td>True</td>\n",
       "      <td>False</td>\n",
       "      <td>...</td>\n",
       "      <td>1900-01-01 15:58:00</td>\n",
       "      <td>False</td>\n",
       "      <td>False</td>\n",
       "      <td>False</td>\n",
       "      <td>False</td>\n",
       "      <td>False</td>\n",
       "      <td>True</td>\n",
       "      <td>False</td>\n",
       "      <td>False</td>\n",
       "      <td>0.0</td>\n",
       "    </tr>\n",
       "    <tr>\n",
       "      <th>3</th>\n",
       "      <td>2014-11-23 02:57:00</td>\n",
       "      <td>2014-11-23 03:00:00</td>\n",
       "      <td>A00002/B00004/C00018/D10284/;A00002/B00004/C00...</td>\n",
       "      <td>female</td>\n",
       "      <td>[A00002, A00002, A00002]</td>\n",
       "      <td>[B00004, B00004, B00004]</td>\n",
       "      <td>[C00018, C00018, C00018]</td>\n",
       "      <td>[D10284, D10285, D10286]</td>\n",
       "      <td>False</td>\n",
       "      <td>False</td>\n",
       "      <td>...</td>\n",
       "      <td>1900-01-01 02:57:00</td>\n",
       "      <td>True</td>\n",
       "      <td>False</td>\n",
       "      <td>False</td>\n",
       "      <td>False</td>\n",
       "      <td>False</td>\n",
       "      <td>False</td>\n",
       "      <td>False</td>\n",
       "      <td>False</td>\n",
       "      <td>3.0</td>\n",
       "    </tr>\n",
       "    <tr>\n",
       "      <th>4</th>\n",
       "      <td>2014-12-17 16:44:00</td>\n",
       "      <td>2014-12-17 16:46:00</td>\n",
       "      <td>A00001/B00001/C00012/D30805/;A00001/B00001/C00...</td>\n",
       "      <td>male</td>\n",
       "      <td>[A00001, A00001]</td>\n",
       "      <td>[B00001, B00001]</td>\n",
       "      <td>[C00012, C00012]</td>\n",
       "      <td>[D30805, D30806]</td>\n",
       "      <td>False</td>\n",
       "      <td>False</td>\n",
       "      <td>...</td>\n",
       "      <td>1900-01-01 16:44:00</td>\n",
       "      <td>False</td>\n",
       "      <td>False</td>\n",
       "      <td>False</td>\n",
       "      <td>False</td>\n",
       "      <td>False</td>\n",
       "      <td>True</td>\n",
       "      <td>False</td>\n",
       "      <td>False</td>\n",
       "      <td>2.0</td>\n",
       "    </tr>\n",
       "  </tbody>\n",
       "</table>\n",
       "<p>5 rows × 33 columns</p>\n",
       "</div>"
      ],
      "text/plain": [
       "           start_time            end_time  \\\n",
       "0 2014-12-15 18:11:00 2014-12-15 18:12:00   \n",
       "1 2014-12-16 14:35:00 2014-12-16 14:41:00   \n",
       "2 2014-12-01 15:58:00 2014-12-01 15:58:00   \n",
       "3 2014-11-23 02:57:00 2014-11-23 03:00:00   \n",
       "4 2014-12-17 16:44:00 2014-12-17 16:46:00   \n",
       "\n",
       "                                        product_list  gender  \\\n",
       "0  A00002/B00003/C00006/D28435/;A00002/B00003/C00...  female   \n",
       "1  A00001/B00009/C00031/D29404/;A00001/B00009/C00...    male   \n",
       "2                       A00002/B00001/C00020/D16944/  female   \n",
       "3  A00002/B00004/C00018/D10284/;A00002/B00004/C00...  female   \n",
       "4  A00001/B00001/C00012/D30805/;A00001/B00001/C00...    male   \n",
       "\n",
       "                                                 cat  \\\n",
       "0                   [A00002, A00002, A00002, A00002]   \n",
       "1  [A00001, A00001, A00001, A00001, A00001, A0000...   \n",
       "2                                           [A00002]   \n",
       "3                           [A00002, A00002, A00002]   \n",
       "4                                   [A00001, A00001]   \n",
       "\n",
       "                                             sub-cat  \\\n",
       "0                   [B00003, B00003, B00003, B00003]   \n",
       "1  [B00009, B00009, B00009, B00009, B00009, B0000...   \n",
       "2                                           [B00001]   \n",
       "3                           [B00004, B00004, B00004]   \n",
       "4                                   [B00001, B00001]   \n",
       "\n",
       "                                         sub-sub-cat  \\\n",
       "0                   [C00006, C00006, C00006, C00006]   \n",
       "1  [C00031, C00031, C00031, C00031, C00031, C0003...   \n",
       "2                                           [C00020]   \n",
       "3                           [C00018, C00018, C00018]   \n",
       "4                                   [C00012, C00012]   \n",
       "\n",
       "                                             product  Monday  Friday  ...  \\\n",
       "0                   [D28435, D02554, D28436, D28437]    True   False  ...   \n",
       "1  [D29404, D02617, D29407, D29410, D29411, D2544...   False   False  ...   \n",
       "2                                           [D16944]    True   False  ...   \n",
       "3                           [D10284, D10285, D10286]   False   False  ...   \n",
       "4                                   [D30805, D30806]   False   False  ...   \n",
       "\n",
       "                   st  time_0  time_3  time_6  time_9  time_12  time_15  \\\n",
       "0 1900-01-01 18:11:00   False   False   False   False    False    False   \n",
       "1 1900-01-01 14:35:00   False   False   False   False     True    False   \n",
       "2 1900-01-01 15:58:00   False   False   False   False    False     True   \n",
       "3 1900-01-01 02:57:00    True   False   False   False    False    False   \n",
       "4 1900-01-01 16:44:00   False   False   False   False    False     True   \n",
       "\n",
       "   time_18  time_21  duration  \n",
       "0     True    False       1.0  \n",
       "1    False    False       6.0  \n",
       "2    False    False       0.0  \n",
       "3    False    False       3.0  \n",
       "4    False    False       2.0  \n",
       "\n",
       "[5 rows x 33 columns]"
      ]
     },
     "execution_count": 94,
     "metadata": {},
     "output_type": "execute_result"
    }
   ],
   "source": [
    "set_day(df)\n",
    "set_month_start(df)\n",
    "set_weeks(df)\n",
    "set_interval_time(df)\n",
    "set_duration(df)\n",
    "df.head()"
   ]
  },
  {
   "cell_type": "code",
   "execution_count": 95,
   "metadata": {
    "ExecuteTime": {
     "end_time": "2020-04-11T21:53:14.914012Z",
     "start_time": "2020-04-11T21:53:14.900972Z"
    }
   },
   "outputs": [
    {
     "data": {
      "text/plain": [
       "Index(['start_time', 'end_time', 'product_list', 'gender', 'cat', 'sub-cat',\n",
       "       'sub-sub-cat', 'product', 'Monday', 'Friday', 'Saturday', 'Tuesday',\n",
       "       'Sunday', 'Wednesday', 'Thursday', 'month_start', 'week_51', 'week_50',\n",
       "       'week_49', 'week_47', 'week_48', 'week_46', 'week_52', 'st', 'time_0',\n",
       "       'time_3', 'time_6', 'time_9', 'time_12', 'time_15', 'time_18',\n",
       "       'time_21', 'duration'],\n",
       "      dtype='object')"
      ]
     },
     "execution_count": 95,
     "metadata": {},
     "output_type": "execute_result"
    }
   ],
   "source": [
    "\n",
    "df.columns"
   ]
  },
  {
   "cell_type": "markdown",
   "metadata": {},
   "source": [
    "\n",
    "\n",
    "# Making Product List Feature\n"
   ]
  },
  {
   "cell_type": "code",
   "execution_count": 96,
   "metadata": {
    "ExecuteTime": {
     "end_time": "2020-04-11T21:53:19.707599Z",
     "start_time": "2020-04-11T21:53:19.698934Z"
    }
   },
   "outputs": [],
   "source": [
    "def set_product_count(df):\n",
    "    df[\"product_count\"] = df[\"product\"].apply(len)\n",
    "    return df"
   ]
  },
  {
   "cell_type": "code",
   "execution_count": 97,
   "metadata": {
    "ExecuteTime": {
     "end_time": "2020-04-11T21:53:20.190154Z",
     "start_time": "2020-04-11T21:53:20.169202Z"
    }
   },
   "outputs": [],
   "source": [
    "def create_useful_cat_sub_cat(train_df):\n",
    "    # calculating male and female cat - sub-cat count \n",
    "    c_m = Counter()\n",
    "    c_f = Counter()\n",
    "    \n",
    "    for index,rows in train_df.iterrows():\n",
    "        a = [f\"{i}-{j}\"for i , j in zip(rows[\"cat\"],rows[\"sub-cat\"])]\n",
    "        if rows[\"gender\"] == \"female\":\n",
    "            c_f.update(a)\n",
    "        else:\n",
    "            c_m.update(a)\n",
    "    \n",
    "    # cumsum for 97 percentile in female\n",
    "    f = pd.DataFrame(c_f.items(),columns=[\"cat\",\"value\"]).sort_values(by=\"value\",ascending=False).reset_index(drop=True)\n",
    "    f[\"cu\"] = (f.value.cumsum()/f.value.sum())\n",
    "    f = f[f[\"cu\"]<=0.975]\n",
    "    # cumsum for 97 percentile in male\n",
    "    m = pd.DataFrame(c_m.items(),columns=[\"cat\",\"value\"]).sort_values(by=\"value\",ascending=False).reset_index(drop=True)\n",
    "    m[\"cu\"] = (f.value.cumsum()/f.value.sum())\n",
    "    m = m[m[\"cu\"]<=0.975]\n",
    "    # merge to get \"cat - sub-cat to be used for both of them\"\n",
    "    f = f.merge(m , how=\"outer\",left_on=\"cat\",right_on=\"cat\", suffixes=('_female', '_male'))[\"cat\"].values.tolist()\n",
    "    \n",
    "    return f"
   ]
  },
  {
   "cell_type": "code",
   "execution_count": 98,
   "metadata": {
    "ExecuteTime": {
     "end_time": "2020-04-11T21:53:20.941990Z",
     "start_time": "2020-04-11T21:53:20.929793Z"
    }
   },
   "outputs": [],
   "source": [
    "def cat_sub_cat(df ,cat_sub_cat_list=None):\n",
    "    if cat_sub_cat_list is None:\n",
    "        cat_sub_cat_list =  create_useful_cat_sub_cat(df) ## for testing purpose we have to save the cat_sub_cat_list in pickle format\n",
    "    m = df.apply(lambda x: [f\"{i}-{j}\" for i ,j in zip(x[\"cat\"],x[\"sub-cat\"])] ,axis=1)\n",
    "    m = m.apply(lambda x:  dict(Counter(x)))\n",
    "    for i in cat_sub_cat_list:df[i] = m.apply(lambda x: x.get(i,0))\n",
    "    return df"
   ]
  },
  {
   "cell_type": "code",
   "execution_count": 99,
   "metadata": {
    "ExecuteTime": {
     "end_time": "2020-04-11T21:53:21.513600Z",
     "start_time": "2020-04-11T21:53:21.508470Z"
    }
   },
   "outputs": [],
   "source": [
    "def set_duration_product_ratio(df):\n",
    "    df[\"duration_product_ratio\"] = df[\"duration\"]/df[\"product_count\"]"
   ]
  },
  {
   "cell_type": "code",
   "execution_count": 100,
   "metadata": {
    "ExecuteTime": {
     "end_time": "2020-04-11T21:53:22.119467Z",
     "start_time": "2020-04-11T21:53:22.114421Z"
    }
   },
   "outputs": [],
   "source": [
    "def cat_flag(df):\n",
    "    cat_list = reduce(lambda x,y :set(x).union(set(y)) , df.cat)\n",
    "    for i in cat_list:\n",
    "        df[i] = df.cat.apply(lambda x: i in x)\n",
    "    return df"
   ]
  },
  {
   "cell_type": "code",
   "execution_count": 101,
   "metadata": {
    "ExecuteTime": {
     "end_time": "2020-04-11T21:53:23.083142Z",
     "start_time": "2020-04-11T21:53:23.061774Z"
    }
   },
   "outputs": [],
   "source": [
    "def func(x):\n",
    "    m_count = f_count=0\n",
    "    for i in x:\n",
    "        if i in only_f:\n",
    "            f_count = f_count + 1\n",
    "        elif i in only_m:\n",
    "            m_count = m_count + 1\n",
    "    if f_count!=0 and m_count==0:\n",
    "        return 0\n",
    "    elif m_count!=0  and f_count==0:\n",
    "        return 1\n",
    "    else:\n",
    "        return None\n",
    "\n",
    "def flag_product(train_df,test_df=None):\n",
    "    global only_f , only_m\n",
    "    m_set = reduce(lambda x,y: set(x).union(set(y)), train_df[train_df[\"gender\"]==\"male\"][\"product\"])\n",
    "    f_set = reduce(lambda x,y: set(x).union(set(y)), train_df[train_df[\"gender\"]==\"female\"][\"product\"])\n",
    "    only_f = f_set-m_set\n",
    "    only_m = m_set-f_set\n",
    "\n",
    "    if test_df is None:\n",
    "        test_df=train_df\n",
    "    flag = [\"only_f_product\" , \"only_m_product\"]\n",
    "#     flag = [\"only_f_product\"]\n",
    "\n",
    "    for i,val in enumerate(flag):\n",
    "        test_df[val] = test_df[\"product\"].apply(func) == i\n",
    "    return test_df\n",
    "\n",
    "def flag_sub_sub_cat(train_df,test_df=None):\n",
    "    global only_f , only_m\n",
    "    m_set = reduce(lambda x,y: set(x).union(set(y)), train_df[train_df[\"gender\"]==\"male\"][\"sub-sub-cat\"])\n",
    "    f_set = reduce(lambda x,y: set(x).union(set(y)), train_df[train_df[\"gender\"]==\"female\"][\"sub-sub-cat\"])\n",
    "    only_f = f_set-m_set\n",
    "    only_m = m_set-f_set\n",
    "    if test_df is None:\n",
    "        test_df=train_df\n",
    "    flag = [\"only_f_sub_sub_cat\" , \"only_m_sub_sub_cat\"]\n",
    "#     flag = [\"only_f_sub_sub_cat\"]\n",
    "\n",
    "    for i,val in enumerate(flag):\n",
    "        test_df[val] = test_df[\"sub-sub-cat\"].apply(func) == i\n",
    "    return test_df"
   ]
  },
  {
   "cell_type": "code",
   "execution_count": 102,
   "metadata": {
    "ExecuteTime": {
     "end_time": "2020-04-11T21:53:33.100594Z",
     "start_time": "2020-04-11T21:53:24.173901Z"
    }
   },
   "outputs": [
    {
     "data": {
      "text/plain": [
       "Index(['start_time', 'end_time', 'product_list', 'gender', 'cat', 'sub-cat',\n",
       "       'sub-sub-cat', 'product', 'Monday', 'Friday', 'Saturday', 'Tuesday',\n",
       "       'Sunday', 'Wednesday', 'Thursday', 'month_start', 'week_51', 'week_50',\n",
       "       'week_49', 'week_47', 'week_48', 'week_46', 'week_52', 'st', 'time_0',\n",
       "       'time_3', 'time_6', 'time_9', 'time_12', 'time_15', 'time_18',\n",
       "       'time_21', 'duration', 'product_count', 'A00002-B00002',\n",
       "       'A00002-B00003', 'A00002-B00001', 'A00003-B00012', 'A00002-B00007',\n",
       "       'A00002-B00004', 'A00003-B00022', 'A00002-B00005', 'A00002-B00016',\n",
       "       'A00002-B00017', 'A00002-B00006', 'A00003-B00021', 'A00003-B00020',\n",
       "       'A00001-B00001', 'A00003-B00004', 'A00001-B00009', 'A00003-B00028',\n",
       "       'A00005-B00019', 'A00002-B00011', 'A00001-B00015', 'A00001-B00004',\n",
       "       'A00003-B00026', 'A00005-B00032', 'A00004-B00014', 'A00011-B00050',\n",
       "       'A00001-B00031', 'A00003-B00036', 'A00002-B00010', 'A00006-B00057',\n",
       "       'A00003-B00039', 'A00005-B00044', 'A00005-B00018', 'A00001-B00037',\n",
       "       'A00001-B00027', 'A00004-B00013', 'duration_product_ratio', 'A00006',\n",
       "       'A00004', 'A00002', 'A00008', 'A00009', 'A00001', 'A00007', 'A00010',\n",
       "       'A00005', 'A00011', 'A00003', 'only_f_product', 'only_m_product',\n",
       "       'only_f_sub_sub_cat', 'only_m_sub_sub_cat'],\n",
       "      dtype='object')"
      ]
     },
     "execution_count": 102,
     "metadata": {},
     "output_type": "execute_result"
    }
   ],
   "source": [
    "set_product_count(df)\n",
    "cat_sub_cat(df)\n",
    "set_duration_product_ratio(df)\n",
    "cat_flag(df)\n",
    "flag_product(df)\n",
    "flag_sub_sub_cat(df)\n",
    "df.columns"
   ]
  },
  {
   "cell_type": "markdown",
   "metadata": {},
   "source": [
    "# Splitting Train and Valid."
   ]
  },
  {
   "cell_type": "code",
   "execution_count": 103,
   "metadata": {
    "ExecuteTime": {
     "end_time": "2020-04-11T21:53:33.121662Z",
     "start_time": "2020-04-11T21:53:33.105288Z"
    }
   },
   "outputs": [],
   "source": [
    "# drop these columns\n",
    "train_df  = df.drop(columns=['start_time', 'end_time', 'product_list','st','cat', 'sub-cat','sub-sub-cat', 'product'])"
   ]
  },
  {
   "cell_type": "code",
   "execution_count": 104,
   "metadata": {
    "ExecuteTime": {
     "end_time": "2020-04-11T21:53:33.257072Z",
     "start_time": "2020-04-11T21:53:33.126204Z"
    }
   },
   "outputs": [],
   "source": [
    "X = train_df.drop(columns=[\"gender\"])\n",
    "y = np.where(train_df.gender == \"male\" , 1 ,0)"
   ]
  },
  {
   "cell_type": "code",
   "execution_count": 105,
   "metadata": {
    "ExecuteTime": {
     "end_time": "2020-04-11T21:53:33.415111Z",
     "start_time": "2020-04-11T21:53:33.262017Z"
    }
   },
   "outputs": [],
   "source": [
    "from sklearn.model_selection import train_test_split"
   ]
  },
  {
   "cell_type": "code",
   "execution_count": 106,
   "metadata": {
    "ExecuteTime": {
     "end_time": "2020-04-11T21:53:33.531315Z",
     "start_time": "2020-04-11T21:53:33.421200Z"
    }
   },
   "outputs": [],
   "source": [
    "X_train, X_test, y_train, y_test = train_test_split(X, y, test_size=0.30, random_state=42, stratify=y)"
   ]
  },
  {
   "cell_type": "code",
   "execution_count": 107,
   "metadata": {
    "ExecuteTime": {
     "end_time": "2020-04-11T21:53:35.038025Z",
     "start_time": "2020-04-11T21:53:35.032692Z"
    }
   },
   "outputs": [],
   "source": [
    "# from tpot import TPOTClassifier\n",
    "# tpot = TPOTClassifier(generations=2, population_size=2 ,verbosity=2, random_state=42,n_jobs=-1)\n",
    "# tpot.fit( X_train, y_train)\n",
    "# print(tpot.score(X_test, y_test))"
   ]
  },
  {
   "cell_type": "code",
   "execution_count": 118,
   "metadata": {
    "ExecuteTime": {
     "end_time": "2020-04-11T21:59:28.660352Z",
     "start_time": "2020-04-11T21:59:28.291193Z"
    }
   },
   "outputs": [
    {
     "data": {
      "text/plain": [
       "0.9717460317460317"
      ]
     },
     "execution_count": 118,
     "metadata": {},
     "output_type": "execute_result"
    }
   ],
   "source": [
    "from sklearn.linear_model import LogisticRegression\n",
    "from sklearn.model_selection import cross_validate, StratifiedShuffleSplit\n",
    "from sklearn.metrics import f1_score, accuracy_score, classification_report\n",
    "model = LogisticRegression(max_iter=200)\n",
    "model.fit(X_train,y_train)\n",
    "model.score(X_test,y_test)"
   ]
  },
  {
   "cell_type": "code",
   "execution_count": 110,
   "metadata": {
    "ExecuteTime": {
     "end_time": "2020-04-11T21:56:11.364652Z",
     "start_time": "2020-04-11T21:56:11.215378Z"
    }
   },
   "outputs": [
    {
     "data": {
      "text/html": [
       "<div>\n",
       "<style scoped>\n",
       "    .dataframe tbody tr th:only-of-type {\n",
       "        vertical-align: middle;\n",
       "    }\n",
       "\n",
       "    .dataframe tbody tr th {\n",
       "        vertical-align: top;\n",
       "    }\n",
       "\n",
       "    .dataframe thead th {\n",
       "        text-align: right;\n",
       "    }\n",
       "</style>\n",
       "<table border=\"1\" class=\"dataframe\">\n",
       "  <thead>\n",
       "    <tr style=\"text-align: right;\">\n",
       "      <th></th>\n",
       "      <th>start_time</th>\n",
       "      <th>end_time</th>\n",
       "      <th>product_list</th>\n",
       "      <th>cat</th>\n",
       "      <th>sub-cat</th>\n",
       "      <th>sub-sub-cat</th>\n",
       "      <th>product</th>\n",
       "    </tr>\n",
       "  </thead>\n",
       "  <tbody>\n",
       "    <tr>\n",
       "      <th>0</th>\n",
       "      <td>2014-12-08 13:36:00</td>\n",
       "      <td>2014-12-08 13:36:00</td>\n",
       "      <td>A00002/B00003/C00006/D19956/</td>\n",
       "      <td>[A00002]</td>\n",
       "      <td>[B00003]</td>\n",
       "      <td>[C00006]</td>\n",
       "      <td>[D19956]</td>\n",
       "    </tr>\n",
       "    <tr>\n",
       "      <th>1</th>\n",
       "      <td>2014-12-19 13:52:00</td>\n",
       "      <td>2014-12-19 13:52:00</td>\n",
       "      <td>A00002/B00005/C00067/D02026/</td>\n",
       "      <td>[A00002]</td>\n",
       "      <td>[B00005]</td>\n",
       "      <td>[C00067]</td>\n",
       "      <td>[D02026]</td>\n",
       "    </tr>\n",
       "    <tr>\n",
       "      <th>2</th>\n",
       "      <td>2014-12-01 10:44:00</td>\n",
       "      <td>2014-12-01 10:44:00</td>\n",
       "      <td>A00002/B00002/C00004/D12538/</td>\n",
       "      <td>[A00002]</td>\n",
       "      <td>[B00002]</td>\n",
       "      <td>[C00004]</td>\n",
       "      <td>[D12538]</td>\n",
       "    </tr>\n",
       "    <tr>\n",
       "      <th>3</th>\n",
       "      <td>2014-12-08 20:19:00</td>\n",
       "      <td>2014-12-08 20:22:00</td>\n",
       "      <td>A00002/B00003/C00079/D22781/;A00002/B00003/C00...</td>\n",
       "      <td>[A00002, A00002, A00002, A00002]</td>\n",
       "      <td>[B00003, B00003, B00003, B00003]</td>\n",
       "      <td>[C00079, C00079, C00079, C00079]</td>\n",
       "      <td>[D22781, D22782, D19325, D22786]</td>\n",
       "    </tr>\n",
       "    <tr>\n",
       "      <th>4</th>\n",
       "      <td>2014-12-15 19:33:00</td>\n",
       "      <td>2014-12-15 19:33:00</td>\n",
       "      <td>A00002/B00001/C00010/D23419/</td>\n",
       "      <td>[A00002]</td>\n",
       "      <td>[B00001]</td>\n",
       "      <td>[C00010]</td>\n",
       "      <td>[D23419]</td>\n",
       "    </tr>\n",
       "  </tbody>\n",
       "</table>\n",
       "</div>"
      ],
      "text/plain": [
       "           start_time            end_time  \\\n",
       "0 2014-12-08 13:36:00 2014-12-08 13:36:00   \n",
       "1 2014-12-19 13:52:00 2014-12-19 13:52:00   \n",
       "2 2014-12-01 10:44:00 2014-12-01 10:44:00   \n",
       "3 2014-12-08 20:19:00 2014-12-08 20:22:00   \n",
       "4 2014-12-15 19:33:00 2014-12-15 19:33:00   \n",
       "\n",
       "                                        product_list  \\\n",
       "0                       A00002/B00003/C00006/D19956/   \n",
       "1                       A00002/B00005/C00067/D02026/   \n",
       "2                       A00002/B00002/C00004/D12538/   \n",
       "3  A00002/B00003/C00079/D22781/;A00002/B00003/C00...   \n",
       "4                       A00002/B00001/C00010/D23419/   \n",
       "\n",
       "                                cat                           sub-cat  \\\n",
       "0                          [A00002]                          [B00003]   \n",
       "1                          [A00002]                          [B00005]   \n",
       "2                          [A00002]                          [B00002]   \n",
       "3  [A00002, A00002, A00002, A00002]  [B00003, B00003, B00003, B00003]   \n",
       "4                          [A00002]                          [B00001]   \n",
       "\n",
       "                        sub-sub-cat                           product  \n",
       "0                          [C00006]                          [D19956]  \n",
       "1                          [C00067]                          [D02026]  \n",
       "2                          [C00004]                          [D12538]  \n",
       "3  [C00079, C00079, C00079, C00079]  [D22781, D22782, D19325, D22786]  \n",
       "4                          [C00010]                          [D23419]  "
      ]
     },
     "execution_count": 110,
     "metadata": {},
     "output_type": "execute_result"
    }
   ],
   "source": [
    "test_df = pd.read_csv(\"../data/raw/test_Yix80N0.csv\")\n",
    "standardize(test_df,drop_session_id=False)\n",
    "test_df.head()"
   ]
  },
  {
   "cell_type": "code",
   "execution_count": 111,
   "metadata": {
    "ExecuteTime": {
     "end_time": "2020-04-11T21:56:20.208932Z",
     "start_time": "2020-04-11T21:56:11.705984Z"
    }
   },
   "outputs": [
    {
     "data": {
      "text/html": [
       "<div>\n",
       "<style scoped>\n",
       "    .dataframe tbody tr th:only-of-type {\n",
       "        vertical-align: middle;\n",
       "    }\n",
       "\n",
       "    .dataframe tbody tr th {\n",
       "        vertical-align: top;\n",
       "    }\n",
       "\n",
       "    .dataframe thead th {\n",
       "        text-align: right;\n",
       "    }\n",
       "</style>\n",
       "<table border=\"1\" class=\"dataframe\">\n",
       "  <thead>\n",
       "    <tr style=\"text-align: right;\">\n",
       "      <th></th>\n",
       "      <th>start_time</th>\n",
       "      <th>end_time</th>\n",
       "      <th>product_list</th>\n",
       "      <th>cat</th>\n",
       "      <th>sub-cat</th>\n",
       "      <th>sub-sub-cat</th>\n",
       "      <th>product</th>\n",
       "      <th>Monday</th>\n",
       "      <th>Friday</th>\n",
       "      <th>Saturday</th>\n",
       "      <th>...</th>\n",
       "      <th>A00001</th>\n",
       "      <th>A00007</th>\n",
       "      <th>A00010</th>\n",
       "      <th>A00005</th>\n",
       "      <th>A00011</th>\n",
       "      <th>A00003</th>\n",
       "      <th>only_f_product</th>\n",
       "      <th>only_m_product</th>\n",
       "      <th>only_f_sub_sub_cat</th>\n",
       "      <th>only_m_sub_sub_cat</th>\n",
       "    </tr>\n",
       "  </thead>\n",
       "  <tbody>\n",
       "    <tr>\n",
       "      <th>0</th>\n",
       "      <td>2014-12-08 13:36:00</td>\n",
       "      <td>2014-12-08 13:36:00</td>\n",
       "      <td>A00002/B00003/C00006/D19956/</td>\n",
       "      <td>[A00002]</td>\n",
       "      <td>[B00003]</td>\n",
       "      <td>[C00006]</td>\n",
       "      <td>[D19956]</td>\n",
       "      <td>True</td>\n",
       "      <td>False</td>\n",
       "      <td>False</td>\n",
       "      <td>...</td>\n",
       "      <td>False</td>\n",
       "      <td>False</td>\n",
       "      <td>False</td>\n",
       "      <td>False</td>\n",
       "      <td>False</td>\n",
       "      <td>False</td>\n",
       "      <td>False</td>\n",
       "      <td>False</td>\n",
       "      <td>False</td>\n",
       "      <td>False</td>\n",
       "    </tr>\n",
       "    <tr>\n",
       "      <th>1</th>\n",
       "      <td>2014-12-19 13:52:00</td>\n",
       "      <td>2014-12-19 13:52:00</td>\n",
       "      <td>A00002/B00005/C00067/D02026/</td>\n",
       "      <td>[A00002]</td>\n",
       "      <td>[B00005]</td>\n",
       "      <td>[C00067]</td>\n",
       "      <td>[D02026]</td>\n",
       "      <td>False</td>\n",
       "      <td>True</td>\n",
       "      <td>False</td>\n",
       "      <td>...</td>\n",
       "      <td>False</td>\n",
       "      <td>False</td>\n",
       "      <td>False</td>\n",
       "      <td>False</td>\n",
       "      <td>False</td>\n",
       "      <td>False</td>\n",
       "      <td>True</td>\n",
       "      <td>False</td>\n",
       "      <td>False</td>\n",
       "      <td>False</td>\n",
       "    </tr>\n",
       "    <tr>\n",
       "      <th>2</th>\n",
       "      <td>2014-12-01 10:44:00</td>\n",
       "      <td>2014-12-01 10:44:00</td>\n",
       "      <td>A00002/B00002/C00004/D12538/</td>\n",
       "      <td>[A00002]</td>\n",
       "      <td>[B00002]</td>\n",
       "      <td>[C00004]</td>\n",
       "      <td>[D12538]</td>\n",
       "      <td>True</td>\n",
       "      <td>False</td>\n",
       "      <td>False</td>\n",
       "      <td>...</td>\n",
       "      <td>False</td>\n",
       "      <td>False</td>\n",
       "      <td>False</td>\n",
       "      <td>False</td>\n",
       "      <td>False</td>\n",
       "      <td>False</td>\n",
       "      <td>True</td>\n",
       "      <td>False</td>\n",
       "      <td>False</td>\n",
       "      <td>False</td>\n",
       "    </tr>\n",
       "    <tr>\n",
       "      <th>3</th>\n",
       "      <td>2014-12-08 20:19:00</td>\n",
       "      <td>2014-12-08 20:22:00</td>\n",
       "      <td>A00002/B00003/C00079/D22781/;A00002/B00003/C00...</td>\n",
       "      <td>[A00002, A00002, A00002, A00002]</td>\n",
       "      <td>[B00003, B00003, B00003, B00003]</td>\n",
       "      <td>[C00079, C00079, C00079, C00079]</td>\n",
       "      <td>[D22781, D22782, D19325, D22786]</td>\n",
       "      <td>True</td>\n",
       "      <td>False</td>\n",
       "      <td>False</td>\n",
       "      <td>...</td>\n",
       "      <td>False</td>\n",
       "      <td>False</td>\n",
       "      <td>False</td>\n",
       "      <td>False</td>\n",
       "      <td>False</td>\n",
       "      <td>False</td>\n",
       "      <td>True</td>\n",
       "      <td>False</td>\n",
       "      <td>False</td>\n",
       "      <td>False</td>\n",
       "    </tr>\n",
       "    <tr>\n",
       "      <th>4</th>\n",
       "      <td>2014-12-15 19:33:00</td>\n",
       "      <td>2014-12-15 19:33:00</td>\n",
       "      <td>A00002/B00001/C00010/D23419/</td>\n",
       "      <td>[A00002]</td>\n",
       "      <td>[B00001]</td>\n",
       "      <td>[C00010]</td>\n",
       "      <td>[D23419]</td>\n",
       "      <td>True</td>\n",
       "      <td>False</td>\n",
       "      <td>False</td>\n",
       "      <td>...</td>\n",
       "      <td>False</td>\n",
       "      <td>False</td>\n",
       "      <td>False</td>\n",
       "      <td>False</td>\n",
       "      <td>False</td>\n",
       "      <td>False</td>\n",
       "      <td>False</td>\n",
       "      <td>False</td>\n",
       "      <td>False</td>\n",
       "      <td>False</td>\n",
       "    </tr>\n",
       "  </tbody>\n",
       "</table>\n",
       "<p>5 rows × 84 columns</p>\n",
       "</div>"
      ],
      "text/plain": [
       "           start_time            end_time  \\\n",
       "0 2014-12-08 13:36:00 2014-12-08 13:36:00   \n",
       "1 2014-12-19 13:52:00 2014-12-19 13:52:00   \n",
       "2 2014-12-01 10:44:00 2014-12-01 10:44:00   \n",
       "3 2014-12-08 20:19:00 2014-12-08 20:22:00   \n",
       "4 2014-12-15 19:33:00 2014-12-15 19:33:00   \n",
       "\n",
       "                                        product_list  \\\n",
       "0                       A00002/B00003/C00006/D19956/   \n",
       "1                       A00002/B00005/C00067/D02026/   \n",
       "2                       A00002/B00002/C00004/D12538/   \n",
       "3  A00002/B00003/C00079/D22781/;A00002/B00003/C00...   \n",
       "4                       A00002/B00001/C00010/D23419/   \n",
       "\n",
       "                                cat                           sub-cat  \\\n",
       "0                          [A00002]                          [B00003]   \n",
       "1                          [A00002]                          [B00005]   \n",
       "2                          [A00002]                          [B00002]   \n",
       "3  [A00002, A00002, A00002, A00002]  [B00003, B00003, B00003, B00003]   \n",
       "4                          [A00002]                          [B00001]   \n",
       "\n",
       "                        sub-sub-cat                           product  Monday  \\\n",
       "0                          [C00006]                          [D19956]    True   \n",
       "1                          [C00067]                          [D02026]   False   \n",
       "2                          [C00004]                          [D12538]    True   \n",
       "3  [C00079, C00079, C00079, C00079]  [D22781, D22782, D19325, D22786]    True   \n",
       "4                          [C00010]                          [D23419]    True   \n",
       "\n",
       "   Friday  Saturday  ...  A00001  A00007  A00010  A00005  A00011  A00003  \\\n",
       "0   False     False  ...   False   False   False   False   False   False   \n",
       "1    True     False  ...   False   False   False   False   False   False   \n",
       "2   False     False  ...   False   False   False   False   False   False   \n",
       "3   False     False  ...   False   False   False   False   False   False   \n",
       "4   False     False  ...   False   False   False   False   False   False   \n",
       "\n",
       "   only_f_product  only_m_product  only_f_sub_sub_cat  only_m_sub_sub_cat  \n",
       "0           False           False               False               False  \n",
       "1            True           False               False               False  \n",
       "2            True           False               False               False  \n",
       "3            True           False               False               False  \n",
       "4           False           False               False               False  \n",
       "\n",
       "[5 rows x 84 columns]"
      ]
     },
     "execution_count": 111,
     "metadata": {},
     "output_type": "execute_result"
    }
   ],
   "source": [
    "set_day(test_df)\n",
    "set_month_start(test_df)\n",
    "set_weeks(test_df)\n",
    "set_interval_time(test_df)\n",
    "set_duration(test_df)\n",
    "\n",
    "set_product_count(test_df)\n",
    "cat_sub_cat(test_df ,cat_sub_cat_list=create_useful_cat_sub_cat(df) )\n",
    "set_duration_product_ratio(test_df)\n",
    "cat_flag(test_df)\n",
    "flag_product(df,test_df)\n",
    "flag_sub_sub_cat(df,test_df)\n",
    "\n",
    "\n",
    "test_df.head()"
   ]
  },
  {
   "cell_type": "code",
   "execution_count": 112,
   "metadata": {
    "ExecuteTime": {
     "end_time": "2020-04-11T21:56:23.375940Z",
     "start_time": "2020-04-11T21:56:23.359952Z"
    }
   },
   "outputs": [],
   "source": [
    "test_df  = test_df.drop(columns=['start_time', 'end_time', 'product_list','st','cat', 'sub-cat','sub-sub-cat', 'product'])"
   ]
  },
  {
   "cell_type": "code",
   "execution_count": 113,
   "metadata": {
    "ExecuteTime": {
     "end_time": "2020-04-11T21:56:24.478128Z",
     "start_time": "2020-04-11T21:56:24.468429Z"
    }
   },
   "outputs": [
    {
     "data": {
      "text/plain": [
       "Index(['Monday', 'Friday', 'Saturday', 'Tuesday', 'Sunday', 'Wednesday',\n",
       "       'Thursday', 'month_start', 'week_51', 'week_50', 'week_49', 'week_47',\n",
       "       'week_48', 'week_46', 'week_52', 'time_0', 'time_3', 'time_6', 'time_9',\n",
       "       'time_12', 'time_15', 'time_18', 'time_21', 'duration', 'product_count',\n",
       "       'A00002-B00002', 'A00002-B00003', 'A00002-B00001', 'A00003-B00012',\n",
       "       'A00002-B00007', 'A00002-B00004', 'A00003-B00022', 'A00002-B00005',\n",
       "       'A00002-B00016', 'A00002-B00017', 'A00002-B00006', 'A00003-B00021',\n",
       "       'A00003-B00020', 'A00001-B00001', 'A00003-B00004', 'A00001-B00009',\n",
       "       'A00003-B00028', 'A00005-B00019', 'A00002-B00011', 'A00001-B00015',\n",
       "       'A00001-B00004', 'A00003-B00026', 'A00005-B00032', 'A00004-B00014',\n",
       "       'A00011-B00050', 'A00001-B00031', 'A00003-B00036', 'A00002-B00010',\n",
       "       'A00006-B00057', 'A00003-B00039', 'A00005-B00044', 'A00005-B00018',\n",
       "       'A00001-B00037', 'A00001-B00027', 'A00004-B00013',\n",
       "       'duration_product_ratio', 'A00006', 'A00004', 'A00002', 'A00009',\n",
       "       'A00008', 'A00001', 'A00007', 'A00010', 'A00005', 'A00011', 'A00003',\n",
       "       'only_f_product', 'only_m_product', 'only_f_sub_sub_cat',\n",
       "       'only_m_sub_sub_cat'],\n",
       "      dtype='object')"
      ]
     },
     "execution_count": 113,
     "metadata": {},
     "output_type": "execute_result"
    }
   ],
   "source": [
    "test_df.columns"
   ]
  },
  {
   "cell_type": "code",
   "execution_count": 114,
   "metadata": {
    "ExecuteTime": {
     "end_time": "2020-04-11T21:56:26.107048Z",
     "start_time": "2020-04-11T21:56:26.085163Z"
    }
   },
   "outputs": [],
   "source": [
    "sub = pd.read_csv(\"../data/raw/test_Yix80N0.csv\")"
   ]
  },
  {
   "cell_type": "code",
   "execution_count": 119,
   "metadata": {
    "ExecuteTime": {
     "end_time": "2020-04-11T21:59:33.971113Z",
     "start_time": "2020-04-11T21:59:33.929004Z"
    }
   },
   "outputs": [],
   "source": [
    "sub[\"gender\"]=model.predict(test_df)"
   ]
  },
  {
   "cell_type": "code",
   "execution_count": 120,
   "metadata": {
    "ExecuteTime": {
     "end_time": "2020-04-11T21:59:35.606094Z",
     "start_time": "2020-04-11T21:59:35.595308Z"
    }
   },
   "outputs": [],
   "source": [
    "sub.drop(columns =[\"startTime\",\"endTime\",\"ProductList\"],inplace=True)"
   ]
  },
  {
   "cell_type": "code",
   "execution_count": 121,
   "metadata": {
    "ExecuteTime": {
     "end_time": "2020-04-11T21:59:35.942608Z",
     "start_time": "2020-04-11T21:59:35.933924Z"
    }
   },
   "outputs": [],
   "source": [
    "sub.gender = sub.gender.map({0:\"female\",1:\"male\"})"
   ]
  },
  {
   "cell_type": "code",
   "execution_count": 122,
   "metadata": {
    "ExecuteTime": {
     "end_time": "2020-04-11T21:59:36.321087Z",
     "start_time": "2020-04-11T21:59:36.292150Z"
    }
   },
   "outputs": [],
   "source": [
    "sub.to_csv(\"flag_third_submission.csv\",index=False)"
   ]
  },
  {
   "cell_type": "code",
   "execution_count": null,
   "metadata": {},
   "outputs": [],
   "source": []
  }
 ],
 "metadata": {
  "kernelspec": {
   "display_name": "Python 3",
   "language": "python",
   "name": "python3"
  },
  "language_info": {
   "codemirror_mode": {
    "name": "ipython",
    "version": 3
   },
   "file_extension": ".py",
   "mimetype": "text/x-python",
   "name": "python",
   "nbconvert_exporter": "python",
   "pygments_lexer": "ipython3",
   "version": "3.6.9"
  },
  "toc": {
   "base_numbering": 1,
   "nav_menu": {},
   "number_sections": true,
   "sideBar": true,
   "skip_h1_title": false,
   "title_cell": "Table of Contents",
   "title_sidebar": "Contents",
   "toc_cell": false,
   "toc_position": {},
   "toc_section_display": true,
   "toc_window_display": false
  }
 },
 "nbformat": 4,
 "nbformat_minor": 2
}

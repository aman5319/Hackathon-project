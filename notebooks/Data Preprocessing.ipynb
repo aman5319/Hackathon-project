{
 "cells": [
  {
   "cell_type": "code",
   "execution_count": 1,
   "metadata": {
    "ExecuteTime": {
     "end_time": "2020-04-11T08:40:23.047744Z",
     "start_time": "2020-04-11T08:40:19.980634Z"
    }
   },
   "outputs": [],
   "source": [
    "import pandas as pd\n",
    "import datetime\n",
    "import numpy as np\n",
    "import seaborn as sns\n",
    "import matplotlib.pyplot as plt\n",
    "from functools import reduce"
   ]
  },
  {
   "cell_type": "code",
   "execution_count": 2,
   "metadata": {
    "ExecuteTime": {
     "end_time": "2020-04-11T08:40:25.337613Z",
     "start_time": "2020-04-11T08:40:25.266781Z"
    }
   },
   "outputs": [
    {
     "data": {
      "text/html": [
       "<div>\n",
       "<style scoped>\n",
       "    .dataframe tbody tr th:only-of-type {\n",
       "        vertical-align: middle;\n",
       "    }\n",
       "\n",
       "    .dataframe tbody tr th {\n",
       "        vertical-align: top;\n",
       "    }\n",
       "\n",
       "    .dataframe thead th {\n",
       "        text-align: right;\n",
       "    }\n",
       "</style>\n",
       "<table border=\"1\" class=\"dataframe\">\n",
       "  <thead>\n",
       "    <tr style=\"text-align: right;\">\n",
       "      <th></th>\n",
       "      <th>session_id</th>\n",
       "      <th>startTime</th>\n",
       "      <th>endTime</th>\n",
       "      <th>ProductList</th>\n",
       "      <th>gender</th>\n",
       "    </tr>\n",
       "  </thead>\n",
       "  <tbody>\n",
       "    <tr>\n",
       "      <th>0</th>\n",
       "      <td>u16159</td>\n",
       "      <td>15/12/14 18:11</td>\n",
       "      <td>15/12/14 18:12</td>\n",
       "      <td>A00002/B00003/C00006/D28435/;A00002/B00003/C00...</td>\n",
       "      <td>female</td>\n",
       "    </tr>\n",
       "    <tr>\n",
       "      <th>1</th>\n",
       "      <td>u10253</td>\n",
       "      <td>16/12/14 14:35</td>\n",
       "      <td>16/12/14 14:41</td>\n",
       "      <td>A00001/B00009/C00031/D29404/;A00001/B00009/C00...</td>\n",
       "      <td>male</td>\n",
       "    </tr>\n",
       "    <tr>\n",
       "      <th>2</th>\n",
       "      <td>u19037</td>\n",
       "      <td>01/12/14 15:58</td>\n",
       "      <td>01/12/14 15:58</td>\n",
       "      <td>A00002/B00001/C00020/D16944/</td>\n",
       "      <td>female</td>\n",
       "    </tr>\n",
       "    <tr>\n",
       "      <th>3</th>\n",
       "      <td>u14556</td>\n",
       "      <td>23/11/14 2:57</td>\n",
       "      <td>23/11/14 3:00</td>\n",
       "      <td>A00002/B00004/C00018/D10284/;A00002/B00004/C00...</td>\n",
       "      <td>female</td>\n",
       "    </tr>\n",
       "    <tr>\n",
       "      <th>4</th>\n",
       "      <td>u24295</td>\n",
       "      <td>17/12/14 16:44</td>\n",
       "      <td>17/12/14 16:46</td>\n",
       "      <td>A00001/B00001/C00012/D30805/;A00001/B00001/C00...</td>\n",
       "      <td>male</td>\n",
       "    </tr>\n",
       "    <tr>\n",
       "      <th>5</th>\n",
       "      <td>u20964</td>\n",
       "      <td>12/12/14 15:31</td>\n",
       "      <td>12/12/14 15:31</td>\n",
       "      <td>A00002/B00002/C00081/D25039/</td>\n",
       "      <td>female</td>\n",
       "    </tr>\n",
       "    <tr>\n",
       "      <th>6</th>\n",
       "      <td>u20981</td>\n",
       "      <td>05/12/14 19:33</td>\n",
       "      <td>05/12/14 19:34</td>\n",
       "      <td>A00002/B00011/C00180/D18487/;A00002/B00011/C00...</td>\n",
       "      <td>female</td>\n",
       "    </tr>\n",
       "    <tr>\n",
       "      <th>7</th>\n",
       "      <td>u15947</td>\n",
       "      <td>09/12/14 16:02</td>\n",
       "      <td>09/12/14 16:06</td>\n",
       "      <td>A00002/B00001/C00059/D15254/;A00002/B00001/C00...</td>\n",
       "      <td>male</td>\n",
       "    </tr>\n",
       "    <tr>\n",
       "      <th>8</th>\n",
       "      <td>u18193</td>\n",
       "      <td>25/11/14 11:55</td>\n",
       "      <td>25/11/14 11:55</td>\n",
       "      <td>A00002/B00001/C00010/D06129/</td>\n",
       "      <td>male</td>\n",
       "    </tr>\n",
       "    <tr>\n",
       "      <th>9</th>\n",
       "      <td>u21820</td>\n",
       "      <td>06/12/14 16:16</td>\n",
       "      <td>06/12/14 16:17</td>\n",
       "      <td>A00002/B00001/C00010/D12841/;A00002/B00002/C00...</td>\n",
       "      <td>female</td>\n",
       "    </tr>\n",
       "  </tbody>\n",
       "</table>\n",
       "</div>"
      ],
      "text/plain": [
       "  session_id       startTime         endTime  \\\n",
       "0     u16159  15/12/14 18:11  15/12/14 18:12   \n",
       "1     u10253  16/12/14 14:35  16/12/14 14:41   \n",
       "2     u19037  01/12/14 15:58  01/12/14 15:58   \n",
       "3     u14556   23/11/14 2:57   23/11/14 3:00   \n",
       "4     u24295  17/12/14 16:44  17/12/14 16:46   \n",
       "5     u20964  12/12/14 15:31  12/12/14 15:31   \n",
       "6     u20981  05/12/14 19:33  05/12/14 19:34   \n",
       "7     u15947  09/12/14 16:02  09/12/14 16:06   \n",
       "8     u18193  25/11/14 11:55  25/11/14 11:55   \n",
       "9     u21820  06/12/14 16:16  06/12/14 16:17   \n",
       "\n",
       "                                         ProductList  gender  \n",
       "0  A00002/B00003/C00006/D28435/;A00002/B00003/C00...  female  \n",
       "1  A00001/B00009/C00031/D29404/;A00001/B00009/C00...    male  \n",
       "2                       A00002/B00001/C00020/D16944/  female  \n",
       "3  A00002/B00004/C00018/D10284/;A00002/B00004/C00...  female  \n",
       "4  A00001/B00001/C00012/D30805/;A00001/B00001/C00...    male  \n",
       "5                       A00002/B00002/C00081/D25039/  female  \n",
       "6  A00002/B00011/C00180/D18487/;A00002/B00011/C00...  female  \n",
       "7  A00002/B00001/C00059/D15254/;A00002/B00001/C00...    male  \n",
       "8                       A00002/B00001/C00010/D06129/    male  \n",
       "9  A00002/B00001/C00010/D12841/;A00002/B00002/C00...  female  "
      ]
     },
     "execution_count": 2,
     "metadata": {},
     "output_type": "execute_result"
    }
   ],
   "source": [
    "df = pd.read_csv(\"../data/raw/train_8wry4cB.csv\")\n",
    "df.head(10)"
   ]
  },
  {
   "cell_type": "markdown",
   "metadata": {},
   "source": [
    "# Check the number of rows and null values"
   ]
  },
  {
   "cell_type": "code",
   "execution_count": 3,
   "metadata": {
    "ExecuteTime": {
     "end_time": "2020-04-11T08:40:27.457524Z",
     "start_time": "2020-04-11T08:40:27.452387Z"
    }
   },
   "outputs": [
    {
     "name": "stdout",
     "output_type": "stream",
     "text": [
      "Number of rows 10500\n"
     ]
    }
   ],
   "source": [
    "print(f\"Number of rows {df.__len__()}\")"
   ]
  },
  {
   "cell_type": "code",
   "execution_count": 4,
   "metadata": {
    "ExecuteTime": {
     "end_time": "2020-04-11T08:40:28.965063Z",
     "start_time": "2020-04-11T08:40:28.945387Z"
    }
   },
   "outputs": [
    {
     "data": {
      "text/plain": [
       "session_id     True\n",
       "startTime      True\n",
       "endTime        True\n",
       "ProductList    True\n",
       "gender         True\n",
       "dtype: bool"
      ]
     },
     "execution_count": 4,
     "metadata": {},
     "output_type": "execute_result"
    }
   ],
   "source": [
    "df.notna().all(axis=0)"
   ]
  },
  {
   "cell_type": "markdown",
   "metadata": {},
   "source": [
    "since all the columns returns postive value that means no missing values are there."
   ]
  },
  {
   "cell_type": "markdown",
   "metadata": {
    "ExecuteTime": {
     "end_time": "2020-04-10T09:03:00.764665Z",
     "start_time": "2020-04-10T09:03:00.671941Z"
    }
   },
   "source": [
    "# Target distribution"
   ]
  },
  {
   "cell_type": "code",
   "execution_count": 5,
   "metadata": {
    "ExecuteTime": {
     "end_time": "2020-04-11T08:40:30.811091Z",
     "start_time": "2020-04-11T08:40:30.786959Z"
    }
   },
   "outputs": [
    {
     "data": {
      "text/plain": [
       "female    8192\n",
       "male      2308\n",
       "Name: gender, dtype: int64"
      ]
     },
     "execution_count": 5,
     "metadata": {},
     "output_type": "execute_result"
    }
   ],
   "source": [
    "df.gender.value_counts() # count"
   ]
  },
  {
   "cell_type": "code",
   "execution_count": 6,
   "metadata": {
    "ExecuteTime": {
     "end_time": "2020-04-11T08:40:31.331876Z",
     "start_time": "2020-04-11T08:40:31.232467Z"
    }
   },
   "outputs": [
    {
     "data": {
      "text/plain": [
       "female    78.02\n",
       "male      21.98\n",
       "Name: gender, dtype: float64"
      ]
     },
     "execution_count": 6,
     "metadata": {},
     "output_type": "execute_result"
    }
   ],
   "source": [
    "(df.gender.value_counts() *100 / df.__len__()).round(2) # percentage distribution"
   ]
  },
  {
   "cell_type": "markdown",
   "metadata": {},
   "source": [
    "# Converting date in standard format"
   ]
  },
  {
   "cell_type": "code",
   "execution_count": 7,
   "metadata": {
    "ExecuteTime": {
     "end_time": "2020-04-11T08:40:32.993834Z",
     "start_time": "2020-04-11T08:40:32.988607Z"
    }
   },
   "outputs": [],
   "source": [
    "def standard_datetime(column,format: str =\"%d/%m/%y %H:%M\"):\n",
    "    \"\"\"parses a string representation of datetime into an datetime object with the given format\n",
    "    \n",
    "    Args:\n",
    "        column (Dataframe or series or str): The pandas series on which the string will be parsed to datetime object.\n",
    "        format : The format for the parser. \n",
    "        \n",
    "    Returns:\n",
    "        Dataframe or series of Datetime objects\n",
    "        \n",
    "    References:\n",
    "        https://docs.python.org/2/library/datetime.html#strftime-strptime-behavior\n",
    "\n",
    "    \"\"\"\n",
    "    return pd.to_datetime(column , format=format)"
   ]
  },
  {
   "cell_type": "code",
   "execution_count": 8,
   "metadata": {
    "ExecuteTime": {
     "end_time": "2020-04-11T08:40:36.180530Z",
     "start_time": "2020-04-11T08:40:36.044313Z"
    }
   },
   "outputs": [],
   "source": [
    "df.startTime = standard_datetime(df.startTime)\n",
    "df.endTime = standard_datetime(df.endTime)\n"
   ]
  },
  {
   "cell_type": "code",
   "execution_count": 9,
   "metadata": {
    "ExecuteTime": {
     "end_time": "2020-04-11T08:40:36.565967Z",
     "start_time": "2020-04-11T08:40:36.547299Z"
    }
   },
   "outputs": [
    {
     "data": {
      "text/html": [
       "<div>\n",
       "<style scoped>\n",
       "    .dataframe tbody tr th:only-of-type {\n",
       "        vertical-align: middle;\n",
       "    }\n",
       "\n",
       "    .dataframe tbody tr th {\n",
       "        vertical-align: top;\n",
       "    }\n",
       "\n",
       "    .dataframe thead th {\n",
       "        text-align: right;\n",
       "    }\n",
       "</style>\n",
       "<table border=\"1\" class=\"dataframe\">\n",
       "  <thead>\n",
       "    <tr style=\"text-align: right;\">\n",
       "      <th></th>\n",
       "      <th>session_id</th>\n",
       "      <th>startTime</th>\n",
       "      <th>endTime</th>\n",
       "      <th>ProductList</th>\n",
       "      <th>gender</th>\n",
       "    </tr>\n",
       "  </thead>\n",
       "  <tbody>\n",
       "    <tr>\n",
       "      <th>0</th>\n",
       "      <td>u16159</td>\n",
       "      <td>2014-12-15 18:11:00</td>\n",
       "      <td>2014-12-15 18:12:00</td>\n",
       "      <td>A00002/B00003/C00006/D28435/;A00002/B00003/C00...</td>\n",
       "      <td>female</td>\n",
       "    </tr>\n",
       "    <tr>\n",
       "      <th>1</th>\n",
       "      <td>u10253</td>\n",
       "      <td>2014-12-16 14:35:00</td>\n",
       "      <td>2014-12-16 14:41:00</td>\n",
       "      <td>A00001/B00009/C00031/D29404/;A00001/B00009/C00...</td>\n",
       "      <td>male</td>\n",
       "    </tr>\n",
       "    <tr>\n",
       "      <th>2</th>\n",
       "      <td>u19037</td>\n",
       "      <td>2014-12-01 15:58:00</td>\n",
       "      <td>2014-12-01 15:58:00</td>\n",
       "      <td>A00002/B00001/C00020/D16944/</td>\n",
       "      <td>female</td>\n",
       "    </tr>\n",
       "    <tr>\n",
       "      <th>3</th>\n",
       "      <td>u14556</td>\n",
       "      <td>2014-11-23 02:57:00</td>\n",
       "      <td>2014-11-23 03:00:00</td>\n",
       "      <td>A00002/B00004/C00018/D10284/;A00002/B00004/C00...</td>\n",
       "      <td>female</td>\n",
       "    </tr>\n",
       "    <tr>\n",
       "      <th>4</th>\n",
       "      <td>u24295</td>\n",
       "      <td>2014-12-17 16:44:00</td>\n",
       "      <td>2014-12-17 16:46:00</td>\n",
       "      <td>A00001/B00001/C00012/D30805/;A00001/B00001/C00...</td>\n",
       "      <td>male</td>\n",
       "    </tr>\n",
       "  </tbody>\n",
       "</table>\n",
       "</div>"
      ],
      "text/plain": [
       "  session_id           startTime             endTime  \\\n",
       "0     u16159 2014-12-15 18:11:00 2014-12-15 18:12:00   \n",
       "1     u10253 2014-12-16 14:35:00 2014-12-16 14:41:00   \n",
       "2     u19037 2014-12-01 15:58:00 2014-12-01 15:58:00   \n",
       "3     u14556 2014-11-23 02:57:00 2014-11-23 03:00:00   \n",
       "4     u24295 2014-12-17 16:44:00 2014-12-17 16:46:00   \n",
       "\n",
       "                                         ProductList  gender  \n",
       "0  A00002/B00003/C00006/D28435/;A00002/B00003/C00...  female  \n",
       "1  A00001/B00009/C00031/D29404/;A00001/B00009/C00...    male  \n",
       "2                       A00002/B00001/C00020/D16944/  female  \n",
       "3  A00002/B00004/C00018/D10284/;A00002/B00004/C00...  female  \n",
       "4  A00001/B00001/C00012/D30805/;A00001/B00001/C00...    male  "
      ]
     },
     "execution_count": 9,
     "metadata": {},
     "output_type": "execute_result"
    }
   ],
   "source": [
    "df.head(5)"
   ]
  },
  {
   "cell_type": "markdown",
   "metadata": {},
   "source": [
    " # working with productlist column"
   ]
  },
  {
   "cell_type": "code",
   "execution_count": 10,
   "metadata": {
    "ExecuteTime": {
     "end_time": "2020-04-11T08:40:39.463036Z",
     "start_time": "2020-04-11T08:40:39.440716Z"
    }
   },
   "outputs": [
    {
     "data": {
      "text/html": [
       "<div>\n",
       "<style scoped>\n",
       "    .dataframe tbody tr th:only-of-type {\n",
       "        vertical-align: middle;\n",
       "    }\n",
       "\n",
       "    .dataframe tbody tr th {\n",
       "        vertical-align: top;\n",
       "    }\n",
       "\n",
       "    .dataframe thead th {\n",
       "        text-align: right;\n",
       "    }\n",
       "</style>\n",
       "<table border=\"1\" class=\"dataframe\">\n",
       "  <thead>\n",
       "    <tr style=\"text-align: right;\">\n",
       "      <th></th>\n",
       "      <th>session_id</th>\n",
       "      <th>start_time</th>\n",
       "      <th>end_time</th>\n",
       "      <th>product_list</th>\n",
       "      <th>gender</th>\n",
       "    </tr>\n",
       "  </thead>\n",
       "  <tbody>\n",
       "    <tr>\n",
       "      <th>0</th>\n",
       "      <td>u16159</td>\n",
       "      <td>2014-12-15 18:11:00</td>\n",
       "      <td>2014-12-15 18:12:00</td>\n",
       "      <td>A00002/B00003/C00006/D28435/;A00002/B00003/C00...</td>\n",
       "      <td>female</td>\n",
       "    </tr>\n",
       "  </tbody>\n",
       "</table>\n",
       "</div>"
      ],
      "text/plain": [
       "  session_id          start_time            end_time  \\\n",
       "0     u16159 2014-12-15 18:11:00 2014-12-15 18:12:00   \n",
       "\n",
       "                                        product_list  gender  \n",
       "0  A00002/B00003/C00006/D28435/;A00002/B00003/C00...  female  "
      ]
     },
     "execution_count": 10,
     "metadata": {},
     "output_type": "execute_result"
    }
   ],
   "source": [
    "df.rename(columns={\"ProductList\":\"product_list\",\"startTime\":\"start_time\",\"endTime\":\"end_time\"},inplace=True)\n",
    "df.head(1)"
   ]
  },
  {
   "cell_type": "markdown",
   "metadata": {},
   "source": [
    "# Feature Creation"
   ]
  },
  {
   "cell_type": "code",
   "execution_count": 11,
   "metadata": {
    "ExecuteTime": {
     "end_time": "2020-04-11T08:40:41.033557Z",
     "start_time": "2020-04-11T08:40:41.022045Z"
    }
   },
   "outputs": [
    {
     "data": {
      "text/plain": [
       "(10500, 10500)"
      ]
     },
     "execution_count": 11,
     "metadata": {},
     "output_type": "execute_result"
    }
   ],
   "source": [
    "df.session_id.unique().__len__() , df.__len__()"
   ]
  },
  {
   "cell_type": "markdown",
   "metadata": {},
   "source": [
    "Since same all session ids are uniques that means we can remove this feature."
   ]
  },
  {
   "cell_type": "code",
   "execution_count": 12,
   "metadata": {
    "ExecuteTime": {
     "end_time": "2020-04-11T08:40:43.064113Z",
     "start_time": "2020-04-11T08:40:43.042856Z"
    }
   },
   "outputs": [
    {
     "data": {
      "text/html": [
       "<div>\n",
       "<style scoped>\n",
       "    .dataframe tbody tr th:only-of-type {\n",
       "        vertical-align: middle;\n",
       "    }\n",
       "\n",
       "    .dataframe tbody tr th {\n",
       "        vertical-align: top;\n",
       "    }\n",
       "\n",
       "    .dataframe thead th {\n",
       "        text-align: right;\n",
       "    }\n",
       "</style>\n",
       "<table border=\"1\" class=\"dataframe\">\n",
       "  <thead>\n",
       "    <tr style=\"text-align: right;\">\n",
       "      <th></th>\n",
       "      <th>start_time</th>\n",
       "      <th>end_time</th>\n",
       "      <th>product_list</th>\n",
       "      <th>gender</th>\n",
       "    </tr>\n",
       "  </thead>\n",
       "  <tbody>\n",
       "    <tr>\n",
       "      <th>0</th>\n",
       "      <td>2014-12-15 18:11:00</td>\n",
       "      <td>2014-12-15 18:12:00</td>\n",
       "      <td>A00002/B00003/C00006/D28435/;A00002/B00003/C00...</td>\n",
       "      <td>female</td>\n",
       "    </tr>\n",
       "  </tbody>\n",
       "</table>\n",
       "</div>"
      ],
      "text/plain": [
       "           start_time            end_time  \\\n",
       "0 2014-12-15 18:11:00 2014-12-15 18:12:00   \n",
       "\n",
       "                                        product_list  gender  \n",
       "0  A00002/B00003/C00006/D28435/;A00002/B00003/C00...  female  "
      ]
     },
     "execution_count": 12,
     "metadata": {},
     "output_type": "execute_result"
    }
   ],
   "source": [
    "df.drop(columns=[\"session_id\"],inplace=True)\n",
    "df.head(1)"
   ]
  },
  {
   "cell_type": "code",
   "execution_count": 13,
   "metadata": {
    "ExecuteTime": {
     "end_time": "2020-04-11T08:40:44.344590Z",
     "start_time": "2020-04-11T08:40:44.331576Z"
    }
   },
   "outputs": [
    {
     "name": "stdout",
     "output_type": "stream",
     "text": [
      "<class 'pandas.core.frame.DataFrame'>\n",
      "RangeIndex: 10500 entries, 0 to 10499\n",
      "Data columns (total 4 columns):\n",
      "start_time      10500 non-null datetime64[ns]\n",
      "end_time        10500 non-null datetime64[ns]\n",
      "product_list    10500 non-null object\n",
      "gender          10500 non-null object\n",
      "dtypes: datetime64[ns](2), object(2)\n",
      "memory usage: 328.2+ KB\n"
     ]
    }
   ],
   "source": [
    "df.info()"
   ]
  },
  {
   "cell_type": "markdown",
   "metadata": {},
   "source": [
    "Product list contains list of products viewed by the user in the given session and it also contains the category, sub category, sub-sub category and the product all encoded and separated with a slash symbol. Each consecutive product is separated with a semicolon.\n",
    "\n",
    "A00002/B00003/C00006/D28435/\n",
    "\n",
    "cat/sub-cat/sub-sub-cat/product/"
   ]
  },
  {
   "cell_type": "code",
   "execution_count": 14,
   "metadata": {
    "ExecuteTime": {
     "end_time": "2020-04-11T08:41:07.200321Z",
     "start_time": "2020-04-11T08:41:07.014998Z"
    }
   },
   "outputs": [],
   "source": [
    "for index,value in enumerate([\"cat\" , \"sub-cat\",\"sub-sub-cat\",\"product\"]):\n",
    "    df[value] = df.product_list.apply(lambda x : [i.split(\"/\")[index] for i in x.split(\";\")])\n",
    "df[\"product_count\"] = df[\"product\"].apply(len)"
   ]
  },
  {
   "cell_type": "code",
   "execution_count": 15,
   "metadata": {
    "ExecuteTime": {
     "end_time": "2020-04-11T08:41:08.475241Z",
     "start_time": "2020-04-11T08:41:08.454462Z"
    }
   },
   "outputs": [
    {
     "data": {
      "text/html": [
       "<div>\n",
       "<style scoped>\n",
       "    .dataframe tbody tr th:only-of-type {\n",
       "        vertical-align: middle;\n",
       "    }\n",
       "\n",
       "    .dataframe tbody tr th {\n",
       "        vertical-align: top;\n",
       "    }\n",
       "\n",
       "    .dataframe thead th {\n",
       "        text-align: right;\n",
       "    }\n",
       "</style>\n",
       "<table border=\"1\" class=\"dataframe\">\n",
       "  <thead>\n",
       "    <tr style=\"text-align: right;\">\n",
       "      <th></th>\n",
       "      <th>start_time</th>\n",
       "      <th>end_time</th>\n",
       "      <th>product_list</th>\n",
       "      <th>gender</th>\n",
       "      <th>cat</th>\n",
       "      <th>sub-cat</th>\n",
       "      <th>sub-sub-cat</th>\n",
       "      <th>product</th>\n",
       "      <th>product_count</th>\n",
       "    </tr>\n",
       "  </thead>\n",
       "  <tbody>\n",
       "    <tr>\n",
       "      <th>0</th>\n",
       "      <td>2014-12-15 18:11:00</td>\n",
       "      <td>2014-12-15 18:12:00</td>\n",
       "      <td>A00002/B00003/C00006/D28435/;A00002/B00003/C00...</td>\n",
       "      <td>female</td>\n",
       "      <td>[A00002, A00002, A00002, A00002]</td>\n",
       "      <td>[B00003, B00003, B00003, B00003]</td>\n",
       "      <td>[C00006, C00006, C00006, C00006]</td>\n",
       "      <td>[D28435, D02554, D28436, D28437]</td>\n",
       "      <td>4</td>\n",
       "    </tr>\n",
       "  </tbody>\n",
       "</table>\n",
       "</div>"
      ],
      "text/plain": [
       "           start_time            end_time  \\\n",
       "0 2014-12-15 18:11:00 2014-12-15 18:12:00   \n",
       "\n",
       "                                        product_list  gender  \\\n",
       "0  A00002/B00003/C00006/D28435/;A00002/B00003/C00...  female   \n",
       "\n",
       "                                cat                           sub-cat  \\\n",
       "0  [A00002, A00002, A00002, A00002]  [B00003, B00003, B00003, B00003]   \n",
       "\n",
       "                        sub-sub-cat                           product  \\\n",
       "0  [C00006, C00006, C00006, C00006]  [D28435, D02554, D28436, D28437]   \n",
       "\n",
       "   product_count  \n",
       "0              4  "
      ]
     },
     "execution_count": 15,
     "metadata": {},
     "output_type": "execute_result"
    }
   ],
   "source": [
    "df.head(1)"
   ]
  },
  {
   "cell_type": "code",
   "execution_count": 16,
   "metadata": {
    "ExecuteTime": {
     "end_time": "2020-04-10T12:27:17.461933Z",
     "start_time": "2020-04-10T12:27:17.371524Z"
    }
   },
   "outputs": [],
   "source": [
    "df[\"duration_mins\"] = (df.end_time-df.start_time).dt.total_seconds()/60"
   ]
  },
  {
   "cell_type": "code",
   "execution_count": 17,
   "metadata": {
    "ExecuteTime": {
     "end_time": "2020-04-10T12:27:17.575242Z",
     "start_time": "2020-04-10T12:27:17.465603Z"
    }
   },
   "outputs": [
    {
     "data": {
      "text/html": [
       "<div>\n",
       "<style scoped>\n",
       "    .dataframe tbody tr th:only-of-type {\n",
       "        vertical-align: middle;\n",
       "    }\n",
       "\n",
       "    .dataframe tbody tr th {\n",
       "        vertical-align: top;\n",
       "    }\n",
       "\n",
       "    .dataframe thead th {\n",
       "        text-align: right;\n",
       "    }\n",
       "</style>\n",
       "<table border=\"1\" class=\"dataframe\">\n",
       "  <thead>\n",
       "    <tr style=\"text-align: right;\">\n",
       "      <th></th>\n",
       "      <th>start_time</th>\n",
       "      <th>end_time</th>\n",
       "      <th>product_list</th>\n",
       "      <th>gender</th>\n",
       "      <th>cat</th>\n",
       "      <th>sub-cat</th>\n",
       "      <th>sub-sub-cat</th>\n",
       "      <th>product</th>\n",
       "      <th>product_count</th>\n",
       "      <th>duration_mins</th>\n",
       "    </tr>\n",
       "  </thead>\n",
       "  <tbody>\n",
       "    <tr>\n",
       "      <th>0</th>\n",
       "      <td>2014-12-15 18:11:00</td>\n",
       "      <td>2014-12-15 18:12:00</td>\n",
       "      <td>A00002/B00003/C00006/D28435/;A00002/B00003/C00...</td>\n",
       "      <td>female</td>\n",
       "      <td>[A00002, A00002, A00002, A00002]</td>\n",
       "      <td>[B00003, B00003, B00003, B00003]</td>\n",
       "      <td>[C00006, C00006, C00006, C00006]</td>\n",
       "      <td>[D28435, D02554, D28436, D28437]</td>\n",
       "      <td>4</td>\n",
       "      <td>1.0</td>\n",
       "    </tr>\n",
       "  </tbody>\n",
       "</table>\n",
       "</div>"
      ],
      "text/plain": [
       "           start_time            end_time  \\\n",
       "0 2014-12-15 18:11:00 2014-12-15 18:12:00   \n",
       "\n",
       "                                        product_list  gender  \\\n",
       "0  A00002/B00003/C00006/D28435/;A00002/B00003/C00...  female   \n",
       "\n",
       "                                cat                           sub-cat  \\\n",
       "0  [A00002, A00002, A00002, A00002]  [B00003, B00003, B00003, B00003]   \n",
       "\n",
       "                        sub-sub-cat                           product  \\\n",
       "0  [C00006, C00006, C00006, C00006]  [D28435, D02554, D28436, D28437]   \n",
       "\n",
       "   product_count  duration_mins  \n",
       "0              4            1.0  "
      ]
     },
     "execution_count": 17,
     "metadata": {},
     "output_type": "execute_result"
    }
   ],
   "source": [
    "df.head(1)"
   ]
  },
  {
   "cell_type": "code",
   "execution_count": 80,
   "metadata": {
    "ExecuteTime": {
     "end_time": "2020-04-10T13:24:41.860298Z",
     "start_time": "2020-04-10T13:24:41.104288Z"
    }
   },
   "outputs": [
    {
     "data": {
      "text/plain": [
       "<matplotlib.legend.Legend at 0x7fbb9f3dbc18>"
      ]
     },
     "execution_count": 80,
     "metadata": {},
     "output_type": "execute_result"
    },
    {
     "data": {
      "image/png": "[encoded data removed]",
      "text/plain": [
       "<Figure size 504x504 with 1 Axes>"
      ]
     },
     "metadata": {
      "needs_background": "light"
     },
     "output_type": "display_data"
    }
   ],
   "source": [
    "fig,ax = plt.subplots(figsize=(7,7))\n",
    "sns.distplot(df[df.gender==\"female\"].product_count,label=\"female\", hist=True,ax=ax,kde=False)\n",
    "sns.distplot(df[df.gender==\"male\"].product_count,label=\"male\",hist=True,ax=ax,kde=False)\n",
    "plt.legend()"
   ]
  },
  {
   "cell_type": "code",
   "execution_count": 195,
   "metadata": {
    "ExecuteTime": {
     "end_time": "2020-04-10T14:17:22.971500Z",
     "start_time": "2020-04-10T14:17:19.229532Z"
    }
   },
   "outputs": [
    {
     "data": {
      "text/plain": [
       "<matplotlib.axes._subplots.AxesSubplot at 0x7fbb9c3b14a8>"
      ]
     },
     "execution_count": 195,
     "metadata": {},
     "output_type": "execute_result"
    },
    {
     "data": {
      "image/png": "[encoded data removed]",
      "text/plain": [
       "<Figure size 720x720 with 1 Axes>"
      ]
     },
     "metadata": {
      "needs_background": "light"
     },
     "output_type": "display_data"
    }
   ],
   "source": [
    "from collections import Counter\n",
    "c_m = Counter()\n",
    "c_f = Counter()\n",
    "for index,rows in df.iterrows():\n",
    "    if rows[\"gender\"] == \"female\":\n",
    "        c_f.update(rows[\"cat\"])\n",
    "    else:\n",
    "        c_m.update(rows[\"cat\"])\n",
    "a = pd.DataFrame(c_m.items())\n",
    "a[\"gender\"]=\"male\"\n",
    "a\n",
    "b = pd.DataFrame(c_f.items())\n",
    "b[\"gender\"] = \"female\"\n",
    "a = pd.concat([a,b],axis=0).rename(columns={0:\"cat\",1:\"count\"})\n",
    "a[\"count\"] = np.log10(a[\"count\"])\n",
    "fig,ax = plt.subplots(figsize=(10,10))\n",
    "sns.barplot(x=\"cat\",y=\"count\",hue=\"gender\",data=a,ax=ax)"
   ]
  },
  {
   "cell_type": "code",
   "execution_count": 209,
   "metadata": {
    "ExecuteTime": {
     "end_time": "2020-04-10T14:29:38.591569Z",
     "start_time": "2020-04-10T14:29:35.886803Z"
    }
   },
   "outputs": [],
   "source": [
    "from collections import Counter\n",
    "c_m = Counter()\n",
    "c_f = Counter()\n",
    "for index,rows in df.iterrows():\n",
    "    a = [f\"{i}-{j}\"for i , j in zip(rows[\"cat\"],rows[\"sub-cat\"])]\n",
    "    if rows[\"gender\"] == \"female\":\n",
    "        c_f.update(a)\n",
    "    else:\n",
    "        c_m.update(a)"
   ]
  },
  {
   "cell_type": "code",
   "execution_count": 334,
   "metadata": {
    "ExecuteTime": {
     "end_time": "2020-04-10T18:27:29.262129Z",
     "start_time": "2020-04-10T18:27:29.248659Z"
    }
   },
   "outputs": [
    {
     "name": "stdout",
     "output_type": "stream",
     "text": [
      "A00003-B00080 1\n",
      "A00009-B00075 2\n",
      "A00009-B00089 1\n",
      "A00003-B00079 4\n",
      "A00010-B00072 1\n",
      "A00005-B00040 9\n",
      "A00009-B00064 2\n",
      "A00006-B00061 2\n",
      "A00003-B00048 5\n",
      "A00003-B00058 13\n",
      "A00003-B00008 14\n",
      "A00010-B00076 7\n",
      "A00009-B00067 1\n",
      "A00009-B00073 2\n",
      "A00003-B00039 41\n"
     ]
    }
   ],
   "source": [
    "for i in set(c_f)-set(c_m):\n",
    "    print(i , c_f[i])"
   ]
  },
  {
   "cell_type": "code",
   "execution_count": 229,
   "metadata": {
    "ExecuteTime": {
     "end_time": "2020-04-10T15:54:59.301967Z",
     "start_time": "2020-04-10T15:54:59.287986Z"
    }
   },
   "outputs": [],
   "source": [
    "df_day = df[df.duration_mins<3600]"
   ]
  },
  {
   "cell_type": "code",
   "execution_count": null,
   "metadata": {},
   "outputs": [],
   "source": [
    "# total data points 10500\n",
    "# 67 data points end_date-start_date > 24 hrs"
   ]
  },
  {
   "cell_type": "code",
   "execution_count": 236,
   "metadata": {
    "ExecuteTime": {
     "end_time": "2020-04-10T16:18:38.400151Z",
     "start_time": "2020-04-10T16:18:38.357643Z"
    }
   },
   "outputs": [
    {
     "data": {
      "text/html": [
       "<div>\n",
       "<style scoped>\n",
       "    .dataframe tbody tr th:only-of-type {\n",
       "        vertical-align: middle;\n",
       "    }\n",
       "\n",
       "    .dataframe tbody tr th {\n",
       "        vertical-align: top;\n",
       "    }\n",
       "\n",
       "    .dataframe thead th {\n",
       "        text-align: right;\n",
       "    }\n",
       "</style>\n",
       "<table border=\"1\" class=\"dataframe\">\n",
       "  <thead>\n",
       "    <tr style=\"text-align: right;\">\n",
       "      <th></th>\n",
       "      <th>start_time</th>\n",
       "      <th>end_time</th>\n",
       "      <th>product_list</th>\n",
       "      <th>gender</th>\n",
       "      <th>cat</th>\n",
       "      <th>sub-cat</th>\n",
       "      <th>sub-sub-cat</th>\n",
       "      <th>product</th>\n",
       "      <th>product_count</th>\n",
       "      <th>duration_mins</th>\n",
       "      <th>month</th>\n",
       "    </tr>\n",
       "  </thead>\n",
       "  <tbody>\n",
       "    <tr>\n",
       "      <th>0</th>\n",
       "      <td>2014-12-15 18:11:00</td>\n",
       "      <td>2014-12-15 18:12:00</td>\n",
       "      <td>A00002/B00003/C00006/D28435/;A00002/B00003/C00...</td>\n",
       "      <td>female</td>\n",
       "      <td>[A00002, A00002, A00002, A00002]</td>\n",
       "      <td>[B00003, B00003, B00003, B00003]</td>\n",
       "      <td>[C00006, C00006, C00006, C00006]</td>\n",
       "      <td>[D28435, D02554, D28436, D28437]</td>\n",
       "      <td>4</td>\n",
       "      <td>1.0</td>\n",
       "      <td>12</td>\n",
       "    </tr>\n",
       "    <tr>\n",
       "      <th>1</th>\n",
       "      <td>2014-12-16 14:35:00</td>\n",
       "      <td>2014-12-16 14:41:00</td>\n",
       "      <td>A00001/B00009/C00031/D29404/;A00001/B00009/C00...</td>\n",
       "      <td>male</td>\n",
       "      <td>[A00001, A00001, A00001, A00001, A00001, A0000...</td>\n",
       "      <td>[B00009, B00009, B00009, B00009, B00009, B0000...</td>\n",
       "      <td>[C00031, C00031, C00031, C00031, C00031, C0003...</td>\n",
       "      <td>[D29404, D02617, D29407, D29410, D29411, D2544...</td>\n",
       "      <td>7</td>\n",
       "      <td>6.0</td>\n",
       "      <td>12</td>\n",
       "    </tr>\n",
       "    <tr>\n",
       "      <th>2</th>\n",
       "      <td>2014-12-01 15:58:00</td>\n",
       "      <td>2014-12-01 15:58:00</td>\n",
       "      <td>A00002/B00001/C00020/D16944/</td>\n",
       "      <td>female</td>\n",
       "      <td>[A00002]</td>\n",
       "      <td>[B00001]</td>\n",
       "      <td>[C00020]</td>\n",
       "      <td>[D16944]</td>\n",
       "      <td>1</td>\n",
       "      <td>0.0</td>\n",
       "      <td>12</td>\n",
       "    </tr>\n",
       "    <tr>\n",
       "      <th>3</th>\n",
       "      <td>2014-11-23 02:57:00</td>\n",
       "      <td>2014-11-23 03:00:00</td>\n",
       "      <td>A00002/B00004/C00018/D10284/;A00002/B00004/C00...</td>\n",
       "      <td>female</td>\n",
       "      <td>[A00002, A00002, A00002]</td>\n",
       "      <td>[B00004, B00004, B00004]</td>\n",
       "      <td>[C00018, C00018, C00018]</td>\n",
       "      <td>[D10284, D10285, D10286]</td>\n",
       "      <td>3</td>\n",
       "      <td>3.0</td>\n",
       "      <td>11</td>\n",
       "    </tr>\n",
       "    <tr>\n",
       "      <th>4</th>\n",
       "      <td>2014-12-17 16:44:00</td>\n",
       "      <td>2014-12-17 16:46:00</td>\n",
       "      <td>A00001/B00001/C00012/D30805/;A00001/B00001/C00...</td>\n",
       "      <td>male</td>\n",
       "      <td>[A00001, A00001]</td>\n",
       "      <td>[B00001, B00001]</td>\n",
       "      <td>[C00012, C00012]</td>\n",
       "      <td>[D30805, D30806]</td>\n",
       "      <td>2</td>\n",
       "      <td>2.0</td>\n",
       "      <td>12</td>\n",
       "    </tr>\n",
       "  </tbody>\n",
       "</table>\n",
       "</div>"
      ],
      "text/plain": [
       "           start_time            end_time  \\\n",
       "0 2014-12-15 18:11:00 2014-12-15 18:12:00   \n",
       "1 2014-12-16 14:35:00 2014-12-16 14:41:00   \n",
       "2 2014-12-01 15:58:00 2014-12-01 15:58:00   \n",
       "3 2014-11-23 02:57:00 2014-11-23 03:00:00   \n",
       "4 2014-12-17 16:44:00 2014-12-17 16:46:00   \n",
       "\n",
       "                                        product_list  gender  \\\n",
       "0  A00002/B00003/C00006/D28435/;A00002/B00003/C00...  female   \n",
       "1  A00001/B00009/C00031/D29404/;A00001/B00009/C00...    male   \n",
       "2                       A00002/B00001/C00020/D16944/  female   \n",
       "3  A00002/B00004/C00018/D10284/;A00002/B00004/C00...  female   \n",
       "4  A00001/B00001/C00012/D30805/;A00001/B00001/C00...    male   \n",
       "\n",
       "                                                 cat  \\\n",
       "0                   [A00002, A00002, A00002, A00002]   \n",
       "1  [A00001, A00001, A00001, A00001, A00001, A0000...   \n",
       "2                                           [A00002]   \n",
       "3                           [A00002, A00002, A00002]   \n",
       "4                                   [A00001, A00001]   \n",
       "\n",
       "                                             sub-cat  \\\n",
       "0                   [B00003, B00003, B00003, B00003]   \n",
       "1  [B00009, B00009, B00009, B00009, B00009, B0000...   \n",
       "2                                           [B00001]   \n",
       "3                           [B00004, B00004, B00004]   \n",
       "4                                   [B00001, B00001]   \n",
       "\n",
       "                                         sub-sub-cat  \\\n",
       "0                   [C00006, C00006, C00006, C00006]   \n",
       "1  [C00031, C00031, C00031, C00031, C00031, C0003...   \n",
       "2                                           [C00020]   \n",
       "3                           [C00018, C00018, C00018]   \n",
       "4                                   [C00012, C00012]   \n",
       "\n",
       "                                             product  product_count  \\\n",
       "0                   [D28435, D02554, D28436, D28437]              4   \n",
       "1  [D29404, D02617, D29407, D29410, D29411, D2544...              7   \n",
       "2                                           [D16944]              1   \n",
       "3                           [D10284, D10285, D10286]              3   \n",
       "4                                   [D30805, D30806]              2   \n",
       "\n",
       "   duration_mins  month  \n",
       "0            1.0     12  \n",
       "1            6.0     12  \n",
       "2            0.0     12  \n",
       "3            3.0     11  \n",
       "4            2.0     12  "
      ]
     },
     "execution_count": 236,
     "metadata": {},
     "output_type": "execute_result"
    }
   ],
   "source": [
    "df_day[\"month\"] = df_day.start_time.dt.month\n",
    "df_day.head()"
   ]
  },
  {
   "cell_type": "code",
   "execution_count": 258,
   "metadata": {
    "ExecuteTime": {
     "end_time": "2020-04-10T16:29:42.101867Z",
     "start_time": "2020-04-10T16:29:42.066247Z"
    }
   },
   "outputs": [
    {
     "data": {
      "text/plain": [
       "Monday       1531\n",
       "Friday       1503\n",
       "Saturday     1453\n",
       "Tuesday      1290\n",
       "Sunday        918\n",
       "Wednesday     802\n",
       "Thursday      650\n",
       "Name: start_time, dtype: int64"
      ]
     },
     "execution_count": 258,
     "metadata": {},
     "output_type": "execute_result"
    }
   ],
   "source": [
    "df_day[df_day.gender==\"female\"][\"start_time\"].dt.day_name().value_counts()"
   ]
  },
  {
   "cell_type": "code",
   "execution_count": 259,
   "metadata": {
    "ExecuteTime": {
     "end_time": "2020-04-10T16:29:49.555260Z",
     "start_time": "2020-04-10T16:29:49.529902Z"
    }
   },
   "outputs": [
    {
     "data": {
      "text/plain": [
       "Monday       426\n",
       "Friday       407\n",
       "Sunday       368\n",
       "Saturday     364\n",
       "Tuesday      339\n",
       "Wednesday    237\n",
       "Thursday     145\n",
       "Name: start_time, dtype: int64"
      ]
     },
     "execution_count": 259,
     "metadata": {},
     "output_type": "execute_result"
    }
   ],
   "source": [
    "df_day[df_day.gender==\"male\"][\"start_time\"].dt.day_name().value_counts()"
   ]
  },
  {
   "cell_type": "code",
   "execution_count": 265,
   "metadata": {
    "ExecuteTime": {
     "end_time": "2020-04-10T16:35:54.029975Z",
     "start_time": "2020-04-10T16:35:54.008736Z"
    }
   },
   "outputs": [
    {
     "data": {
      "text/plain": [
       "False    2226\n",
       "True       60\n",
       "Name: start_time, dtype: int64"
      ]
     },
     "execution_count": 265,
     "metadata": {},
     "output_type": "execute_result"
    }
   ],
   "source": [
    "df_day[df_day.gender==\"male\"].start_time.dt.is_month_start.value_counts()"
   ]
  },
  {
   "cell_type": "code",
   "execution_count": 266,
   "metadata": {
    "ExecuteTime": {
     "end_time": "2020-04-10T16:36:02.786955Z",
     "start_time": "2020-04-10T16:36:02.758428Z"
    }
   },
   "outputs": [
    {
     "data": {
      "text/plain": [
       "False    7858\n",
       "True      289\n",
       "Name: start_time, dtype: int64"
      ]
     },
     "execution_count": 266,
     "metadata": {},
     "output_type": "execute_result"
    }
   ],
   "source": [
    "df_day[df_day.gender==\"female\"].start_time.dt.is_month_start.value_counts()"
   ]
  },
  {
   "cell_type": "code",
   "execution_count": 267,
   "metadata": {
    "ExecuteTime": {
     "end_time": "2020-04-10T16:37:35.544491Z",
     "start_time": "2020-04-10T16:37:35.521600Z"
    }
   },
   "outputs": [
    {
     "data": {
      "text/plain": [
       "51    2027\n",
       "50    1454\n",
       "49    1308\n",
       "48    1166\n",
       "47    1128\n",
       "46     760\n",
       "52     304\n",
       "Name: start_time, dtype: int64"
      ]
     },
     "execution_count": 267,
     "metadata": {},
     "output_type": "execute_result"
    }
   ],
   "source": [
    "df_day[df_day.gender==\"female\"].start_time.dt.weekofyear.value_counts()"
   ]
  },
  {
   "cell_type": "code",
   "execution_count": 273,
   "metadata": {
    "ExecuteTime": {
     "end_time": "2020-04-10T16:41:25.753808Z",
     "start_time": "2020-04-10T16:41:25.729073Z"
    }
   },
   "outputs": [
    {
     "data": {
      "text/plain": [
       "51    549\n",
       "50    397\n",
       "47    389\n",
       "49    322\n",
       "48    299\n",
       "46    220\n",
       "52    110\n",
       "Name: start_time, dtype: int64"
      ]
     },
     "execution_count": 273,
     "metadata": {},
     "output_type": "execute_result"
    }
   ],
   "source": [
    "df_day[df_day.gender==\"male\"].start_time.dt.weekofyear.value_counts()"
   ]
  },
  {
   "cell_type": "code",
   "execution_count": 279,
   "metadata": {
    "ExecuteTime": {
     "end_time": "2020-04-10T17:16:02.395935Z",
     "start_time": "2020-04-10T17:16:02.360194Z"
    }
   },
   "outputs": [
    {
     "data": {
      "text/plain": [
       "356    110\n",
       "343     97\n",
       "330     94\n",
       "353     91\n",
       "342     90\n",
       "352     90\n",
       "349     86\n",
       "318     85\n",
       "351     85\n",
       "320     83\n",
       "348     81\n",
       "321     80\n",
       "350     80\n",
       "339     78\n",
       "341     77\n",
       "340     74\n",
       "322     72\n",
       "329     71\n",
       "346     70\n",
       "326     69\n",
       "327     68\n",
       "354     64\n",
       "335     60\n",
       "347     59\n",
       "325     56\n",
       "331     55\n",
       "355     53\n",
       "319     52\n",
       "333     46\n",
       "323     44\n",
       "332     27\n",
       "336     19\n",
       "337     14\n",
       "334      6\n",
       "Name: start_time, dtype: int64"
      ]
     },
     "execution_count": 279,
     "metadata": {},
     "output_type": "execute_result"
    }
   ],
   "source": [
    "df_day[df_day.gender==\"male\"].start_time.dt.dayofyear.value_counts()"
   ]
  },
  {
   "cell_type": "code",
   "execution_count": 277,
   "metadata": {
    "ExecuteTime": {
     "end_time": "2020-04-10T16:43:48.047364Z",
     "start_time": "2020-04-10T16:43:47.954479Z"
    }
   },
   "outputs": [
    {
     "data": {
      "text/plain": [
       "06/12    354\n",
       "18/12    354\n",
       "08/12    350\n",
       "16/12    342\n",
       "14/11    342\n",
       "09/12    337\n",
       "17/12    328\n",
       "15/12    317\n",
       "22/12    304\n",
       "13/12    298\n",
       "19/12    298\n",
       "27/11    296\n",
       "12/12    292\n",
       "01/12    289\n",
       "17/11    271\n",
       "26/11    269\n",
       "07/12    247\n",
       "25/11    246\n",
       "18/11    246\n",
       "15/11    235\n",
       "05/12    230\n",
       "20/12    227\n",
       "28/11    184\n",
       "16/11    183\n",
       "22/11    180\n",
       "14/12    177\n",
       "21/12    161\n",
       "29/11    159\n",
       "21/11    157\n",
       "23/11    138\n",
       "19/11    136\n",
       "02/12    119\n",
       "03/12     69\n",
       "30/11     12\n",
       "Name: start_time, dtype: int64"
      ]
     },
     "execution_count": 277,
     "metadata": {},
     "output_type": "execute_result"
    }
   ],
   "source": [
    "df_day[df_day.gender==\"female\"].start_time.dt.strftime(\"%d/%m\").value_counts()"
   ]
  },
  {
   "cell_type": "code",
   "execution_count": 322,
   "metadata": {
    "ExecuteTime": {
     "end_time": "2020-04-10T17:46:43.564640Z",
     "start_time": "2020-04-10T17:46:43.528021Z"
    }
   },
   "outputs": [],
   "source": [
    "a = df_day.groupby(pd.Grouper(key = \"start_time\",freq=\"6H\"))"
   ]
  },
  {
   "cell_type": "code",
   "execution_count": 337,
   "metadata": {
    "ExecuteTime": {
     "end_time": "2020-04-10T18:43:36.631277Z",
     "start_time": "2020-04-10T18:43:36.306794Z"
    }
   },
   "outputs": [
    {
     "data": {
      "text/plain": [
       "start_time           gender\n",
       "2014-11-14 00:00:00  female     23\n",
       "                     male        8\n",
       "2014-11-14 06:00:00  female     99\n",
       "                     male       26\n",
       "2014-11-14 12:00:00  female    140\n",
       "                              ... \n",
       "2014-12-22 06:00:00  male       22\n",
       "2014-12-22 12:00:00  female    125\n",
       "                     male       30\n",
       "2014-12-22 18:00:00  female     74\n",
       "                     male       56\n",
       "Name: start_time, Length: 260, dtype: int64"
      ]
     },
     "execution_count": 337,
     "metadata": {},
     "output_type": "execute_result"
    }
   ],
   "source": [
    "a.apply(lambda x : x.groupby(by=\"gender\").start_time.count())"
   ]
  },
  {
   "cell_type": "code",
   "execution_count": 342,
   "metadata": {
    "ExecuteTime": {
     "end_time": "2020-04-10T18:48:36.186952Z",
     "start_time": "2020-04-10T18:48:36.032940Z"
    }
   },
   "outputs": [],
   "source": [
    "df_day[\"st\"] = pd.to_datetime(df_day.start_time.dt.strftime(\"%H:%M\"),format=\"%H:%M\")"
   ]
  },
  {
   "cell_type": "code",
   "execution_count": 349,
   "metadata": {
    "ExecuteTime": {
     "end_time": "2020-04-10T19:00:21.623107Z",
     "start_time": "2020-04-10T19:00:21.492788Z"
    }
   },
   "outputs": [
    {
     "data": {
      "text/html": [
       "<div>\n",
       "<style scoped>\n",
       "    .dataframe tbody tr th:only-of-type {\n",
       "        vertical-align: middle;\n",
       "    }\n",
       "\n",
       "    .dataframe tbody tr th {\n",
       "        vertical-align: top;\n",
       "    }\n",
       "\n",
       "    .dataframe thead th {\n",
       "        text-align: right;\n",
       "    }\n",
       "</style>\n",
       "<table border=\"1\" class=\"dataframe\">\n",
       "  <thead>\n",
       "    <tr style=\"text-align: right;\">\n",
       "      <th></th>\n",
       "      <th></th>\n",
       "      <th>start_time</th>\n",
       "      <th>end_time</th>\n",
       "      <th>product_list</th>\n",
       "      <th>cat</th>\n",
       "      <th>sub-cat</th>\n",
       "      <th>sub-sub-cat</th>\n",
       "      <th>product</th>\n",
       "      <th>product_count</th>\n",
       "      <th>duration_mins</th>\n",
       "      <th>month</th>\n",
       "      <th>st</th>\n",
       "    </tr>\n",
       "    <tr>\n",
       "      <th>st</th>\n",
       "      <th>gender</th>\n",
       "      <th></th>\n",
       "      <th></th>\n",
       "      <th></th>\n",
       "      <th></th>\n",
       "      <th></th>\n",
       "      <th></th>\n",
       "      <th></th>\n",
       "      <th></th>\n",
       "      <th></th>\n",
       "      <th></th>\n",
       "      <th></th>\n",
       "    </tr>\n",
       "  </thead>\n",
       "  <tbody>\n",
       "    <tr>\n",
       "      <th rowspan=\"2\" valign=\"top\">1900-01-01 00:00:00</th>\n",
       "      <th>female</th>\n",
       "      <td>145</td>\n",
       "      <td>145</td>\n",
       "      <td>145</td>\n",
       "      <td>145</td>\n",
       "      <td>145</td>\n",
       "      <td>145</td>\n",
       "      <td>145</td>\n",
       "      <td>145</td>\n",
       "      <td>145</td>\n",
       "      <td>145</td>\n",
       "      <td>145</td>\n",
       "    </tr>\n",
       "    <tr>\n",
       "      <th>male</th>\n",
       "      <td>68</td>\n",
       "      <td>68</td>\n",
       "      <td>68</td>\n",
       "      <td>68</td>\n",
       "      <td>68</td>\n",
       "      <td>68</td>\n",
       "      <td>68</td>\n",
       "      <td>68</td>\n",
       "      <td>68</td>\n",
       "      <td>68</td>\n",
       "      <td>68</td>\n",
       "    </tr>\n",
       "    <tr>\n",
       "      <th rowspan=\"2\" valign=\"top\">1900-01-01 02:00:00</th>\n",
       "      <th>female</th>\n",
       "      <td>41</td>\n",
       "      <td>41</td>\n",
       "      <td>41</td>\n",
       "      <td>41</td>\n",
       "      <td>41</td>\n",
       "      <td>41</td>\n",
       "      <td>41</td>\n",
       "      <td>41</td>\n",
       "      <td>41</td>\n",
       "      <td>41</td>\n",
       "      <td>41</td>\n",
       "    </tr>\n",
       "    <tr>\n",
       "      <th>male</th>\n",
       "      <td>25</td>\n",
       "      <td>25</td>\n",
       "      <td>25</td>\n",
       "      <td>25</td>\n",
       "      <td>25</td>\n",
       "      <td>25</td>\n",
       "      <td>25</td>\n",
       "      <td>25</td>\n",
       "      <td>25</td>\n",
       "      <td>25</td>\n",
       "      <td>25</td>\n",
       "    </tr>\n",
       "    <tr>\n",
       "      <th rowspan=\"2\" valign=\"top\">1900-01-01 04:00:00</th>\n",
       "      <th>female</th>\n",
       "      <td>50</td>\n",
       "      <td>50</td>\n",
       "      <td>50</td>\n",
       "      <td>50</td>\n",
       "      <td>50</td>\n",
       "      <td>50</td>\n",
       "      <td>50</td>\n",
       "      <td>50</td>\n",
       "      <td>50</td>\n",
       "      <td>50</td>\n",
       "      <td>50</td>\n",
       "    </tr>\n",
       "    <tr>\n",
       "      <th>male</th>\n",
       "      <td>27</td>\n",
       "      <td>27</td>\n",
       "      <td>27</td>\n",
       "      <td>27</td>\n",
       "      <td>27</td>\n",
       "      <td>27</td>\n",
       "      <td>27</td>\n",
       "      <td>27</td>\n",
       "      <td>27</td>\n",
       "      <td>27</td>\n",
       "      <td>27</td>\n",
       "    </tr>\n",
       "    <tr>\n",
       "      <th rowspan=\"2\" valign=\"top\">1900-01-01 06:00:00</th>\n",
       "      <th>female</th>\n",
       "      <td>222</td>\n",
       "      <td>222</td>\n",
       "      <td>222</td>\n",
       "      <td>222</td>\n",
       "      <td>222</td>\n",
       "      <td>222</td>\n",
       "      <td>222</td>\n",
       "      <td>222</td>\n",
       "      <td>222</td>\n",
       "      <td>222</td>\n",
       "      <td>222</td>\n",
       "    </tr>\n",
       "    <tr>\n",
       "      <th>male</th>\n",
       "      <td>86</td>\n",
       "      <td>86</td>\n",
       "      <td>86</td>\n",
       "      <td>86</td>\n",
       "      <td>86</td>\n",
       "      <td>86</td>\n",
       "      <td>86</td>\n",
       "      <td>86</td>\n",
       "      <td>86</td>\n",
       "      <td>86</td>\n",
       "      <td>86</td>\n",
       "    </tr>\n",
       "    <tr>\n",
       "      <th rowspan=\"2\" valign=\"top\">1900-01-01 08:00:00</th>\n",
       "      <th>female</th>\n",
       "      <td>1098</td>\n",
       "      <td>1098</td>\n",
       "      <td>1098</td>\n",
       "      <td>1098</td>\n",
       "      <td>1098</td>\n",
       "      <td>1098</td>\n",
       "      <td>1098</td>\n",
       "      <td>1098</td>\n",
       "      <td>1098</td>\n",
       "      <td>1098</td>\n",
       "      <td>1098</td>\n",
       "    </tr>\n",
       "    <tr>\n",
       "      <th>male</th>\n",
       "      <td>195</td>\n",
       "      <td>195</td>\n",
       "      <td>195</td>\n",
       "      <td>195</td>\n",
       "      <td>195</td>\n",
       "      <td>195</td>\n",
       "      <td>195</td>\n",
       "      <td>195</td>\n",
       "      <td>195</td>\n",
       "      <td>195</td>\n",
       "      <td>195</td>\n",
       "    </tr>\n",
       "    <tr>\n",
       "      <th rowspan=\"2\" valign=\"top\">1900-01-01 10:00:00</th>\n",
       "      <th>female</th>\n",
       "      <td>1233</td>\n",
       "      <td>1233</td>\n",
       "      <td>1233</td>\n",
       "      <td>1233</td>\n",
       "      <td>1233</td>\n",
       "      <td>1233</td>\n",
       "      <td>1233</td>\n",
       "      <td>1233</td>\n",
       "      <td>1233</td>\n",
       "      <td>1233</td>\n",
       "      <td>1233</td>\n",
       "    </tr>\n",
       "    <tr>\n",
       "      <th>male</th>\n",
       "      <td>301</td>\n",
       "      <td>301</td>\n",
       "      <td>301</td>\n",
       "      <td>301</td>\n",
       "      <td>301</td>\n",
       "      <td>301</td>\n",
       "      <td>301</td>\n",
       "      <td>301</td>\n",
       "      <td>301</td>\n",
       "      <td>301</td>\n",
       "      <td>301</td>\n",
       "    </tr>\n",
       "    <tr>\n",
       "      <th rowspan=\"2\" valign=\"top\">1900-01-01 12:00:00</th>\n",
       "      <th>female</th>\n",
       "      <td>1067</td>\n",
       "      <td>1067</td>\n",
       "      <td>1067</td>\n",
       "      <td>1067</td>\n",
       "      <td>1067</td>\n",
       "      <td>1067</td>\n",
       "      <td>1067</td>\n",
       "      <td>1067</td>\n",
       "      <td>1067</td>\n",
       "      <td>1067</td>\n",
       "      <td>1067</td>\n",
       "    </tr>\n",
       "    <tr>\n",
       "      <th>male</th>\n",
       "      <td>233</td>\n",
       "      <td>233</td>\n",
       "      <td>233</td>\n",
       "      <td>233</td>\n",
       "      <td>233</td>\n",
       "      <td>233</td>\n",
       "      <td>233</td>\n",
       "      <td>233</td>\n",
       "      <td>233</td>\n",
       "      <td>233</td>\n",
       "      <td>233</td>\n",
       "    </tr>\n",
       "    <tr>\n",
       "      <th rowspan=\"2\" valign=\"top\">1900-01-01 14:00:00</th>\n",
       "      <th>female</th>\n",
       "      <td>1282</td>\n",
       "      <td>1282</td>\n",
       "      <td>1282</td>\n",
       "      <td>1282</td>\n",
       "      <td>1282</td>\n",
       "      <td>1282</td>\n",
       "      <td>1282</td>\n",
       "      <td>1282</td>\n",
       "      <td>1282</td>\n",
       "      <td>1282</td>\n",
       "      <td>1282</td>\n",
       "    </tr>\n",
       "    <tr>\n",
       "      <th>male</th>\n",
       "      <td>278</td>\n",
       "      <td>278</td>\n",
       "      <td>278</td>\n",
       "      <td>278</td>\n",
       "      <td>278</td>\n",
       "      <td>278</td>\n",
       "      <td>278</td>\n",
       "      <td>278</td>\n",
       "      <td>278</td>\n",
       "      <td>278</td>\n",
       "      <td>278</td>\n",
       "    </tr>\n",
       "    <tr>\n",
       "      <th rowspan=\"2\" valign=\"top\">1900-01-01 16:00:00</th>\n",
       "      <th>female</th>\n",
       "      <td>803</td>\n",
       "      <td>803</td>\n",
       "      <td>803</td>\n",
       "      <td>803</td>\n",
       "      <td>803</td>\n",
       "      <td>803</td>\n",
       "      <td>803</td>\n",
       "      <td>803</td>\n",
       "      <td>803</td>\n",
       "      <td>803</td>\n",
       "      <td>803</td>\n",
       "    </tr>\n",
       "    <tr>\n",
       "      <th>male</th>\n",
       "      <td>237</td>\n",
       "      <td>237</td>\n",
       "      <td>237</td>\n",
       "      <td>237</td>\n",
       "      <td>237</td>\n",
       "      <td>237</td>\n",
       "      <td>237</td>\n",
       "      <td>237</td>\n",
       "      <td>237</td>\n",
       "      <td>237</td>\n",
       "      <td>237</td>\n",
       "    </tr>\n",
       "    <tr>\n",
       "      <th rowspan=\"2\" valign=\"top\">1900-01-01 18:00:00</th>\n",
       "      <th>female</th>\n",
       "      <td>596</td>\n",
       "      <td>596</td>\n",
       "      <td>596</td>\n",
       "      <td>596</td>\n",
       "      <td>596</td>\n",
       "      <td>596</td>\n",
       "      <td>596</td>\n",
       "      <td>596</td>\n",
       "      <td>596</td>\n",
       "      <td>596</td>\n",
       "      <td>596</td>\n",
       "    </tr>\n",
       "    <tr>\n",
       "      <th>male</th>\n",
       "      <td>253</td>\n",
       "      <td>253</td>\n",
       "      <td>253</td>\n",
       "      <td>253</td>\n",
       "      <td>253</td>\n",
       "      <td>253</td>\n",
       "      <td>253</td>\n",
       "      <td>253</td>\n",
       "      <td>253</td>\n",
       "      <td>253</td>\n",
       "      <td>253</td>\n",
       "    </tr>\n",
       "    <tr>\n",
       "      <th rowspan=\"2\" valign=\"top\">1900-01-01 20:00:00</th>\n",
       "      <th>female</th>\n",
       "      <td>969</td>\n",
       "      <td>969</td>\n",
       "      <td>969</td>\n",
       "      <td>969</td>\n",
       "      <td>969</td>\n",
       "      <td>969</td>\n",
       "      <td>969</td>\n",
       "      <td>969</td>\n",
       "      <td>969</td>\n",
       "      <td>969</td>\n",
       "      <td>969</td>\n",
       "    </tr>\n",
       "    <tr>\n",
       "      <th>male</th>\n",
       "      <td>377</td>\n",
       "      <td>377</td>\n",
       "      <td>377</td>\n",
       "      <td>377</td>\n",
       "      <td>377</td>\n",
       "      <td>377</td>\n",
       "      <td>377</td>\n",
       "      <td>377</td>\n",
       "      <td>377</td>\n",
       "      <td>377</td>\n",
       "      <td>377</td>\n",
       "    </tr>\n",
       "    <tr>\n",
       "      <th rowspan=\"2\" valign=\"top\">1900-01-01 22:00:00</th>\n",
       "      <th>female</th>\n",
       "      <td>641</td>\n",
       "      <td>641</td>\n",
       "      <td>641</td>\n",
       "      <td>641</td>\n",
       "      <td>641</td>\n",
       "      <td>641</td>\n",
       "      <td>641</td>\n",
       "      <td>641</td>\n",
       "      <td>641</td>\n",
       "      <td>641</td>\n",
       "      <td>641</td>\n",
       "    </tr>\n",
       "    <tr>\n",
       "      <th>male</th>\n",
       "      <td>206</td>\n",
       "      <td>206</td>\n",
       "      <td>206</td>\n",
       "      <td>206</td>\n",
       "      <td>206</td>\n",
       "      <td>206</td>\n",
       "      <td>206</td>\n",
       "      <td>206</td>\n",
       "      <td>206</td>\n",
       "      <td>206</td>\n",
       "      <td>206</td>\n",
       "    </tr>\n",
       "  </tbody>\n",
       "</table>\n",
       "</div>"
      ],
      "text/plain": [
       "                            start_time  end_time  product_list   cat  sub-cat  \\\n",
       "st                  gender                                                      \n",
       "1900-01-01 00:00:00 female         145       145           145   145      145   \n",
       "                    male            68        68            68    68       68   \n",
       "1900-01-01 02:00:00 female          41        41            41    41       41   \n",
       "                    male            25        25            25    25       25   \n",
       "1900-01-01 04:00:00 female          50        50            50    50       50   \n",
       "                    male            27        27            27    27       27   \n",
       "1900-01-01 06:00:00 female         222       222           222   222      222   \n",
       "                    male            86        86            86    86       86   \n",
       "1900-01-01 08:00:00 female        1098      1098          1098  1098     1098   \n",
       "                    male           195       195           195   195      195   \n",
       "1900-01-01 10:00:00 female        1233      1233          1233  1233     1233   \n",
       "                    male           301       301           301   301      301   \n",
       "1900-01-01 12:00:00 female        1067      1067          1067  1067     1067   \n",
       "                    male           233       233           233   233      233   \n",
       "1900-01-01 14:00:00 female        1282      1282          1282  1282     1282   \n",
       "                    male           278       278           278   278      278   \n",
       "1900-01-01 16:00:00 female         803       803           803   803      803   \n",
       "                    male           237       237           237   237      237   \n",
       "1900-01-01 18:00:00 female         596       596           596   596      596   \n",
       "                    male           253       253           253   253      253   \n",
       "1900-01-01 20:00:00 female         969       969           969   969      969   \n",
       "                    male           377       377           377   377      377   \n",
       "1900-01-01 22:00:00 female         641       641           641   641      641   \n",
       "                    male           206       206           206   206      206   \n",
       "\n",
       "                            sub-sub-cat  product  product_count  \\\n",
       "st                  gender                                        \n",
       "1900-01-01 00:00:00 female          145      145            145   \n",
       "                    male             68       68             68   \n",
       "1900-01-01 02:00:00 female           41       41             41   \n",
       "                    male             25       25             25   \n",
       "1900-01-01 04:00:00 female           50       50             50   \n",
       "                    male             27       27             27   \n",
       "1900-01-01 06:00:00 female          222      222            222   \n",
       "                    male             86       86             86   \n",
       "1900-01-01 08:00:00 female         1098     1098           1098   \n",
       "                    male            195      195            195   \n",
       "1900-01-01 10:00:00 female         1233     1233           1233   \n",
       "                    male            301      301            301   \n",
       "1900-01-01 12:00:00 female         1067     1067           1067   \n",
       "                    male            233      233            233   \n",
       "1900-01-01 14:00:00 female         1282     1282           1282   \n",
       "                    male            278      278            278   \n",
       "1900-01-01 16:00:00 female          803      803            803   \n",
       "                    male            237      237            237   \n",
       "1900-01-01 18:00:00 female          596      596            596   \n",
       "                    male            253      253            253   \n",
       "1900-01-01 20:00:00 female          969      969            969   \n",
       "                    male            377      377            377   \n",
       "1900-01-01 22:00:00 female          641      641            641   \n",
       "                    male            206      206            206   \n",
       "\n",
       "                            duration_mins  month    st  \n",
       "st                  gender                              \n",
       "1900-01-01 00:00:00 female            145    145   145  \n",
       "                    male               68     68    68  \n",
       "1900-01-01 02:00:00 female             41     41    41  \n",
       "                    male               25     25    25  \n",
       "1900-01-01 04:00:00 female             50     50    50  \n",
       "                    male               27     27    27  \n",
       "1900-01-01 06:00:00 female            222    222   222  \n",
       "                    male               86     86    86  \n",
       "1900-01-01 08:00:00 female           1098   1098  1098  \n",
       "                    male              195    195   195  \n",
       "1900-01-01 10:00:00 female           1233   1233  1233  \n",
       "                    male              301    301   301  \n",
       "1900-01-01 12:00:00 female           1067   1067  1067  \n",
       "                    male              233    233   233  \n",
       "1900-01-01 14:00:00 female           1282   1282  1282  \n",
       "                    male              278    278   278  \n",
       "1900-01-01 16:00:00 female            803    803   803  \n",
       "                    male              237    237   237  \n",
       "1900-01-01 18:00:00 female            596    596   596  \n",
       "                    male              253    253   253  \n",
       "1900-01-01 20:00:00 female            969    969   969  \n",
       "                    male              377    377   377  \n",
       "1900-01-01 22:00:00 female            641    641   641  \n",
       "                    male              206    206   206  "
      ]
     },
     "execution_count": 349,
     "metadata": {},
     "output_type": "execute_result"
    }
   ],
   "source": [
    "df_day.groupby(pd.Grouper(key = \"st\",freq=\"H\")).apply(lambda x : x.groupby(by=\"gender\").start_time.count())"
   ]
  },
  {
   "cell_type": "code",
   "execution_count": null,
   "metadata": {},
   "outputs": [],
   "source": []
  }
 ],
 "metadata": {
  "kernelspec": {
   "display_name": "Python 3",
   "language": "python",
   "name": "python3"
  },
  "language_info": {
   "codemirror_mode": {
    "name": "ipython",
    "version": 3
   },
   "file_extension": ".py",
   "mimetype": "text/x-python",
   "name": "python",
   "nbconvert_exporter": "python",
   "pygments_lexer": "ipython3",
   "version": "3.6.9"
  },
  "toc": {
   "base_numbering": 1,
   "nav_menu": {},
   "number_sections": true,
   "sideBar": true,
   "skip_h1_title": false,
   "title_cell": "Table of Contents",
   "title_sidebar": "Contents",
   "toc_cell": false,
   "toc_position": {},
   "toc_section_display": true,
   "toc_window_display": false
  }
 },
 "nbformat": 4,
 "nbformat_minor": 2
}

{
 "cells": [
  {
   "cell_type": "code",
   "execution_count": 1,
   "metadata": {
    "ExecuteTime": {
     "end_time": "2020-04-10T10:23:07.883867Z",
     "start_time": "2020-04-10T10:23:06.002944Z"
    }
   },
   "outputs": [],
   "source": [
    "import pandas as pd\n",
    "import datetime\n",
    "import numpy as np\n",
    "import seaborn as sns\n",
    "import matplotlib.pyplot as plt\n",
    "from functools import reduce"
   ]
  },
  {
   "cell_type": "code",
   "execution_count": 2,
   "metadata": {
    "ExecuteTime": {
     "end_time": "2020-04-10T10:23:07.983208Z",
     "start_time": "2020-04-10T10:23:07.889658Z"
    }
   },
   "outputs": [
    {
     "data": {
      "text/html": [
       "<div>\n",
       "<style scoped>\n",
       "    .dataframe tbody tr th:only-of-type {\n",
       "        vertical-align: middle;\n",
       "    }\n",
       "\n",
       "    .dataframe tbody tr th {\n",
       "        vertical-align: top;\n",
       "    }\n",
       "\n",
       "    .dataframe thead th {\n",
       "        text-align: right;\n",
       "    }\n",
       "</style>\n",
       "<table border=\"1\" class=\"dataframe\">\n",
       "  <thead>\n",
       "    <tr style=\"text-align: right;\">\n",
       "      <th></th>\n",
       "      <th>session_id</th>\n",
       "      <th>startTime</th>\n",
       "      <th>endTime</th>\n",
       "      <th>ProductList</th>\n",
       "      <th>gender</th>\n",
       "    </tr>\n",
       "  </thead>\n",
       "  <tbody>\n",
       "    <tr>\n",
       "      <th>2511</th>\n",
       "      <td>u21698</td>\n",
       "      <td>22/12/14 12:53</td>\n",
       "      <td>22/12/14 12:54</td>\n",
       "      <td>A00002/B00007/C00017/D20066/</td>\n",
       "      <td>female</td>\n",
       "    </tr>\n",
       "    <tr>\n",
       "      <th>8253</th>\n",
       "      <td>u23350</td>\n",
       "      <td>12/12/14 22:16</td>\n",
       "      <td>12/12/14 22:16</td>\n",
       "      <td>A00001/B00001/C00019/D25468/;A00001/B00001/C00...</td>\n",
       "      <td>male</td>\n",
       "    </tr>\n",
       "    <tr>\n",
       "      <th>1237</th>\n",
       "      <td>u21227</td>\n",
       "      <td>06/12/14 17:12</td>\n",
       "      <td>06/12/14 17:12</td>\n",
       "      <td>A00002/B00003/C00014/D20077/</td>\n",
       "      <td>female</td>\n",
       "    </tr>\n",
       "    <tr>\n",
       "      <th>5114</th>\n",
       "      <td>u20939</td>\n",
       "      <td>06/12/14 11:03</td>\n",
       "      <td>06/12/14 11:04</td>\n",
       "      <td>A00003/B00026/C00306/D19266/;A00003/B00026/C00...</td>\n",
       "      <td>female</td>\n",
       "    </tr>\n",
       "    <tr>\n",
       "      <th>9562</th>\n",
       "      <td>u23127</td>\n",
       "      <td>16/12/14 10:52</td>\n",
       "      <td>16/12/14 10:57</td>\n",
       "      <td>A00002/B00007/C00021/D28776/;A00002/B00003/C00...</td>\n",
       "      <td>female</td>\n",
       "    </tr>\n",
       "    <tr>\n",
       "      <th>7959</th>\n",
       "      <td>u19982</td>\n",
       "      <td>03/12/14 20:40</td>\n",
       "      <td>03/12/14 20:44</td>\n",
       "      <td>A00001/B00001/C00019/D18089/;A00001/B00001/C00...</td>\n",
       "      <td>male</td>\n",
       "    </tr>\n",
       "    <tr>\n",
       "      <th>9635</th>\n",
       "      <td>u11404</td>\n",
       "      <td>18/11/14 10:58</td>\n",
       "      <td>18/11/14 10:58</td>\n",
       "      <td>A00001/B00001/C00029/D06605/</td>\n",
       "      <td>female</td>\n",
       "    </tr>\n",
       "    <tr>\n",
       "      <th>7575</th>\n",
       "      <td>u17322</td>\n",
       "      <td>12/12/14 11:05</td>\n",
       "      <td>12/12/14 11:09</td>\n",
       "      <td>A00002/B00003/C00005/D17897/;A00002/B00003/C00...</td>\n",
       "      <td>female</td>\n",
       "    </tr>\n",
       "    <tr>\n",
       "      <th>3941</th>\n",
       "      <td>u24396</td>\n",
       "      <td>18/12/14 11:18</td>\n",
       "      <td>18/12/14 11:18</td>\n",
       "      <td>A00003/B00022/C00036/D31516/</td>\n",
       "      <td>female</td>\n",
       "    </tr>\n",
       "    <tr>\n",
       "      <th>459</th>\n",
       "      <td>u18463</td>\n",
       "      <td>29/11/14 12:58</td>\n",
       "      <td>29/11/14 13:00</td>\n",
       "      <td>A00001/B00009/C00032/D15536/;A00001/B00031/C00...</td>\n",
       "      <td>male</td>\n",
       "    </tr>\n",
       "  </tbody>\n",
       "</table>\n",
       "</div>"
      ],
      "text/plain": [
       "     session_id       startTime         endTime  \\\n",
       "2511     u21698  22/12/14 12:53  22/12/14 12:54   \n",
       "8253     u23350  12/12/14 22:16  12/12/14 22:16   \n",
       "1237     u21227  06/12/14 17:12  06/12/14 17:12   \n",
       "5114     u20939  06/12/14 11:03  06/12/14 11:04   \n",
       "9562     u23127  16/12/14 10:52  16/12/14 10:57   \n",
       "7959     u19982  03/12/14 20:40  03/12/14 20:44   \n",
       "9635     u11404  18/11/14 10:58  18/11/14 10:58   \n",
       "7575     u17322  12/12/14 11:05  12/12/14 11:09   \n",
       "3941     u24396  18/12/14 11:18  18/12/14 11:18   \n",
       "459      u18463  29/11/14 12:58  29/11/14 13:00   \n",
       "\n",
       "                                            ProductList  gender  \n",
       "2511                       A00002/B00007/C00017/D20066/  female  \n",
       "8253  A00001/B00001/C00019/D25468/;A00001/B00001/C00...    male  \n",
       "1237                       A00002/B00003/C00014/D20077/  female  \n",
       "5114  A00003/B00026/C00306/D19266/;A00003/B00026/C00...  female  \n",
       "9562  A00002/B00007/C00021/D28776/;A00002/B00003/C00...  female  \n",
       "7959  A00001/B00001/C00019/D18089/;A00001/B00001/C00...    male  \n",
       "9635                       A00001/B00001/C00029/D06605/  female  \n",
       "7575  A00002/B00003/C00005/D17897/;A00002/B00003/C00...  female  \n",
       "3941                       A00003/B00022/C00036/D31516/  female  \n",
       "459   A00001/B00009/C00032/D15536/;A00001/B00031/C00...    male  "
      ]
     },
     "execution_count": 2,
     "metadata": {},
     "output_type": "execute_result"
    }
   ],
   "source": [
    "df = pd.read_csv(\"train_8wry4cB.csv\")\n",
    "df.sample(10)"
   ]
  },
  {
   "cell_type": "markdown",
   "metadata": {},
   "source": [
    "# Check the number of rows and null values"
   ]
  },
  {
   "cell_type": "code",
   "execution_count": 3,
   "metadata": {
    "ExecuteTime": {
     "end_time": "2020-04-10T10:23:08.070673Z",
     "start_time": "2020-04-10T10:23:07.987180Z"
    }
   },
   "outputs": [
    {
     "name": "stdout",
     "output_type": "stream",
     "text": [
      "Number of rows 10500\n"
     ]
    }
   ],
   "source": [
    "print(f\"Number of rows {df.__len__()}\")"
   ]
  },
  {
   "cell_type": "code",
   "execution_count": 4,
   "metadata": {
    "ExecuteTime": {
     "end_time": "2020-04-10T10:23:08.181868Z",
     "start_time": "2020-04-10T10:23:08.075872Z"
    }
   },
   "outputs": [
    {
     "data": {
      "text/plain": [
       "session_id     True\n",
       "startTime      True\n",
       "endTime        True\n",
       "ProductList    True\n",
       "gender         True\n",
       "dtype: bool"
      ]
     },
     "execution_count": 4,
     "metadata": {},
     "output_type": "execute_result"
    }
   ],
   "source": [
    "df.notna().all(axis=0)"
   ]
  },
  {
   "cell_type": "markdown",
   "metadata": {},
   "source": [
    "since all the columns returns postive value that means no missing values are there."
   ]
  },
  {
   "cell_type": "markdown",
   "metadata": {
    "ExecuteTime": {
     "end_time": "2020-04-10T09:03:00.764665Z",
     "start_time": "2020-04-10T09:03:00.671941Z"
    }
   },
   "source": [
    "# Target distribution"
   ]
  },
  {
   "cell_type": "code",
   "execution_count": 5,
   "metadata": {
    "ExecuteTime": {
     "end_time": "2020-04-10T10:23:08.337659Z",
     "start_time": "2020-04-10T10:23:08.186596Z"
    }
   },
   "outputs": [
    {
     "data": {
      "text/plain": [
       "female    8192\n",
       "male      2308\n",
       "Name: gender, dtype: int64"
      ]
     },
     "execution_count": 5,
     "metadata": {},
     "output_type": "execute_result"
    }
   ],
   "source": [
    "df.gender.value_counts() # count"
   ]
  },
  {
   "cell_type": "code",
   "execution_count": 6,
   "metadata": {
    "ExecuteTime": {
     "end_time": "2020-04-10T10:23:08.519443Z",
     "start_time": "2020-04-10T10:23:08.346912Z"
    }
   },
   "outputs": [
    {
     "data": {
      "text/plain": [
       "female    78.02\n",
       "male      21.98\n",
       "Name: gender, dtype: float64"
      ]
     },
     "execution_count": 6,
     "metadata": {},
     "output_type": "execute_result"
    }
   ],
   "source": [
    "(df.gender.value_counts() *100 / df.__len__()).round(2) # percentage distribution"
   ]
  },
  {
   "cell_type": "markdown",
   "metadata": {},
   "source": [
    "# Converting date in standard format"
   ]
  },
  {
   "cell_type": "code",
   "execution_count": 7,
   "metadata": {
    "ExecuteTime": {
     "end_time": "2020-04-10T10:23:08.648174Z",
     "start_time": "2020-04-10T10:23:08.524620Z"
    }
   },
   "outputs": [],
   "source": [
    "def standard_datetime(column,format: str =\"%d/%m/%y %H:%M\"):\n",
    "    \"\"\"parses a string representation of datetime into an datetime object with the given format\n",
    "    \n",
    "    Args:\n",
    "        column (Dataframe or series or str): The pandas series on which the string will be parsed to datetime object.\n",
    "        format : The format for the parser. \n",
    "        \n",
    "    Returns:\n",
    "        Dataframe or series of Datetime objects\n",
    "        \n",
    "    References:\n",
    "        https://docs.python.org/2/library/datetime.html#strftime-strptime-behavior\n",
    "\n",
    "    \"\"\"\n",
    "    return pd.to_datetime(column , format=format)"
   ]
  },
  {
   "cell_type": "code",
   "execution_count": 8,
   "metadata": {
    "ExecuteTime": {
     "end_time": "2020-04-10T10:23:09.002476Z",
     "start_time": "2020-04-10T10:23:08.652974Z"
    }
   },
   "outputs": [],
   "source": [
    "df.startTime = standard_datetime(df.startTime)\n",
    "df.endTime = standard_datetime(df.endTime)\n"
   ]
  },
  {
   "cell_type": "code",
   "execution_count": 9,
   "metadata": {
    "ExecuteTime": {
     "end_time": "2020-04-10T10:23:09.047439Z",
     "start_time": "2020-04-10T10:23:09.006521Z"
    }
   },
   "outputs": [
    {
     "data": {
      "text/html": [
       "<div>\n",
       "<style scoped>\n",
       "    .dataframe tbody tr th:only-of-type {\n",
       "        vertical-align: middle;\n",
       "    }\n",
       "\n",
       "    .dataframe tbody tr th {\n",
       "        vertical-align: top;\n",
       "    }\n",
       "\n",
       "    .dataframe thead th {\n",
       "        text-align: right;\n",
       "    }\n",
       "</style>\n",
       "<table border=\"1\" class=\"dataframe\">\n",
       "  <thead>\n",
       "    <tr style=\"text-align: right;\">\n",
       "      <th></th>\n",
       "      <th>session_id</th>\n",
       "      <th>startTime</th>\n",
       "      <th>endTime</th>\n",
       "      <th>ProductList</th>\n",
       "      <th>gender</th>\n",
       "    </tr>\n",
       "  </thead>\n",
       "  <tbody>\n",
       "    <tr>\n",
       "      <th>0</th>\n",
       "      <td>u16159</td>\n",
       "      <td>2014-12-15 18:11:00</td>\n",
       "      <td>2014-12-15 18:12:00</td>\n",
       "      <td>A00002/B00003/C00006/D28435/;A00002/B00003/C00...</td>\n",
       "      <td>female</td>\n",
       "    </tr>\n",
       "    <tr>\n",
       "      <th>1</th>\n",
       "      <td>u10253</td>\n",
       "      <td>2014-12-16 14:35:00</td>\n",
       "      <td>2014-12-16 14:41:00</td>\n",
       "      <td>A00001/B00009/C00031/D29404/;A00001/B00009/C00...</td>\n",
       "      <td>male</td>\n",
       "    </tr>\n",
       "    <tr>\n",
       "      <th>2</th>\n",
       "      <td>u19037</td>\n",
       "      <td>2014-12-01 15:58:00</td>\n",
       "      <td>2014-12-01 15:58:00</td>\n",
       "      <td>A00002/B00001/C00020/D16944/</td>\n",
       "      <td>female</td>\n",
       "    </tr>\n",
       "    <tr>\n",
       "      <th>3</th>\n",
       "      <td>u14556</td>\n",
       "      <td>2014-11-23 02:57:00</td>\n",
       "      <td>2014-11-23 03:00:00</td>\n",
       "      <td>A00002/B00004/C00018/D10284/;A00002/B00004/C00...</td>\n",
       "      <td>female</td>\n",
       "    </tr>\n",
       "    <tr>\n",
       "      <th>4</th>\n",
       "      <td>u24295</td>\n",
       "      <td>2014-12-17 16:44:00</td>\n",
       "      <td>2014-12-17 16:46:00</td>\n",
       "      <td>A00001/B00001/C00012/D30805/;A00001/B00001/C00...</td>\n",
       "      <td>male</td>\n",
       "    </tr>\n",
       "  </tbody>\n",
       "</table>\n",
       "</div>"
      ],
      "text/plain": [
       "  session_id           startTime             endTime  \\\n",
       "0     u16159 2014-12-15 18:11:00 2014-12-15 18:12:00   \n",
       "1     u10253 2014-12-16 14:35:00 2014-12-16 14:41:00   \n",
       "2     u19037 2014-12-01 15:58:00 2014-12-01 15:58:00   \n",
       "3     u14556 2014-11-23 02:57:00 2014-11-23 03:00:00   \n",
       "4     u24295 2014-12-17 16:44:00 2014-12-17 16:46:00   \n",
       "\n",
       "                                         ProductList  gender  \n",
       "0  A00002/B00003/C00006/D28435/;A00002/B00003/C00...  female  \n",
       "1  A00001/B00009/C00031/D29404/;A00001/B00009/C00...    male  \n",
       "2                       A00002/B00001/C00020/D16944/  female  \n",
       "3  A00002/B00004/C00018/D10284/;A00002/B00004/C00...  female  \n",
       "4  A00001/B00001/C00012/D30805/;A00001/B00001/C00...    male  "
      ]
     },
     "execution_count": 9,
     "metadata": {},
     "output_type": "execute_result"
    }
   ],
   "source": [
    "df.head(5)"
   ]
  },
  {
   "cell_type": "markdown",
   "metadata": {},
   "source": [
    " # working with productlist column"
   ]
  },
  {
   "cell_type": "code",
   "execution_count": 10,
   "metadata": {
    "ExecuteTime": {
     "end_time": "2020-04-10T10:23:09.177247Z",
     "start_time": "2020-04-10T10:23:09.056465Z"
    }
   },
   "outputs": [
    {
     "data": {
      "text/html": [
       "<div>\n",
       "<style scoped>\n",
       "    .dataframe tbody tr th:only-of-type {\n",
       "        vertical-align: middle;\n",
       "    }\n",
       "\n",
       "    .dataframe tbody tr th {\n",
       "        vertical-align: top;\n",
       "    }\n",
       "\n",
       "    .dataframe thead th {\n",
       "        text-align: right;\n",
       "    }\n",
       "</style>\n",
       "<table border=\"1\" class=\"dataframe\">\n",
       "  <thead>\n",
       "    <tr style=\"text-align: right;\">\n",
       "      <th></th>\n",
       "      <th>session_id</th>\n",
       "      <th>start_time</th>\n",
       "      <th>end_time</th>\n",
       "      <th>product_list</th>\n",
       "      <th>gender</th>\n",
       "    </tr>\n",
       "  </thead>\n",
       "  <tbody>\n",
       "    <tr>\n",
       "      <th>0</th>\n",
       "      <td>u16159</td>\n",
       "      <td>2014-12-15 18:11:00</td>\n",
       "      <td>2014-12-15 18:12:00</td>\n",
       "      <td>A00002/B00003/C00006/D28435/;A00002/B00003/C00...</td>\n",
       "      <td>female</td>\n",
       "    </tr>\n",
       "  </tbody>\n",
       "</table>\n",
       "</div>"
      ],
      "text/plain": [
       "  session_id          start_time            end_time  \\\n",
       "0     u16159 2014-12-15 18:11:00 2014-12-15 18:12:00   \n",
       "\n",
       "                                        product_list  gender  \n",
       "0  A00002/B00003/C00006/D28435/;A00002/B00003/C00...  female  "
      ]
     },
     "execution_count": 10,
     "metadata": {},
     "output_type": "execute_result"
    }
   ],
   "source": [
    "df.rename(columns={\"ProductList\":\"product_list\",\"startTime\":\"start_time\",\"endTime\":\"end_time\"},inplace=True)\n",
    "df.head(1)"
   ]
  },
  {
   "cell_type": "markdown",
   "metadata": {},
   "source": [
    "# Feature Creation"
   ]
  },
  {
   "cell_type": "code",
   "execution_count": 11,
   "metadata": {
    "ExecuteTime": {
     "end_time": "2020-04-10T10:23:09.303148Z",
     "start_time": "2020-04-10T10:23:09.181777Z"
    }
   },
   "outputs": [
    {
     "data": {
      "text/plain": [
       "(10500, 10500)"
      ]
     },
     "execution_count": 11,
     "metadata": {},
     "output_type": "execute_result"
    }
   ],
   "source": [
    "df.session_id.unique().__len__() , df.__len__()"
   ]
  },
  {
   "cell_type": "markdown",
   "metadata": {},
   "source": [
    "Since same all session ids are uniques that means we can remove this feature."
   ]
  },
  {
   "cell_type": "code",
   "execution_count": 12,
   "metadata": {
    "ExecuteTime": {
     "end_time": "2020-04-10T10:23:09.448490Z",
     "start_time": "2020-04-10T10:23:09.307635Z"
    }
   },
   "outputs": [
    {
     "data": {
      "text/html": [
       "<div>\n",
       "<style scoped>\n",
       "    .dataframe tbody tr th:only-of-type {\n",
       "        vertical-align: middle;\n",
       "    }\n",
       "\n",
       "    .dataframe tbody tr th {\n",
       "        vertical-align: top;\n",
       "    }\n",
       "\n",
       "    .dataframe thead th {\n",
       "        text-align: right;\n",
       "    }\n",
       "</style>\n",
       "<table border=\"1\" class=\"dataframe\">\n",
       "  <thead>\n",
       "    <tr style=\"text-align: right;\">\n",
       "      <th></th>\n",
       "      <th>start_time</th>\n",
       "      <th>end_time</th>\n",
       "      <th>product_list</th>\n",
       "      <th>gender</th>\n",
       "    </tr>\n",
       "  </thead>\n",
       "  <tbody>\n",
       "    <tr>\n",
       "      <th>0</th>\n",
       "      <td>2014-12-15 18:11:00</td>\n",
       "      <td>2014-12-15 18:12:00</td>\n",
       "      <td>A00002/B00003/C00006/D28435/;A00002/B00003/C00...</td>\n",
       "      <td>female</td>\n",
       "    </tr>\n",
       "  </tbody>\n",
       "</table>\n",
       "</div>"
      ],
      "text/plain": [
       "           start_time            end_time  \\\n",
       "0 2014-12-15 18:11:00 2014-12-15 18:12:00   \n",
       "\n",
       "                                        product_list  gender  \n",
       "0  A00002/B00003/C00006/D28435/;A00002/B00003/C00...  female  "
      ]
     },
     "execution_count": 12,
     "metadata": {},
     "output_type": "execute_result"
    }
   ],
   "source": [
    "df.drop(columns=[\"session_id\"],inplace=True)\n",
    "df.head(1)"
   ]
  },
  {
   "cell_type": "markdown",
   "metadata": {},
   "source": [
    "Product list contains list of products viewed by the user in the given session and it also contains the category, sub category, sub-sub category and the product all encoded and separated with a slash symbol. Each consecutive product is separated with a semicolon.\n",
    "\n",
    "A00002/B00003/C00006/D28435/\n",
    "\n",
    "cat/sub-cat/sub-sub-cat/product/"
   ]
  },
  {
   "cell_type": "code",
   "execution_count": 13,
   "metadata": {
    "ExecuteTime": {
     "end_time": "2020-04-10T10:23:09.590809Z",
     "start_time": "2020-04-10T10:23:09.452587Z"
    }
   },
   "outputs": [
    {
     "data": {
      "text/html": [
       "<div>\n",
       "<style scoped>\n",
       "    .dataframe tbody tr th:only-of-type {\n",
       "        vertical-align: middle;\n",
       "    }\n",
       "\n",
       "    .dataframe tbody tr th {\n",
       "        vertical-align: top;\n",
       "    }\n",
       "\n",
       "    .dataframe thead th {\n",
       "        text-align: right;\n",
       "    }\n",
       "</style>\n",
       "<table border=\"1\" class=\"dataframe\">\n",
       "  <thead>\n",
       "    <tr style=\"text-align: right;\">\n",
       "      <th></th>\n",
       "      <th>start_time</th>\n",
       "      <th>end_time</th>\n",
       "      <th>product_list</th>\n",
       "      <th>gender</th>\n",
       "      <th>pl_count</th>\n",
       "    </tr>\n",
       "  </thead>\n",
       "  <tbody>\n",
       "    <tr>\n",
       "      <th>0</th>\n",
       "      <td>2014-12-15 18:11:00</td>\n",
       "      <td>2014-12-15 18:12:00</td>\n",
       "      <td>A00002/B00003/C00006/D28435/;A00002/B00003/C00...</td>\n",
       "      <td>female</td>\n",
       "      <td>4</td>\n",
       "    </tr>\n",
       "  </tbody>\n",
       "</table>\n",
       "</div>"
      ],
      "text/plain": [
       "           start_time            end_time  \\\n",
       "0 2014-12-15 18:11:00 2014-12-15 18:12:00   \n",
       "\n",
       "                                        product_list  gender  pl_count  \n",
       "0  A00002/B00003/C00006/D28435/;A00002/B00003/C00...  female         4  "
      ]
     },
     "execution_count": 13,
     "metadata": {},
     "output_type": "execute_result"
    }
   ],
   "source": [
    "df[\"pl_count\"] = df.product_list.apply(lambda x : x.split(\";\").__len__())\n",
    "df.head(1)"
   ]
  },
  {
   "cell_type": "code",
   "execution_count": 14,
   "metadata": {
    "ExecuteTime": {
     "end_time": "2020-04-10T10:23:09.698864Z",
     "start_time": "2020-04-10T10:23:09.594260Z"
    }
   },
   "outputs": [],
   "source": [
    "def unique_cat(index):\n",
    "    return reduce(lambda x,y : x.union(y),df.product_list.apply(lambda x:set([i.split(\"/\")[index] for i in x.split(\";\")])))"
   ]
  },
  {
   "cell_type": "code",
   "execution_count": 15,
   "metadata": {
    "ExecuteTime": {
     "end_time": "2020-04-10T10:23:09.928683Z",
     "start_time": "2020-04-10T10:23:09.703407Z"
    }
   },
   "outputs": [
    {
     "data": {
      "text/plain": [
       "{'A00001',\n",
       " 'A00002',\n",
       " 'A00003',\n",
       " 'A00004',\n",
       " 'A00005',\n",
       " 'A00006',\n",
       " 'A00007',\n",
       " 'A00008',\n",
       " 'A00009',\n",
       " 'A00010',\n",
       " 'A00011'}"
      ]
     },
     "execution_count": 15,
     "metadata": {},
     "output_type": "execute_result"
    }
   ],
   "source": [
    "unique_cat(0)"
   ]
  },
  {
   "cell_type": "code",
   "execution_count": null,
   "metadata": {},
   "outputs": [],
   "source": []
  }
 ],
 "metadata": {
  "kernelspec": {
   "display_name": "Python 3",
   "language": "python",
   "name": "python3"
  },
  "language_info": {
   "codemirror_mode": {
    "name": "ipython",
    "version": 3
   },
   "file_extension": ".py",
   "mimetype": "text/x-python",
   "name": "python",
   "nbconvert_exporter": "python",
   "pygments_lexer": "ipython3",
   "version": "3.6.9"
  },
  "toc": {
   "base_numbering": 1,
   "nav_menu": {},
   "number_sections": true,
   "sideBar": true,
   "skip_h1_title": false,
   "title_cell": "Table of Contents",
   "title_sidebar": "Contents",
   "toc_cell": false,
   "toc_position": {},
   "toc_section_display": true,
   "toc_window_display": false
  }
 },
 "nbformat": 4,
 "nbformat_minor": 2
}
